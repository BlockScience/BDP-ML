{
 "cells": [
  {
   "cell_type": "markdown",
   "metadata": {},
   "source": [
    "# MNIST BDP\n",
    "\n",
    "The following is a breakdown of the problem of using a supervised learning model on the MNIST dataset. We begin with an empty project and fill it out with the pybdp interface to create an example of a machine learning block diagram for loading MNIST."
   ]
  },
  {
   "cell_type": "code",
   "execution_count": 1,
   "metadata": {},
   "outputs": [],
   "source": [
    "import sys\n",
    "sys.path.append(\"../../pybdp\")\n",
    "from src import pybdp\n",
    "from IPython.display import Markdown\n",
    "from pprint import pprint\n",
    "\n",
    "# Start with an empty project\n",
    "project = pybdp.create_empty_project()"
   ]
  },
  {
   "cell_type": "markdown",
   "metadata": {},
   "source": [
    "## System High Level\n",
    "\n",
    "At the highest level, there is a processor that takes a model in and returns evaluation metrics. This is our \"MNIST Experiment\" processor.\n",
    "\n",
    "We first create the spaces, block and processor then we display it with create_mermaid_graphic and also check out its ports and terminals."
   ]
  },
  {
   "cell_type": "code",
   "execution_count": 2,
   "metadata": {},
   "outputs": [
    {
     "data": {
      "text/markdown": [
       "```mermaid\n",
       "---\n",
       "config:\n",
       "    layout: elk\n",
       "---\n",
       "graph LR\n",
       "subgraph G0[MNIST Experiment - Experiment Block]\n",
       "direction LR\n",
       "X0[MNIST Experiment]\n",
       "subgraph G0P[Ports]\n",
       "direction TB\n",
       "XX0P0[Model]\n",
       "end\n",
       "XX0P0[Model] o--o X0\n",
       "subgraph G0T[Terminals]\n",
       "direction TB\n",
       "XX0T0[Evaluation Metrics]\n",
       "end\n",
       "X0 o--o XX0T0[Evaluation Metrics]\n",
       "end\n",
       "\n",
       "```"
      ],
      "text/plain": [
       "<IPython.core.display.Markdown object>"
      ]
     },
     "metadata": {},
     "output_type": "display_data"
    },
    {
     "name": "stdout",
     "output_type": "stream",
     "text": [
      "Ports:\n",
      "[< Space ID: Model Name: Model >]\n",
      "Terminals:\n",
      "[< Space ID: Evaluation Metrics Name: Evaluation Metrics >]\n"
     ]
    }
   ],
   "source": [
    "# Add the spaces\n",
    "project.add_space(id = \"Model\",\n",
    "                  name = \"Model\",\n",
    "                  description = \"A machine learning model\")\n",
    "project.add_space(id = \"Evaluation Metrics\",\n",
    "                  name = \"Evaluation Metrics\",\n",
    "                  description = \"Metrics for evaluating the model\")\n",
    "\n",
    "# Add the block\n",
    "project.add_block(id=\"Experiment\",\n",
    "                  name=\"Experiment\",\n",
    "                  description=\"A machine learning experiment\",\n",
    "                  domain=[\"Model\"],\n",
    "                  codomain=[\"Evaluation Metrics\"],)\n",
    "\n",
    "# Add the processor\n",
    "project.add_processor(id=\"MNIST Experiment\",\n",
    "                      name=\"MNIST Experiment\",\n",
    "                      description=\"Runs experiments on the MNIST dataset\",\n",
    "                      parent_id=\"Experiment\",)\n",
    "\n",
    "\n",
    "processor = project.processors_map[\"MNIST Experiment\"]\n",
    "processor.display_mermaid_graphic()\n",
    "print(\"Ports:\")\n",
    "print(processor.ports)\n",
    "print(\"Terminals:\")\n",
    "print(processor.terminals)"
   ]
  },
  {
   "cell_type": "markdown",
   "metadata": {},
   "source": [
    "We can also check out if it is a primitive processor or if it has a subsystem attatched. Right now it will be primitive because there is no subsystem but eventually we will transform it to have a subsystem."
   ]
  },
  {
   "cell_type": "code",
   "execution_count": 3,
   "metadata": {},
   "outputs": [
    {
     "name": "stdout",
     "output_type": "stream",
     "text": [
      "True\n"
     ]
    }
   ],
   "source": [
    "print(processor.is_primitive())"
   ]
  },
  {
   "cell_type": "markdown",
   "metadata": {},
   "source": [
    "## Breaking down the Subsystem\n",
    "\n",
    "The first thing to do is further break down our subsystem into two components, which we will describe first by their blocks.\n",
    "\n",
    "### Blocks and Spaces\n",
    "\n",
    "1. **Load Supervised Features Block**: A block for loading datasets which returns X Train, X Test, Y Train and Y Test\n",
    "2. **Supervised Learning Block**: A block representing supervised learning which given the spaces of Model, X Train, X Test, Y Train and Y Test returns Evaluation Metrics"
   ]
  },
  {
   "cell_type": "code",
   "execution_count": 4,
   "metadata": {},
   "outputs": [],
   "source": [
    "# Add spaces\n",
    "project.add_space(id=\"X Train\",\n",
    "                  name=\"X Train\",\n",
    "                  description=\"X training data\")\n",
    "\n",
    "project.add_space(id=\"Y Train\",\n",
    "                  name=\"Y Train\",\n",
    "                  description=\"Y training data\")\n",
    "\n",
    "project.add_space(id=\"X Test\",\n",
    "                  name=\"X Test\",\n",
    "                  description=\"X testing data\")\n",
    "\n",
    "project.add_space(id=\"Y Test\",\n",
    "                  name=\"Y Test\",\n",
    "                  description=\"Y testing data\")\n",
    "\n",
    "# Add the blocks\n",
    "project.add_block(id=\"Load Supervised Features\",\n",
    "                  name=\"Load Supervised Features\",\n",
    "                  description=\"Block for a composite processor of loading supervised features\",\n",
    "                  domain=[],\n",
    "                  codomain=[\n",
    "          \"X Train\",\n",
    "          \"Y Train\",\n",
    "          \"X Test\",\n",
    "          \"Y Test\"\n",
    "        ],)\n",
    "\n",
    "project.add_block(id=\"Supervised Learning\",\n",
    "                  name=\"Supervised Learning\",\n",
    "                  description=\"Block for a composite processor of a supervised learning system with cross validation split\",\n",
    "                  domain=[\n",
    "          \"Model\",\n",
    "          \"X Train\",\n",
    "          \"Y Train\",\n",
    "          \"X Test\",\n",
    "          \"Y Test\"\n",
    "        ],\n",
    "                  codomain=[\"Evaluation Metrics\"],)"
   ]
  },
  {
   "cell_type": "markdown",
   "metadata": {},
   "source": [
    "### Processors\n",
    "\n",
    "Given the two blocks we previously created, we now make the specific processors for MNIST:\n",
    "\n",
    "1. **Load MNIST**: A processor for loading and pre-processing the MNIST dataset\n",
    "2. **Default Supervised Learning**: A processor for conducting default supervised learning based with defaults of the model"
   ]
  },
  {
   "cell_type": "code",
   "execution_count": 5,
   "metadata": {},
   "outputs": [
    {
     "data": {
      "text/markdown": [
       "```mermaid\n",
       "---\n",
       "config:\n",
       "    layout: elk\n",
       "---\n",
       "graph LR\n",
       "subgraph G0[Load MNIST - Load Supervised Features Block]\n",
       "direction LR\n",
       "X0[Load MNIST]\n",
       "subgraph G0P[Ports]\n",
       "direction TB\n",
       "end\n",
       "subgraph G0T[Terminals]\n",
       "direction TB\n",
       "XX0T0[X Train]\n",
       "XX0T1[Y Train]\n",
       "XX0T2[X Test]\n",
       "XX0T3[Y Test]\n",
       "end\n",
       "X0 o--o XX0T0[X Train]\n",
       "X0 o--o XX0T1[Y Train]\n",
       "X0 o--o XX0T2[X Test]\n",
       "X0 o--o XX0T3[Y Test]\n",
       "end\n",
       "\n",
       "```"
      ],
      "text/plain": [
       "<IPython.core.display.Markdown object>"
      ]
     },
     "metadata": {},
     "output_type": "display_data"
    },
    {
     "data": {
      "text/markdown": [
       "```mermaid\n",
       "---\n",
       "config:\n",
       "    layout: elk\n",
       "---\n",
       "graph LR\n",
       "subgraph G0[Default Supervised Learning - Supervised Learning Block]\n",
       "direction LR\n",
       "X0[Default Supervised Learning]\n",
       "subgraph G0P[Ports]\n",
       "direction TB\n",
       "XX0P0[Model]\n",
       "XX0P1[X Train]\n",
       "XX0P2[Y Train]\n",
       "XX0P3[X Test]\n",
       "XX0P4[Y Test]\n",
       "end\n",
       "XX0P0[Model] o--o X0\n",
       "XX0P1[X Train] o--o X0\n",
       "XX0P2[Y Train] o--o X0\n",
       "XX0P3[X Test] o--o X0\n",
       "XX0P4[Y Test] o--o X0\n",
       "subgraph G0T[Terminals]\n",
       "direction TB\n",
       "XX0T0[Evaluation Metrics]\n",
       "end\n",
       "X0 o--o XX0T0[Evaluation Metrics]\n",
       "end\n",
       "\n",
       "```"
      ],
      "text/plain": [
       "<IPython.core.display.Markdown object>"
      ]
     },
     "metadata": {},
     "output_type": "display_data"
    }
   ],
   "source": [
    "# Add processors\n",
    "project.add_processor(id=\"Load MNIST\",\n",
    "                      name=\"Load MNIST\",\n",
    "                      description=\"A processor for loading and pre-processing the MNIST dataset\",\n",
    "                      parent_id=\"Load Supervised Features\",)\n",
    "\n",
    "project.add_processor(id=\"Default Supervised Learning\",\n",
    "                      name=\"Default Supervised Learning\",\n",
    "                      description=\"A processor for conducting default supervised learning based with defaults of the model\",\n",
    "                      parent_id=\"Supervised Learning\",)\n",
    "\n",
    "# Display processors\n",
    "project.processors_map[\"Load MNIST\"].display_mermaid_graphic()\n",
    "project.processors_map[\"Default Supervised Learning\"].display_mermaid_graphic()"
   ]
  },
  {
   "cell_type": "markdown",
   "metadata": {},
   "source": [
    "### Wiring up and Building a System\n",
    "\n",
    "Our next step is to wire up and build a system. One thing we can do is use `find_potential_wires` between the two processors which will return all feasible potential wirings."
   ]
  },
  {
   "cell_type": "code",
   "execution_count": 6,
   "metadata": {},
   "outputs": [
    {
     "data": {
      "text/plain": [
       "{'Ports': [], 'Terminals': []}"
      ]
     },
     "execution_count": 6,
     "metadata": {},
     "output_type": "execute_result"
    }
   ],
   "source": [
    "project.processors_map[\"Load MNIST\"].find_potential_wires(project.processors_map[\"Default Supervised Learning\"])"
   ]
  },
  {
   "cell_type": "code",
   "execution_count": 7,
   "metadata": {},
   "outputs": [
    {
     "data": {
      "text/plain": [
       "({'Description': 'Runs experiments on the MNIST dataset',\n",
       "  'ID': 'MNIST Experiment',\n",
       "  'Name': 'MNIST Experiment',\n",
       "  'Parent': 'Experiment',\n",
       "  'Ports': ['Model'],\n",
       "  'Subsystem': {'Port Mappings': [{'Index': 0,\n",
       "     'Processor': 'Default Supervised Learning'}],\n",
       "   'System ID': 'MNIST Experiment System',\n",
       "   'Terminal Mappings': [{'Index': 0,\n",
       "     'Processor': 'Default Supervised Learning'}]},\n",
       "  'Terminals': ['Evaluation Metrics']},)"
      ]
     },
     "execution_count": 7,
     "metadata": {},
     "output_type": "execute_result"
    }
   ],
   "source": [
    "{\n",
    "                    \"Description\": \"Runs experiments on the MNIST dataset\",\n",
    "                    \"ID\": \"MNIST Experiment\",\n",
    "                    \"Name\": \"MNIST Experiment\",\n",
    "                    \"Parent\": \"Experiment\",\n",
    "                    \"Ports\": [\n",
    "                      \"Model\"\n",
    "                    ],\n",
    "                    \"Subsystem\": {\n",
    "                      \"Port Mappings\": [\n",
    "                        {\n",
    "                          \"Index\": 0,\n",
    "                          \"Processor\": \"Default Supervised Learning\"\n",
    "                        }\n",
    "                      ],\n",
    "                      \"System ID\": \"MNIST Experiment System\",\n",
    "                      \"Terminal Mappings\": [\n",
    "                        {\n",
    "                          \"Index\": 0,\n",
    "                          \"Processor\": \"Default Supervised Learning\"\n",
    "                        }\n",
    "                      ]\n",
    "                    },\n",
    "                    \"Terminals\": [\n",
    "                      \"Evaluation Metrics\"\n",
    "                    ]\n",
    "                  },"
   ]
  },
  {
   "cell_type": "code",
   "execution_count": 8,
   "metadata": {},
   "outputs": [
    {
     "data": {
      "text/plain": [
       "({'Description': 'Conducts supervised learning using the defaults of the model',\n",
       "  'ID': 'Default Supervised Learning',\n",
       "  'Name': 'Default Supervised Learning',\n",
       "  'Parent': 'Supervised Learning',\n",
       "  'Ports': ['Model',\n",
       "   'X Train Array',\n",
       "   'Y Train Array',\n",
       "   'X Test Array',\n",
       "   'Y Test Array'],\n",
       "  'Subsystem': {'Port Mappings': [{'Index': 0,\n",
       "     'Processor': 'Fit Supervised Model - Default'},\n",
       "    {'Index': 1, 'Processor': 'Fit Supervised Model - Default'},\n",
       "    {'Index': 2, 'Processor': 'Fit Supervised Model - Default'},\n",
       "    {'Index': 1, 'Processor': 'Evaluate Supervised Model - Default'},\n",
       "    {'Index': 2, 'Processor': 'Evaluate Supervised Model - Default'}],\n",
       "   'System ID': 'Default Supervised Learning System',\n",
       "   'Terminal Mappings': [{'Index': 0, 'Processor': 'No Post-processing'}]},\n",
       "  'Terminals': ['Evaluation Metrics']},)"
      ]
     },
     "execution_count": 8,
     "metadata": {},
     "output_type": "execute_result"
    }
   ],
   "source": [
    "{\n",
    "        \"Description\": \"Load MNIST\",\n",
    "        \"ID\": \"Load MNIST\",\n",
    "        \"Name\": \"Load MNIST\",\n",
    "        \"Parent\": \"Load Supervised Features\",\n",
    "        \"Ports\": [],\n",
    "        \"Subsystem\": {\n",
    "          \"Port Mappings\": [],\n",
    "          \"System ID\": \"Load MNIST System\",\n",
    "          \"Terminal Mappings\": [\n",
    "            {\n",
    "              \"Index\": 0,\n",
    "              \"Processor\": \"Image Normalization Preprocessing - Training\"\n",
    "            },\n",
    "            {\n",
    "              \"Index\": 1,\n",
    "              \"Processor\": \"Image Normalization Preprocessing - Training\"\n",
    "            },\n",
    "            {\n",
    "              \"Index\": 0,\n",
    "              \"Processor\": \"Image Normalization Preprocessing - Testing\"\n",
    "            },\n",
    "            {\n",
    "              \"Index\": 1,\n",
    "              \"Processor\": \"Image Normalization Preprocessing - Testing\"\n",
    "            }\n",
    "          ]\n",
    "        },\n",
    "        \"Terminals\": [\n",
    "          \"X Train Array\",\n",
    "          \"Y Train Array\",\n",
    "          \"X Test Array\",\n",
    "          \"Y Test Array\"\n",
    "        ]\n",
    "      },\n",
    "\n",
    "\n",
    "{\n",
    "        \"Description\": \"Conducts supervised learning using the defaults of the model\",\n",
    "        \"ID\": \"Default Supervised Learning\",\n",
    "        \"Name\": \"Default Supervised Learning\",\n",
    "        \"Parent\": \"Supervised Learning\",\n",
    "        \"Ports\": [\n",
    "          \"Model\",\n",
    "          \"X Train Array\",\n",
    "          \"Y Train Array\",\n",
    "          \"X Test Array\",\n",
    "          \"Y Test Array\"\n",
    "        ],\n",
    "        \"Subsystem\": {\n",
    "          \"Port Mappings\": [\n",
    "            {\n",
    "              \"Index\": 0,\n",
    "              \"Processor\": \"Fit Supervised Model - Default\"\n",
    "            },\n",
    "            {\n",
    "              \"Index\": 1,\n",
    "              \"Processor\": \"Fit Supervised Model - Default\"\n",
    "            },\n",
    "            {\n",
    "              \"Index\": 2,\n",
    "              \"Processor\": \"Fit Supervised Model - Default\"\n",
    "            },\n",
    "            {\n",
    "              \"Index\": 1,\n",
    "              \"Processor\": \"Evaluate Supervised Model - Default\"\n",
    "            },\n",
    "            {\n",
    "              \"Index\": 2,\n",
    "              \"Processor\": \"Evaluate Supervised Model - Default\"\n",
    "            }\n",
    "          ],\n",
    "          \"System ID\": \"Default Supervised Learning System\",\n",
    "          \"Terminal Mappings\": [\n",
    "            {\n",
    "              \"Index\": 0,\n",
    "              \"Processor\": \"No Post-processing\"\n",
    "            }\n",
    "          ]\n",
    "        },\n",
    "        \"Terminals\": [\"Evaluation Metrics\"]\n",
    "      },"
   ]
  },
  {
   "cell_type": "code",
   "execution_count": 9,
   "metadata": {},
   "outputs": [
    {
     "data": {
      "text/markdown": [
       "```mermaid\n",
       "---\n",
       "config:\n",
       "    layout: elk\n",
       "---\n",
       "graph LR\n",
       "subgraph G0[MNIST Experiment - Experiment Block]\n",
       "direction LR\n",
       "X0[MNIST Experiment]\n",
       "subgraph G0P[Ports]\n",
       "direction TB\n",
       "XX0P0[Model]\n",
       "end\n",
       "XX0P0[Model] o--o X0\n",
       "subgraph G0T[Terminals]\n",
       "direction TB\n",
       "XX0T0[Evaluation Metrics]\n",
       "end\n",
       "X0 o--o XX0T0[Evaluation Metrics]\n",
       "end\n",
       "\n",
       "```"
      ],
      "text/plain": [
       "<IPython.core.display.Markdown object>"
      ]
     },
     "metadata": {},
     "output_type": "display_data"
    },
    {
     "name": "stdout",
     "output_type": "stream",
     "text": [
      "Ports:\n",
      "[< Space ID: Model Name: Model >]\n",
      "Terminals:\n",
      "[< Space ID: Evaluation Metrics Name: Evaluation Metrics >]\n"
     ]
    }
   ],
   "source": [
    "processor = project.processors_map[\"MNIST Experiment\"]\n",
    "display(Markdown(processor.create_mermaid_graphic()[0]))\n",
    "print(\"Ports:\")\n",
    "print(processor.ports)\n",
    "print(\"Terminals:\")\n",
    "print(processor.terminals)"
   ]
  },
  {
   "cell_type": "markdown",
   "metadata": {},
   "source": [
    "## Breaking it down into data and model fitting/evaluation\n",
    "\n",
    "This processor has a subsystem however which is evidenced by the fact that the processor is not primitive."
   ]
  },
  {
   "cell_type": "code",
   "execution_count": null,
   "metadata": {},
   "outputs": [],
   "source": []
  },
  {
   "cell_type": "markdown",
   "metadata": {},
   "source": [
    "The create_mermaid_graphic_composite function lets us peek into the subsystem it represents."
   ]
  },
  {
   "cell_type": "code",
   "execution_count": 10,
   "metadata": {},
   "outputs": [
    {
     "data": {
      "text/markdown": [
       "```mermaid\n",
       "---\n",
       "config:\n",
       "    layout: elk\n",
       "---\n",
       "graph LR\n",
       "subgraph G0[MNIST Experiment - Experiment Block]\n",
       "direction LR\n",
       "X0[MNIST Experiment]\n",
       "subgraph G0P[Ports]\n",
       "direction TB\n",
       "XX0P0[Model]\n",
       "end\n",
       "XX0P0[Model] o--o X0\n",
       "subgraph G0T[Terminals]\n",
       "direction TB\n",
       "XX0T0[Evaluation Metrics]\n",
       "end\n",
       "X0 o--o XX0T0[Evaluation Metrics]\n",
       "end\n",
       "\n",
       "```"
      ],
      "text/plain": [
       "<IPython.core.display.Markdown object>"
      ]
     },
     "metadata": {},
     "output_type": "display_data"
    }
   ],
   "source": [
    "display(Markdown(processor.create_mermaid_graphic_composite()[0]))"
   ]
  },
  {
   "cell_type": "markdown",
   "metadata": {},
   "source": [
    "By calling get_system and grabbing the processors we can find the two inner components."
   ]
  },
  {
   "cell_type": "code",
   "execution_count": 11,
   "metadata": {},
   "outputs": [
    {
     "ename": "AttributeError",
     "evalue": "'NoneType' object has no attribute 'processors'",
     "output_type": "error",
     "traceback": [
      "\u001b[0;31m---------------------------------------------------------------------------\u001b[0m",
      "\u001b[0;31mAttributeError\u001b[0m                            Traceback (most recent call last)",
      "Cell \u001b[0;32mIn[11], line 1\u001b[0m\n\u001b[0;32m----> 1\u001b[0m components \u001b[38;5;241m=\u001b[39m \u001b[43mprocessor\u001b[49m\u001b[38;5;241;43m.\u001b[39;49m\u001b[43mget_system\u001b[49m\u001b[43m(\u001b[49m\u001b[43m)\u001b[49m\u001b[38;5;241;43m.\u001b[39;49m\u001b[43mprocessors\u001b[49m\n\u001b[1;32m      2\u001b[0m pprint(components)\n",
      "\u001b[0;31mAttributeError\u001b[0m: 'NoneType' object has no attribute 'processors'"
     ]
    }
   ],
   "source": [
    "components = processor.get_system().processors\n",
    "pprint(components)"
   ]
  },
  {
   "cell_type": "markdown",
   "metadata": {},
   "source": [
    "Display the components and check if they are primitive."
   ]
  },
  {
   "cell_type": "code",
   "execution_count": null,
   "metadata": {},
   "outputs": [
    {
     "name": "stdout",
     "output_type": "stream",
     "text": [
      "Processor: Load MNIST\n",
      "Is primitive? - False\n",
      "\n"
     ]
    },
    {
     "data": {
      "text/markdown": [
       "```mermaid\n",
       "---\n",
       "config:\n",
       "    layout: elk\n",
       "---\n",
       "graph LR\n",
       "subgraph G0[Load MNIST - Load Supervised Features Block]\n",
       "direction LR\n",
       "X0[Load MNIST]\n",
       "subgraph G0P[Ports]\n",
       "direction TB\n",
       "end\n",
       "subgraph G0T[Terminals]\n",
       "direction TB\n",
       "XX0T0[X Train Array]\n",
       "XX0T1[Y Train Array]\n",
       "XX0T2[X Test Array]\n",
       "XX0T3[Y Test Array]\n",
       "end\n",
       "X0 o--o XX0T0[X Train Array]\n",
       "X0 o--o XX0T1[Y Train Array]\n",
       "X0 o--o XX0T2[X Test Array]\n",
       "X0 o--o XX0T3[Y Test Array]\n",
       "end\n",
       "\n",
       "```"
      ],
      "text/plain": [
       "<IPython.core.display.Markdown object>"
      ]
     },
     "metadata": {},
     "output_type": "display_data"
    },
    {
     "name": "stdout",
     "output_type": "stream",
     "text": [
      "Processor: Default Supervised Learning\n",
      "Is primitive? - False\n",
      "\n"
     ]
    },
    {
     "data": {
      "text/markdown": [
       "```mermaid\n",
       "---\n",
       "config:\n",
       "    layout: elk\n",
       "---\n",
       "graph LR\n",
       "subgraph G0[Default Supervised Learning - Supervised Learning Block]\n",
       "direction LR\n",
       "X0[Default Supervised Learning]\n",
       "subgraph G0P[Ports]\n",
       "direction TB\n",
       "XX0P0[Model]\n",
       "XX0P1[X Train Array]\n",
       "XX0P2[Y Train Array]\n",
       "XX0P3[X Test Array]\n",
       "XX0P4[Y Test Array]\n",
       "end\n",
       "XX0P0[Model] o--o X0\n",
       "XX0P1[X Train Array] o--o X0\n",
       "XX0P2[Y Train Array] o--o X0\n",
       "XX0P3[X Test Array] o--o X0\n",
       "XX0P4[Y Test Array] o--o X0\n",
       "subgraph G0T[Terminals]\n",
       "direction TB\n",
       "XX0T0[Evaluation Metrics]\n",
       "end\n",
       "X0 o--o XX0T0[Evaluation Metrics]\n",
       "end\n",
       "\n",
       "```"
      ],
      "text/plain": [
       "<IPython.core.display.Markdown object>"
      ]
     },
     "metadata": {},
     "output_type": "display_data"
    }
   ],
   "source": [
    "for component in components:\n",
    "    print(\"Processor: {}\".format(component.name))\n",
    "    print(\"Is primitive? - {}\".format(component.is_primitive()))\n",
    "    print()\n",
    "    \n",
    "    display(Markdown(component.create_mermaid_graphic()[0]))"
   ]
  },
  {
   "cell_type": "markdown",
   "metadata": {},
   "source": [
    "## One Level Deeper\n",
    "\n",
    "Since both are not primitive, we can also show their subystems. Note that there can be infinite nesting, but for this block diagram this is the final level of recursion."
   ]
  },
  {
   "cell_type": "code",
   "execution_count": null,
   "metadata": {},
   "outputs": [
    {
     "name": "stdout",
     "output_type": "stream",
     "text": [
      "Processor: Load MNIST\n",
      "\n"
     ]
    },
    {
     "data": {
      "text/markdown": [
       "```mermaid\n",
       "---\n",
       "config:\n",
       "    layout: elk\n",
       "---\n",
       "graph LR\n",
       "subgraph GC0[Load MNIST - Load Supervised Features Block]\n",
       "direction LR\n",
       "subgraph GS0[Load MNIST System]\n",
       "subgraph G1[Load MNIST Dataset - Load Supervised Dataset Block]\n",
       "direction LR\n",
       "X1[Load MNIST Dataset]\n",
       "subgraph G1P[Ports]\n",
       "direction TB\n",
       "end\n",
       "subgraph G1T[Terminals]\n",
       "direction TB\n",
       "XX1T0[X]\n",
       "XX1T1[Y]\n",
       "end\n",
       "X1 o--o XX1T0[X]\n",
       "X1 o--o XX1T1[Y]\n",
       "end\n",
       "subgraph G2[Test-Train Split - Cross Validation Split Block]\n",
       "direction LR\n",
       "X2[Test-Train Split]\n",
       "subgraph G2P[Ports]\n",
       "direction TB\n",
       "XX2P0[X]\n",
       "XX2P1[Y]\n",
       "end\n",
       "XX2P0[X] o--o X2\n",
       "XX2P1[Y] o--o X2\n",
       "subgraph G2T[Terminals]\n",
       "direction TB\n",
       "XX2T0[X Train Array]\n",
       "XX2T1[Y Train Array]\n",
       "XX2T2[X Test Array]\n",
       "XX2T3[Y Test Array]\n",
       "end\n",
       "X2 o--o XX2T0[X Train Array]\n",
       "X2 o--o XX2T1[Y Train Array]\n",
       "X2 o--o XX2T2[X Test Array]\n",
       "X2 o--o XX2T3[Y Test Array]\n",
       "end\n",
       "subgraph G3[Image Normalization Preprocessing - Training - Training Data Preprocessing Block]\n",
       "direction LR\n",
       "X3[Image Normalization Preprocessing - Training]\n",
       "subgraph G3P[Ports]\n",
       "direction TB\n",
       "XX3P0[X Train Array]\n",
       "XX3P1[Y Train Array]\n",
       "end\n",
       "XX3P0[X Train Array] o--o X3\n",
       "XX3P1[Y Train Array] o--o X3\n",
       "subgraph G3T[Terminals]\n",
       "direction TB\n",
       "XX3T0[X Train Array]\n",
       "XX3T1[Y Train Array]\n",
       "end\n",
       "X3 o--o XX3T0[X Train Array]\n",
       "X3 o--o XX3T1[Y Train Array]\n",
       "end\n",
       "subgraph G4[Image Normalization Preprocessing - Testing - Testing Data Preprocessing Block]\n",
       "direction LR\n",
       "X4[Image Normalization Preprocessing - Testing]\n",
       "subgraph G4P[Ports]\n",
       "direction TB\n",
       "XX4P0[X Train Array]\n",
       "XX4P1[Y Train Array]\n",
       "XX4P2[X Test Array]\n",
       "XX4P3[Y Test Array]\n",
       "end\n",
       "XX4P0[X Train Array] o--o X4\n",
       "XX4P1[Y Train Array] o--o X4\n",
       "XX4P2[X Test Array] o--o X4\n",
       "XX4P3[Y Test Array] o--o X4\n",
       "subgraph G4T[Terminals]\n",
       "direction TB\n",
       "XX4T0[X Test Array]\n",
       "XX4T1[Y Test Array]\n",
       "end\n",
       "X4 o--o XX4T0[X Test Array]\n",
       "X4 o--o XX4T1[Y Test Array]\n",
       "end\n",
       "XX1T0[X] ---> XX2P0[X]\n",
       "XX1T1[Y] ---> XX2P1[Y]\n",
       "XX2T0[X Train Array] ---> XX3P0[X Train Array]\n",
       "XX2T1[Y Train Array] ---> XX3P1[Y Train Array]\n",
       "XX2T0[X Train Array] ---> XX4P0[X Train Array]\n",
       "XX2T1[Y Train Array] ---> XX4P1[Y Train Array]\n",
       "XX2T2[X Test Array] ---> XX4P2[X Test Array]\n",
       "XX2T3[Y Test Array] ---> XX4P3[Y Test Array]\n",
       "end\n",
       "subgraph GC0P[Ports]\n",
       "direction TB\n",
       "end\n",
       "subgraph GC0T[Terminals]\n",
       "direction TB\n",
       "X1T0[X Train Array]\n",
       "X1T1[Y Train Array]\n",
       "X1T2[X Test Array]\n",
       "X1T3[Y Test Array]\n",
       "end\n",
       "XX3T0[X Train Array] o--o X1T0[X Train Array]\n",
       "XX3T1[Y Train Array] o--o X1T1[Y Train Array]\n",
       "XX4T0[X Test Array] o--o X1T2[X Test Array]\n",
       "XX4T1[Y Test Array] o--o X1T3[Y Test Array]\n",
       "end\n",
       "\n",
       "```"
      ],
      "text/plain": [
       "<IPython.core.display.Markdown object>"
      ]
     },
     "metadata": {},
     "output_type": "display_data"
    },
    {
     "name": "stdout",
     "output_type": "stream",
     "text": [
      "Processor: Default Supervised Learning\n",
      "\n"
     ]
    },
    {
     "data": {
      "text/markdown": [
       "```mermaid\n",
       "---\n",
       "config:\n",
       "    layout: elk\n",
       "---\n",
       "graph LR\n",
       "subgraph GC0[Default Supervised Learning - Supervised Learning Block]\n",
       "direction LR\n",
       "subgraph GS0[Default Supervised Learning System]\n",
       "subgraph G1[Fit Supervised Model - Default - Fit Supervised Model Block]\n",
       "direction LR\n",
       "X1[Fit Supervised Model - Default]\n",
       "subgraph G1P[Ports]\n",
       "direction TB\n",
       "XX1P0[Model]\n",
       "XX1P1[X Train Array]\n",
       "XX1P2[Y Train Array]\n",
       "end\n",
       "XX1P0[Model] o--o X1\n",
       "XX1P1[X Train Array] o--o X1\n",
       "XX1P2[Y Train Array] o--o X1\n",
       "subgraph G1T[Terminals]\n",
       "direction TB\n",
       "XX1T0[Model]\n",
       "end\n",
       "X1 o--o XX1T0[Model]\n",
       "end\n",
       "subgraph G2[Evaluate Supervised Model - Default - Evaluate Supervised Model Block]\n",
       "direction LR\n",
       "X2[Evaluate Supervised Model - Default]\n",
       "subgraph G2P[Ports]\n",
       "direction TB\n",
       "XX2P0[Model]\n",
       "XX2P1[X Test Array]\n",
       "XX2P2[Y Test Array]\n",
       "end\n",
       "XX2P0[Model] o--o X2\n",
       "XX2P1[X Test Array] o--o X2\n",
       "XX2P2[Y Test Array] o--o X2\n",
       "subgraph G2T[Terminals]\n",
       "direction TB\n",
       "XX2T0[Evaluation Metrics]\n",
       "end\n",
       "X2 o--o XX2T0[Evaluation Metrics]\n",
       "end\n",
       "subgraph G3[No Post-processing - Post-processing Block]\n",
       "direction LR\n",
       "X3[No Post-processing]\n",
       "subgraph G3P[Ports]\n",
       "direction TB\n",
       "XX3P0[Evaluation Metrics]\n",
       "end\n",
       "XX3P0[Evaluation Metrics] o--o X3\n",
       "subgraph G3T[Terminals]\n",
       "direction TB\n",
       "XX3T0[Evaluation Metrics]\n",
       "end\n",
       "X3 o--o XX3T0[Evaluation Metrics]\n",
       "end\n",
       "XX1T0[Model] ---> XX2P0[Model]\n",
       "XX2T0[Evaluation Metrics] ---> XX3P0[Evaluation Metrics]\n",
       "end\n",
       "subgraph GC0P[Ports]\n",
       "direction TB\n",
       "X1P0[Model]\n",
       "X1P1[X Train Array]\n",
       "X1P2[Y Train Array]\n",
       "X1P3[X Test Array]\n",
       "X1P4[Y Test Array]\n",
       "end\n",
       "X1P0[Model] o--o XX1P0[Model]\n",
       "X1P1[X Train Array] o--o XX1P1[X Train Array]\n",
       "X1P2[Y Train Array] o--o XX1P2[Y Train Array]\n",
       "X1P3[X Test Array] o--o XX2P1[X Test Array]\n",
       "X1P4[Y Test Array] o--o XX2P2[Y Test Array]\n",
       "subgraph GC0T[Terminals]\n",
       "direction TB\n",
       "X1T0[Evaluation Metrics]\n",
       "end\n",
       "XX3T0[Evaluation Metrics] o--o X1T0[Evaluation Metrics]\n",
       "end\n",
       "\n",
       "```"
      ],
      "text/plain": [
       "<IPython.core.display.Markdown object>"
      ]
     },
     "metadata": {},
     "output_type": "display_data"
    }
   ],
   "source": [
    "for component in components:\n",
    "    print(\"Processor: {}\".format(component.name))\n",
    "    print()\n",
    "    \n",
    "    display(Markdown(component.create_mermaid_graphic_composite()[0]))"
   ]
  }
 ],
 "metadata": {
  "kernelspec": {
   "display_name": "MSML",
   "language": "python",
   "name": "python3"
  },
  "language_info": {
   "codemirror_mode": {
    "name": "ipython",
    "version": 3
   },
   "file_extension": ".py",
   "mimetype": "text/x-python",
   "name": "python",
   "nbconvert_exporter": "python",
   "pygments_lexer": "ipython3",
   "version": "3.9.19"
  }
 },
 "nbformat": 4,
 "nbformat_minor": 2
}
