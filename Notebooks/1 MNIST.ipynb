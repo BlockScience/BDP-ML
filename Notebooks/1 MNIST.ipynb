{
 "cells": [
  {
   "cell_type": "markdown",
   "metadata": {},
   "source": [
    "# MNIST BDP\n",
    "\n",
    "The following is a breakdown of the problem of using a supervised learning model on the MNIST dataset. We begin with an empty project and fill it out with the pybdp interface to create an example of a machine learning block diagram for loading MNIST."
   ]
  },
  {
   "cell_type": "code",
   "execution_count": 1,
   "metadata": {},
   "outputs": [],
   "source": [
    "import json\n",
    "import pybdp\n",
    "from IPython.display import Markdown\n",
    "from pprint import pprint\n",
    "\n",
    "# Start with an empty project\n",
    "project = pybdp.create_empty_project()"
   ]
  },
  {
   "cell_type": "markdown",
   "metadata": {},
   "source": [
    "## System High Level\n",
    "\n",
    "At the highest level, there is a processor that takes a model in and returns evaluation metrics. This is our \"MNIST Experiment\" processor.\n",
    "\n",
    "We first create the spaces, block and processor then we display it with create_mermaid_graphic and also check out its ports and terminals."
   ]
  },
  {
   "cell_type": "code",
   "execution_count": 2,
   "metadata": {},
   "outputs": [
    {
     "data": {
      "text/markdown": [
       "```mermaid\n",
       "---\n",
       "config:\n",
       "    layout: elk\n",
       "---\n",
       "graph LR\n",
       "subgraph G0[MNIST Experiment - Experiment Block]\n",
       "direction LR\n",
       "X0[MNIST Experiment]\n",
       "subgraph G0P[Ports]\n",
       "direction TB\n",
       "XX0P0[Model]\n",
       "end\n",
       "XX0P0[Model] o--o X0\n",
       "subgraph G0T[Terminals]\n",
       "direction TB\n",
       "XX0T0[Evaluation Metrics]\n",
       "end\n",
       "X0 o--o XX0T0[Evaluation Metrics]\n",
       "end\n",
       "\n",
       "```"
      ],
      "text/plain": [
       "<IPython.core.display.Markdown object>"
      ]
     },
     "metadata": {},
     "output_type": "display_data"
    },
    {
     "name": "stdout",
     "output_type": "stream",
     "text": [
      "Ports:\n",
      "[< Space ID: Model Name: Model >]\n",
      "Terminals:\n",
      "[< Space ID: Evaluation Metrics Name: Evaluation Metrics >]\n"
     ]
    }
   ],
   "source": [
    "# Add the spaces\n",
    "project.add_space(id = \"Model\",\n",
    "                  name = \"Model\",\n",
    "                  description = \"A machine learning model\")\n",
    "project.add_space(id = \"Evaluation Metrics\",\n",
    "                  name = \"Evaluation Metrics\",\n",
    "                  description = \"Metrics for evaluating the model\")\n",
    "\n",
    "# Add the block\n",
    "project.add_block(id=\"Experiment\",\n",
    "                  name=\"Experiment\",\n",
    "                  description=\"A machine learning experiment\",\n",
    "                  domain=[\"Model\"],\n",
    "                  codomain=[\"Evaluation Metrics\"],)\n",
    "\n",
    "# Add the processor\n",
    "project.add_processor(id=\"MNIST Experiment\",\n",
    "                      name=\"MNIST Experiment\",\n",
    "                      description=\"Runs experiments on the MNIST dataset\",\n",
    "                      parent_id=\"Experiment\",)\n",
    "\n",
    "\n",
    "processor = project.processors_map[\"MNIST Experiment\"]\n",
    "display(Markdown(processor.create_mermaid_graphic()[0]))\n",
    "print(\"Ports:\")\n",
    "print(processor.ports)\n",
    "print(\"Terminals:\")\n",
    "print(processor.terminals)"
   ]
  },
  {
   "cell_type": "code",
   "execution_count": null,
   "metadata": {},
   "outputs": [],
   "source": [
    "{\n",
    "                    \"Description\": \"Runs experiments on the MNIST dataset\",\n",
    "                    \"ID\": \"MNIST Experiment\",\n",
    "                    \"Name\": \"MNIST Experiment\",\n",
    "                    \"Parent\": \"Experiment\",\n",
    "                    \"Ports\": [\n",
    "                      \"Model\"\n",
    "                    ],\n",
    "                    \"Subsystem\": {\n",
    "                      \"Port Mappings\": [\n",
    "                        {\n",
    "                          \"Index\": 0,\n",
    "                          \"Processor\": \"Default Supervised Learning\"\n",
    "                        }\n",
    "                      ],\n",
    "                      \"System ID\": \"MNIST Experiment System\",\n",
    "                      \"Terminal Mappings\": [\n",
    "                        {\n",
    "                          \"Index\": 0,\n",
    "                          \"Processor\": \"Default Supervised Learning\"\n",
    "                        }\n",
    "                      ]\n",
    "                    },\n",
    "                    \"Terminals\": [\n",
    "                      \"Evaluation Metrics\"\n",
    "                    ]\n",
    "                  },"
   ]
  },
  {
   "cell_type": "code",
   "execution_count": 21,
   "metadata": {},
   "outputs": [
    {
     "data": {
      "text/markdown": [
       "```mermaid\n",
       "---\n",
       "config:\n",
       "    layout: elk\n",
       "---\n",
       "graph LR\n",
       "subgraph G0[MNIST Experiment - Experiment Block]\n",
       "direction LR\n",
       "X0[MNIST Experiment]\n",
       "subgraph G0P[Ports]\n",
       "direction TB\n",
       "XX0P0[Model]\n",
       "end\n",
       "XX0P0[Model] o--o X0\n",
       "subgraph G0T[Terminals]\n",
       "direction TB\n",
       "XX0T0[Evaluation Metrics]\n",
       "end\n",
       "X0 o--o XX0T0[Evaluation Metrics]\n",
       "end\n",
       "\n",
       "```"
      ],
      "text/plain": [
       "<IPython.core.display.Markdown object>"
      ]
     },
     "metadata": {},
     "output_type": "display_data"
    },
    {
     "name": "stdout",
     "output_type": "stream",
     "text": [
      "Ports:\n",
      "[< Space ID: Model Name: Model >]\n",
      "Terminals:\n",
      "[< Space ID: Evaluation Metrics Name: Evaluation Metrics >]\n"
     ]
    }
   ],
   "source": [
    "processor = project.processors_map[\"MNIST Experiment\"]\n",
    "display(Markdown(processor.create_mermaid_graphic()[0]))\n",
    "print(\"Ports:\")\n",
    "print(processor.ports)\n",
    "print(\"Terminals:\")\n",
    "print(processor.terminals)"
   ]
  },
  {
   "cell_type": "markdown",
   "metadata": {},
   "source": [
    "## Breaking it down into data and model fitting/evaluation\n",
    "\n",
    "This processor has a subsystem however which is evidenced by the fact that the processor is not primitive."
   ]
  },
  {
   "cell_type": "code",
   "execution_count": 22,
   "metadata": {},
   "outputs": [
    {
     "name": "stdout",
     "output_type": "stream",
     "text": [
      "False\n"
     ]
    }
   ],
   "source": [
    "print(processor.is_primitive())"
   ]
  },
  {
   "cell_type": "markdown",
   "metadata": {},
   "source": [
    "The create_mermaid_graphic_composite function lets us peek into the subsystem it represents."
   ]
  },
  {
   "cell_type": "code",
   "execution_count": 23,
   "metadata": {},
   "outputs": [
    {
     "data": {
      "text/markdown": [
       "```mermaid\n",
       "---\n",
       "config:\n",
       "    layout: elk\n",
       "---\n",
       "graph LR\n",
       "subgraph GC0[MNIST Experiment - Experiment Block]\n",
       "direction LR\n",
       "subgraph GS0[MNIST Experiment System]\n",
       "subgraph G1[Load MNIST - Load Supervised Features Block]\n",
       "direction LR\n",
       "X1[Load MNIST]\n",
       "subgraph G1P[Ports]\n",
       "direction TB\n",
       "end\n",
       "subgraph G1T[Terminals]\n",
       "direction TB\n",
       "XX1T0[X Train Array]\n",
       "XX1T1[Y Train Array]\n",
       "XX1T2[X Test Array]\n",
       "XX1T3[Y Test Array]\n",
       "end\n",
       "X1 o--o XX1T0[X Train Array]\n",
       "X1 o--o XX1T1[Y Train Array]\n",
       "X1 o--o XX1T2[X Test Array]\n",
       "X1 o--o XX1T3[Y Test Array]\n",
       "end\n",
       "subgraph G2[Default Supervised Learning - Supervised Learning Block]\n",
       "direction LR\n",
       "X2[Default Supervised Learning]\n",
       "subgraph G2P[Ports]\n",
       "direction TB\n",
       "XX2P0[Model]\n",
       "XX2P1[X Train Array]\n",
       "XX2P2[Y Train Array]\n",
       "XX2P3[X Test Array]\n",
       "XX2P4[Y Test Array]\n",
       "end\n",
       "XX2P0[Model] o--o X2\n",
       "XX2P1[X Train Array] o--o X2\n",
       "XX2P2[Y Train Array] o--o X2\n",
       "XX2P3[X Test Array] o--o X2\n",
       "XX2P4[Y Test Array] o--o X2\n",
       "subgraph G2T[Terminals]\n",
       "direction TB\n",
       "XX2T0[Evaluation Metrics]\n",
       "end\n",
       "X2 o--o XX2T0[Evaluation Metrics]\n",
       "end\n",
       "XX1T0[X Train Array] ---> XX2P1[X Train Array]\n",
       "XX1T1[Y Train Array] ---> XX2P2[Y Train Array]\n",
       "XX1T2[X Test Array] ---> XX2P3[X Test Array]\n",
       "XX1T3[Y Test Array] ---> XX2P4[Y Test Array]\n",
       "end\n",
       "subgraph GC0P[Ports]\n",
       "direction TB\n",
       "X1P0[Model]\n",
       "end\n",
       "X1P0[Model] o--o XX2P0[Model]\n",
       "subgraph GC0T[Terminals]\n",
       "direction TB\n",
       "X1T0[Evaluation Metrics]\n",
       "end\n",
       "XX2T0[Evaluation Metrics] o--o X1T0[Evaluation Metrics]\n",
       "end\n",
       "\n",
       "```"
      ],
      "text/plain": [
       "<IPython.core.display.Markdown object>"
      ]
     },
     "metadata": {},
     "output_type": "display_data"
    }
   ],
   "source": [
    "display(Markdown(processor.create_mermaid_graphic_composite()[0]))"
   ]
  },
  {
   "cell_type": "markdown",
   "metadata": {},
   "source": [
    "By calling get_system and grabbing the processors we can find the two inner components."
   ]
  },
  {
   "cell_type": "code",
   "execution_count": 24,
   "metadata": {},
   "outputs": [
    {
     "name": "stdout",
     "output_type": "stream",
     "text": [
      "[< Processor ID: Load MNIST Name: Load MNIST []->['X Train Array', 'Y Train Array', 'X Test Array', 'Y Test Array']>,\n",
      " < Processor ID: Default Supervised Learning Name: Default Supervised Learning ['Model', 'X Train Array', 'Y Train Array', 'X Test Array', 'Y Test Array']->['Evaluation Metrics']>]\n"
     ]
    }
   ],
   "source": [
    "components = processor.get_system().processors\n",
    "pprint(components)"
   ]
  },
  {
   "cell_type": "markdown",
   "metadata": {},
   "source": [
    "Display the components and check if they are primitive."
   ]
  },
  {
   "cell_type": "code",
   "execution_count": 29,
   "metadata": {},
   "outputs": [
    {
     "name": "stdout",
     "output_type": "stream",
     "text": [
      "Processor: Load MNIST\n",
      "Is primitive? - False\n",
      "\n"
     ]
    },
    {
     "data": {
      "text/markdown": [
       "```mermaid\n",
       "---\n",
       "config:\n",
       "    layout: elk\n",
       "---\n",
       "graph LR\n",
       "subgraph G0[Load MNIST - Load Supervised Features Block]\n",
       "direction LR\n",
       "X0[Load MNIST]\n",
       "subgraph G0P[Ports]\n",
       "direction TB\n",
       "end\n",
       "subgraph G0T[Terminals]\n",
       "direction TB\n",
       "XX0T0[X Train Array]\n",
       "XX0T1[Y Train Array]\n",
       "XX0T2[X Test Array]\n",
       "XX0T3[Y Test Array]\n",
       "end\n",
       "X0 o--o XX0T0[X Train Array]\n",
       "X0 o--o XX0T1[Y Train Array]\n",
       "X0 o--o XX0T2[X Test Array]\n",
       "X0 o--o XX0T3[Y Test Array]\n",
       "end\n",
       "\n",
       "```"
      ],
      "text/plain": [
       "<IPython.core.display.Markdown object>"
      ]
     },
     "metadata": {},
     "output_type": "display_data"
    },
    {
     "name": "stdout",
     "output_type": "stream",
     "text": [
      "Processor: Default Supervised Learning\n",
      "Is primitive? - False\n",
      "\n"
     ]
    },
    {
     "data": {
      "text/markdown": [
       "```mermaid\n",
       "---\n",
       "config:\n",
       "    layout: elk\n",
       "---\n",
       "graph LR\n",
       "subgraph G0[Default Supervised Learning - Supervised Learning Block]\n",
       "direction LR\n",
       "X0[Default Supervised Learning]\n",
       "subgraph G0P[Ports]\n",
       "direction TB\n",
       "XX0P0[Model]\n",
       "XX0P1[X Train Array]\n",
       "XX0P2[Y Train Array]\n",
       "XX0P3[X Test Array]\n",
       "XX0P4[Y Test Array]\n",
       "end\n",
       "XX0P0[Model] o--o X0\n",
       "XX0P1[X Train Array] o--o X0\n",
       "XX0P2[Y Train Array] o--o X0\n",
       "XX0P3[X Test Array] o--o X0\n",
       "XX0P4[Y Test Array] o--o X0\n",
       "subgraph G0T[Terminals]\n",
       "direction TB\n",
       "XX0T0[Evaluation Metrics]\n",
       "end\n",
       "X0 o--o XX0T0[Evaluation Metrics]\n",
       "end\n",
       "\n",
       "```"
      ],
      "text/plain": [
       "<IPython.core.display.Markdown object>"
      ]
     },
     "metadata": {},
     "output_type": "display_data"
    }
   ],
   "source": [
    "for component in components:\n",
    "    print(\"Processor: {}\".format(component.name))\n",
    "    print(\"Is primitive? - {}\".format(component.is_primitive()))\n",
    "    print()\n",
    "    \n",
    "    display(Markdown(component.create_mermaid_graphic()[0]))"
   ]
  },
  {
   "cell_type": "markdown",
   "metadata": {},
   "source": [
    "## One Level Deeper\n",
    "\n",
    "Since both are not primitive, we can also show their subystems. Note that there can be infinite nesting, but for this block diagram this is the final level of recursion."
   ]
  },
  {
   "cell_type": "code",
   "execution_count": 32,
   "metadata": {},
   "outputs": [
    {
     "name": "stdout",
     "output_type": "stream",
     "text": [
      "Processor: Load MNIST\n",
      "\n"
     ]
    },
    {
     "data": {
      "text/markdown": [
       "```mermaid\n",
       "---\n",
       "config:\n",
       "    layout: elk\n",
       "---\n",
       "graph LR\n",
       "subgraph GC0[Load MNIST - Load Supervised Features Block]\n",
       "direction LR\n",
       "subgraph GS0[Load MNIST System]\n",
       "subgraph G1[Load MNIST Dataset - Load Supervised Dataset Block]\n",
       "direction LR\n",
       "X1[Load MNIST Dataset]\n",
       "subgraph G1P[Ports]\n",
       "direction TB\n",
       "end\n",
       "subgraph G1T[Terminals]\n",
       "direction TB\n",
       "XX1T0[X]\n",
       "XX1T1[Y]\n",
       "end\n",
       "X1 o--o XX1T0[X]\n",
       "X1 o--o XX1T1[Y]\n",
       "end\n",
       "subgraph G2[Test-Train Split - Cross Validation Split Block]\n",
       "direction LR\n",
       "X2[Test-Train Split]\n",
       "subgraph G2P[Ports]\n",
       "direction TB\n",
       "XX2P0[X]\n",
       "XX2P1[Y]\n",
       "end\n",
       "XX2P0[X] o--o X2\n",
       "XX2P1[Y] o--o X2\n",
       "subgraph G2T[Terminals]\n",
       "direction TB\n",
       "XX2T0[X Train Array]\n",
       "XX2T1[Y Train Array]\n",
       "XX2T2[X Test Array]\n",
       "XX2T3[Y Test Array]\n",
       "end\n",
       "X2 o--o XX2T0[X Train Array]\n",
       "X2 o--o XX2T1[Y Train Array]\n",
       "X2 o--o XX2T2[X Test Array]\n",
       "X2 o--o XX2T3[Y Test Array]\n",
       "end\n",
       "subgraph G3[Image Normalization Preprocessing - Training - Training Data Preprocessing Block]\n",
       "direction LR\n",
       "X3[Image Normalization Preprocessing - Training]\n",
       "subgraph G3P[Ports]\n",
       "direction TB\n",
       "XX3P0[X Train Array]\n",
       "XX3P1[Y Train Array]\n",
       "end\n",
       "XX3P0[X Train Array] o--o X3\n",
       "XX3P1[Y Train Array] o--o X3\n",
       "subgraph G3T[Terminals]\n",
       "direction TB\n",
       "XX3T0[X Train Array]\n",
       "XX3T1[Y Train Array]\n",
       "end\n",
       "X3 o--o XX3T0[X Train Array]\n",
       "X3 o--o XX3T1[Y Train Array]\n",
       "end\n",
       "subgraph G4[Image Normalization Preprocessing - Testing - Testing Data Preprocessing Block]\n",
       "direction LR\n",
       "X4[Image Normalization Preprocessing - Testing]\n",
       "subgraph G4P[Ports]\n",
       "direction TB\n",
       "XX4P0[X Train Array]\n",
       "XX4P1[Y Train Array]\n",
       "XX4P2[X Test Array]\n",
       "XX4P3[Y Test Array]\n",
       "end\n",
       "XX4P0[X Train Array] o--o X4\n",
       "XX4P1[Y Train Array] o--o X4\n",
       "XX4P2[X Test Array] o--o X4\n",
       "XX4P3[Y Test Array] o--o X4\n",
       "subgraph G4T[Terminals]\n",
       "direction TB\n",
       "XX4T0[X Test Array]\n",
       "XX4T1[Y Test Array]\n",
       "end\n",
       "X4 o--o XX4T0[X Test Array]\n",
       "X4 o--o XX4T1[Y Test Array]\n",
       "end\n",
       "XX1T0[X] ---> XX2P0[X]\n",
       "XX1T1[Y] ---> XX2P1[Y]\n",
       "XX2T0[X Train Array] ---> XX3P0[X Train Array]\n",
       "XX2T1[Y Train Array] ---> XX3P1[Y Train Array]\n",
       "XX2T0[X Train Array] ---> XX4P0[X Train Array]\n",
       "XX2T1[Y Train Array] ---> XX4P1[Y Train Array]\n",
       "XX2T2[X Test Array] ---> XX4P2[X Test Array]\n",
       "XX2T3[Y Test Array] ---> XX4P3[Y Test Array]\n",
       "end\n",
       "subgraph GC0P[Ports]\n",
       "direction TB\n",
       "end\n",
       "subgraph GC0T[Terminals]\n",
       "direction TB\n",
       "X1T0[X Train Array]\n",
       "X1T1[Y Train Array]\n",
       "X1T2[X Test Array]\n",
       "X1T3[Y Test Array]\n",
       "end\n",
       "XX3T0[X Train Array] o--o X1T0[X Train Array]\n",
       "XX3T1[Y Train Array] o--o X1T1[Y Train Array]\n",
       "XX4T0[X Test Array] o--o X1T2[X Test Array]\n",
       "XX4T1[Y Test Array] o--o X1T3[Y Test Array]\n",
       "end\n",
       "\n",
       "```"
      ],
      "text/plain": [
       "<IPython.core.display.Markdown object>"
      ]
     },
     "metadata": {},
     "output_type": "display_data"
    },
    {
     "name": "stdout",
     "output_type": "stream",
     "text": [
      "Processor: Default Supervised Learning\n",
      "\n"
     ]
    },
    {
     "data": {
      "text/markdown": [
       "```mermaid\n",
       "---\n",
       "config:\n",
       "    layout: elk\n",
       "---\n",
       "graph LR\n",
       "subgraph GC0[Default Supervised Learning - Supervised Learning Block]\n",
       "direction LR\n",
       "subgraph GS0[Default Supervised Learning System]\n",
       "subgraph G1[Fit Supervised Model - Default - Fit Supervised Model Block]\n",
       "direction LR\n",
       "X1[Fit Supervised Model - Default]\n",
       "subgraph G1P[Ports]\n",
       "direction TB\n",
       "XX1P0[Model]\n",
       "XX1P1[X Train Array]\n",
       "XX1P2[Y Train Array]\n",
       "end\n",
       "XX1P0[Model] o--o X1\n",
       "XX1P1[X Train Array] o--o X1\n",
       "XX1P2[Y Train Array] o--o X1\n",
       "subgraph G1T[Terminals]\n",
       "direction TB\n",
       "XX1T0[Model]\n",
       "end\n",
       "X1 o--o XX1T0[Model]\n",
       "end\n",
       "subgraph G2[Evaluate Supervised Model - Default - Evaluate Supervised Model Block]\n",
       "direction LR\n",
       "X2[Evaluate Supervised Model - Default]\n",
       "subgraph G2P[Ports]\n",
       "direction TB\n",
       "XX2P0[Model]\n",
       "XX2P1[X Test Array]\n",
       "XX2P2[Y Test Array]\n",
       "end\n",
       "XX2P0[Model] o--o X2\n",
       "XX2P1[X Test Array] o--o X2\n",
       "XX2P2[Y Test Array] o--o X2\n",
       "subgraph G2T[Terminals]\n",
       "direction TB\n",
       "XX2T0[Evaluation Metrics]\n",
       "end\n",
       "X2 o--o XX2T0[Evaluation Metrics]\n",
       "end\n",
       "subgraph G3[No Post-processing - Post-processing Block]\n",
       "direction LR\n",
       "X3[No Post-processing]\n",
       "subgraph G3P[Ports]\n",
       "direction TB\n",
       "XX3P0[Evaluation Metrics]\n",
       "end\n",
       "XX3P0[Evaluation Metrics] o--o X3\n",
       "subgraph G3T[Terminals]\n",
       "direction TB\n",
       "XX3T0[Evaluation Metrics]\n",
       "end\n",
       "X3 o--o XX3T0[Evaluation Metrics]\n",
       "end\n",
       "XX1T0[Model] ---> XX2P0[Model]\n",
       "XX2T0[Evaluation Metrics] ---> XX3P0[Evaluation Metrics]\n",
       "end\n",
       "subgraph GC0P[Ports]\n",
       "direction TB\n",
       "X1P0[Model]\n",
       "X1P1[X Train Array]\n",
       "X1P2[Y Train Array]\n",
       "X1P3[X Test Array]\n",
       "X1P4[Y Test Array]\n",
       "end\n",
       "X1P0[Model] o--o XX1P0[Model]\n",
       "X1P1[X Train Array] o--o XX1P1[X Train Array]\n",
       "X1P2[Y Train Array] o--o XX1P2[Y Train Array]\n",
       "X1P3[X Test Array] o--o XX2P1[X Test Array]\n",
       "X1P4[Y Test Array] o--o XX2P2[Y Test Array]\n",
       "subgraph GC0T[Terminals]\n",
       "direction TB\n",
       "X1T0[Evaluation Metrics]\n",
       "end\n",
       "XX3T0[Evaluation Metrics] o--o X1T0[Evaluation Metrics]\n",
       "end\n",
       "\n",
       "```"
      ],
      "text/plain": [
       "<IPython.core.display.Markdown object>"
      ]
     },
     "metadata": {},
     "output_type": "display_data"
    }
   ],
   "source": [
    "for component in components:\n",
    "    print(\"Processor: {}\".format(component.name))\n",
    "    print()\n",
    "    \n",
    "    display(Markdown(component.create_mermaid_graphic_composite()[0]))"
   ]
  }
 ],
 "metadata": {
  "kernelspec": {
   "display_name": "MSML",
   "language": "python",
   "name": "python3"
  },
  "language_info": {
   "codemirror_mode": {
    "name": "ipython",
    "version": 3
   },
   "file_extension": ".py",
   "mimetype": "text/x-python",
   "name": "python",
   "nbconvert_exporter": "python",
   "pygments_lexer": "ipython3",
   "version": "3.9.19"
  }
 },
 "nbformat": 4,
 "nbformat_minor": 2
}
