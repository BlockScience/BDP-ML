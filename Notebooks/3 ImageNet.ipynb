{
 "cells": [
  {
   "cell_type": "markdown",
   "metadata": {},
   "source": [
    "# ImageNet\n",
    "\n",
    "We created a supervised machine learning bdp for MNIST, but what if we want to re-use this for ImageNet? Let's quickly write out what would need to happen!"
   ]
  },
  {
   "cell_type": "code",
   "execution_count": 1,
   "metadata": {},
   "outputs": [
    {
     "name": "stdout",
     "output_type": "stream",
     "text": [
      "< Project\n",
      "Toolbox:\n",
      "\n",
      "< Toolbox\n",
      "Blocks: ['Experiment', 'Load Supervised Features', 'Supervised Learning', 'Load Supervised Dataset', 'Cross Validation Split', 'Training Data Preprocessing', 'Testing Data Preprocessing', 'Fit Supervised Model', 'Evaluate Supervised Model', 'Post-processing']\n",
      "Spaces: ['Model', 'Evaluation Metrics', 'X Train', 'Y Train', 'X Test', 'Y Test', 'X', 'Y'] >\n",
      "\n",
      "Workbench:\n",
      "\n",
      "<Workbench\n",
      "Processors: ['MNIST Experiment', 'Load MNIST', 'Default Supervised Learning', 'Load MNIST Dataset', 'Test-Train Split', 'Image Normalization Preprocessing - Training', 'Image Normalization Preprocessing - Testing', 'Fit Supervised Model - Default', 'Evaluate Supervised Model - Default', 'No Post-processing']\n",
      "Wires: ['W1', 'W2', 'W3', 'W4', 'W5', 'W6', 'W7', 'W8', 'W9', 'W10', 'W11', 'W12', 'W13', 'W14']\n",
      "Systems: ['MNIST Experiment System', 'Load MNIST System', 'Default Supervised Learning System'] > >\n"
     ]
    }
   ],
   "source": [
    "import sys\n",
    "sys.path.append(\"../../pybdp\")\n",
    "from src import pybdp\n",
    "#import pybdp\n",
    "from pprint import pprint\n",
    "\n",
    "# Start with an empty project\n",
    "project = pybdp.load_from_json(\"../JSON/Supervised Learning V2.json\")\n",
    "print(project)"
   ]
  },
  {
   "cell_type": "code",
   "execution_count": null,
   "metadata": {},
   "outputs": [],
   "source": [
    "project.copy_add_processor(project.processors_map[\"Load MNIST Dataset\"],\n",
    "                           {\"ID\": \"Load ImageNet Dataset\",\n",
    "                            \"Name\": \"Load ImageNet Dataset\",\n",
    "                            \"Description\": \"Loads the ImageNet dataset\"},\n",
    "                            copy_wires=True)\n"
   ]
  }
 ],
 "metadata": {
  "kernelspec": {
   "display_name": "MSML",
   "language": "python",
   "name": "python3"
  },
  "language_info": {
   "codemirror_mode": {
    "name": "ipython",
    "version": 3
   },
   "file_extension": ".py",
   "mimetype": "text/x-python",
   "name": "python",
   "nbconvert_exporter": "python",
   "pygments_lexer": "ipython3",
   "version": "3.9.19"
  }
 },
 "nbformat": 4,
 "nbformat_minor": 2
}
