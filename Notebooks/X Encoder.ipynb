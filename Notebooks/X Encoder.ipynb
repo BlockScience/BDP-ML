{
 "cells": [
  {
   "cell_type": "code",
   "execution_count": null,
   "metadata": {},
   "outputs": [],
   "source": [
    "import sys\n",
    "sys.path.append(\"../../pybdp\")\n",
    "from src import pybdp\n",
    "#import pybdp\n",
    "from pprint import pprint\n",
    "\n",
    "# Start with an empty project\n",
    "project = pybdp.create_empty_project()\n",
    "\n",
    "project.add_space(id = \"X\",\n",
    "                  name = \"X\",\n",
    "                  description = \"Input vector\")\n",
    "\n",
    "project.add_space(id = \"x_i\",\n",
    "                  name = \"x_i\",\n",
    "                  description = \"Individual token\")\n",
    "\n",
    "project.add_space(id = \"h_i\",\n",
    "                  name = \"h_i\",\n",
    "                  description = \"Hidden state\")\n",
    "\n",
    "project.add_block(id=\"RNN Hidden Layer\",\n",
    "                  name=\"RNN Hidden Layer\",\n",
    "                  description=\"A hidden layer of an RNN\",\n",
    "                  domain=[\"x_i\", \"h_i\"],\n",
    "                  codomain=[\"h_i\"],)\n",
    "\n",
    "project.add_block(id=\"Input Layer (Length 3)\",\n",
    "                  name=\"Input Layer (Length 3)\",\n",
    "                  description=\"The input layer which transforms the input vector into a sequence of tokens\",\n",
    "                  domain=[\"X\"],\n",
    "                  codomain=[\"x_i\", \"x_i\", \"x_i\"],)\n",
    "\n",
    "project.add_processor(id=\"RNN Encoder Cell 1\", parent_id=\"RNN Hidden Layer\")\n",
    "project.add_processor(id=\"RNN Encoder Cell 2\", parent_id=\"RNN Hidden Layer\")\n",
    "project.add_processor(id=\"RNN Encoder Cell 3\", parent_id=\"RNN Hidden Layer\")"
   ]
  },
  {
   "cell_type": "code",
   "execution_count": 13,
   "metadata": {},
   "outputs": [
    {
     "name": "stdout",
     "output_type": "stream",
     "text": [
      "{'Ports': [{'Parent': 'h_i',\n",
      "            'Source': {'Index': 0, 'Processor': 'RNN Encoder Cell 2'},\n",
      "            'Target': {'Index': 1, 'Processor': 'RNN Encoder Cell 1'}}],\n",
      " 'Terminals': [{'Parent': 'h_i',\n",
      "                'Source': {'Index': 0, 'Processor': 'RNN Encoder Cell 1'},\n",
      "                'Target': {'Index': 1, 'Processor': 'RNN Encoder Cell 2'}}]}\n",
      "{'Ports': [{'Parent': 'h_i',\n",
      "            'Source': {'Index': 0, 'Processor': 'RNN Encoder Cell 3'},\n",
      "            'Target': {'Index': 1, 'Processor': 'RNN Encoder Cell 2'}}],\n",
      " 'Terminals': [{'Parent': 'h_i',\n",
      "                'Source': {'Index': 0, 'Processor': 'RNN Encoder Cell 2'},\n",
      "                'Target': {'Index': 1, 'Processor': 'RNN Encoder Cell 3'}}]}\n"
     ]
    }
   ],
   "source": [
    "pprint(project.processors_map[\"RNN Encoder Cell 1\"].find_potential_wires(project.processors_map[\"RNN Encoder Cell 2\"]))\n",
    "pprint(project.processors_map[\"RNN Encoder Cell 2\"].find_potential_wires(project.processors_map[\"RNN Encoder Cell 3\"]))"
   ]
  },
  {
   "cell_type": "code",
   "execution_count": 14,
   "metadata": {},
   "outputs": [],
   "source": [
    "project.add_wires([{'Parent': 'h_i',\n",
    "                'Source': {'Index': 0, 'Processor': 'RNN Encoder Cell 1'},\n",
    "                'Target': {'Index': 1, 'Processor': 'RNN Encoder Cell 2'}},\n",
    "                {'Parent': 'h_i',\n",
    "                'Source': {'Index': 0, 'Processor': 'RNN Encoder Cell 2'},\n",
    "                'Target': {'Index': 1, 'Processor': 'RNN Encoder Cell 3'}}], auto_increment=True)"
   ]
  },
  {
   "cell_type": "code",
   "execution_count": null,
   "metadata": {},
   "outputs": [],
   "source": []
  }
 ],
 "metadata": {
  "kernelspec": {
   "display_name": "MSML",
   "language": "python",
   "name": "python3"
  },
  "language_info": {
   "codemirror_mode": {
    "name": "ipython",
    "version": 3
   },
   "file_extension": ".py",
   "mimetype": "text/x-python",
   "name": "python",
   "nbconvert_exporter": "python",
   "pygments_lexer": "ipython3",
   "version": "3.9.19"
  }
 },
 "nbformat": 4,
 "nbformat_minor": 2
}
