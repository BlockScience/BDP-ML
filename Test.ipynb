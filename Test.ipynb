{
 "cells": [
  {
   "cell_type": "code",
   "execution_count": 4,
   "metadata": {},
   "outputs": [
    {
     "data": {
      "text/markdown": [
       "```mermaid\n",
       "---\n",
       "config:\n",
       "    layout: elk\n",
       "---\n",
       "graph LR\n",
       "subgraph GS0[System 1]\n",
       "subgraph G0[Load CSV Data - Load Data Block Block]\n",
       "direction LR\n",
       "X0[Load CSV Data]\n",
       "subgraph G0P[Ports]\n",
       "direction TB\n",
       "end\n",
       "subgraph G0T[Terminals]\n",
       "direction TB\n",
       "XX0T0[Data Space]\n",
       "end\n",
       "X0 o--o XX0T0[Data Space]\n",
       "end\n",
       "subgraph G1[Data Preprocessing - Data Preprocessing Block Block]\n",
       "direction LR\n",
       "X1[Data Preprocessing]\n",
       "subgraph G1P[Ports]\n",
       "direction TB\n",
       "XX1P0[Data Space]\n",
       "end\n",
       "XX1P0[Data Space] o--o X1\n",
       "subgraph G1T[Terminals]\n",
       "direction TB\n",
       "XX1T0[Data Space]\n",
       "end\n",
       "X1 o--o XX1T0[Data Space]\n",
       "end\n",
       "XX0T0[Data Space] ---> XX1P0[Data Space]\n",
       "end\n",
       "\n",
       "```"
      ],
      "text/plain": [
       "<IPython.core.display.Markdown object>"
      ]
     },
     "metadata": {},
     "output_type": "display_data"
    }
   ],
   "source": [
    "#import sys\n",
    "#sys.path.append(\"../../pybdp/src\")\n",
    "\n",
    "from pybdp import load_project\n",
    "from IPython.display import Markdown\n",
    "from copy import deepcopy\n",
    "\n",
    "# Create the json\n",
    "project_json = {\"Toolbox\": {\"Spaces\": [{\"ID\": \"Data Space\", \"Name\": \"Data Space\", \"Description\": \"Some form of data, potentially in an X matrix and Y vector\"},],\n",
    "                            \"Blocks\": [{\"ID\": \"Load Data Block\", \"Name\": \"Load Data Block\", \"Description\": \"The block for loading data, which could be through a database, flat file, etc.\", \"Domain\": [], \"Codomain\": [\"Data Space\"]},\n",
    "                                       {\"ID\": \"Data Preprocessing Block\", \"Name\": \"Data Preprocessing Block\", \"Description\": \"The block for preprocessing\", \"Domain\": [\"Data Space\"], \"Codomain\": [\"Data Space\"]}],},\n",
    "                \"Workbench\": {\"Processors\": [{\"ID\": \"Load CSV Data\", \"Name\": \"Load CSV Data\", \"Description\": \"Loads data from a CSV file\",\n",
    "                                              \"Parent\": \"Load Data Block\", \"Ports\": [], \"Terminals\": [\"Data Space\"]},\n",
    "                                              {\"ID\": \"Data Preprocessing\", \"Name\": \"Data Preprocessing\", \"Description\": \"Logic for how preprocessing works\",\n",
    "                                              \"Parent\": \"Data Preprocessing Block\", \"Ports\": [\"Data Space\"], \"Terminals\": [\"Data Space\"]}],\n",
    "                              \"Wires\": [{\"ID\": \"W1\", \"Parent\": \"Data Space\", \"Source\": {\"Processor\": \"Load CSV Data\", \"Index\":0}, \"Target\": {\"Processor\": \"Data Preprocessing\", \"Index\":0}},\n",
    "                              ],\n",
    "                              \"Systems\": [\n",
    "                                  {\"ID\": \"Sys1\", \"Name\": \"System 1\", \"Description\": \"My System\",\n",
    "                                           \"Processors\": [\"Load CSV Data\", \"Data Preprocessing\"],\n",
    "                                           \"Wires\": [\"W1\"]}\n",
    "                                           ],}}\n",
    "\n",
    "# Load the project\n",
    "project = load_project(project_json)\n",
    "\n",
    "# Display the mermaid graphic of this system\n",
    "display(Markdown(project.systems_map[\"Sys1\"].create_mermaid_graphic()[0]))"
   ]
  },
  {
   "cell_type": "code",
   "execution_count": null,
   "metadata": {},
   "outputs": [],
   "source": []
  }
 ],
 "metadata": {
  "kernelspec": {
   "display_name": "MSML",
   "language": "python",
   "name": "python3"
  },
  "language_info": {
   "codemirror_mode": {
    "name": "ipython",
    "version": 3
   },
   "file_extension": ".py",
   "mimetype": "text/x-python",
   "name": "python",
   "nbconvert_exporter": "python",
   "pygments_lexer": "ipython3",
   "version": "3.9.19"
  }
 },
 "nbformat": 4,
 "nbformat_minor": 2
}
