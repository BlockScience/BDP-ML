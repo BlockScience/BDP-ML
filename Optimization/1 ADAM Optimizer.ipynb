{
 "cells": [
  {
   "cell_type": "markdown",
   "id": "41436308",
   "metadata": {},
   "source": [
    "# ADAM Optimizer\n",
    "\n",
    "A common optimizer used in machine learning is ADAM. We have created the components for it in a separate file of ADAM.json and will use that to showcase it here."
   ]
  },
  {
   "cell_type": "code",
   "execution_count": 1,
   "id": "d2fdd8e8",
   "metadata": {},
   "outputs": [],
   "source": [
    "import sys\n",
    "#sys.path.append(\"../../pybdp\")\n",
    "#from src import pybdp\n",
    "import pybdp\n",
    "from IPython.display import Markdown\n",
    "from pprint import pprint\n",
    "\n",
    "# Start with an empty project\n",
    "project = pybdp.create_empty_project()"
   ]
  },
  {
   "cell_type": "markdown",
   "id": "e49b50d4",
   "metadata": {},
   "source": [
    "## High Level\n",
    "\n",
    "At a high level, the ADAM algorithm initializes some optimization parameters and then loops updating theta, the paremeters we are optimizing for."
   ]
  },
  {
   "cell_type": "code",
   "execution_count": 2,
   "id": "ac62eec1",
   "metadata": {},
   "outputs": [
    {
     "data": {
      "text/markdown": [
       "```mermaid\n",
       "---\n",
       "config:\n",
       "    layout: elk\n",
       "---\n",
       "graph LR\n",
       "subgraph G0[ADAM - Parameter Optimization Block Block]\n",
       "direction LR\n",
       "X0[ADAM]\n",
       "subgraph G0P[Ports]\n",
       "direction TB\n",
       "XX0P0[theta]\n",
       "end\n",
       "XX0P0[theta] o--o X0\n",
       "subgraph G0T[Terminals]\n",
       "direction TB\n",
       "XX0T0[theta]\n",
       "end\n",
       "X0 o--o XX0T0[theta]\n",
       "end\n",
       "\n",
       "```"
      ],
      "text/plain": [
       "<IPython.core.display.Markdown object>"
      ]
     },
     "metadata": {},
     "output_type": "display_data"
    },
    {
     "name": "stdout",
     "output_type": "stream",
     "text": [
      "Ports:\n",
      "[< Space ID: theta Name: theta >]\n",
      "Terminals:\n",
      "[< Space ID: theta Name: theta >]\n"
     ]
    }
   ],
   "source": [
    "# Add the spaces\n",
    "project.add_space(id = \"theta\",\n",
    "                  name = \"theta\",\n",
    "                  description = \"The model parameters\")\n",
    "\n",
    "# Add the block\n",
    "project.add_block(id=\"Parameter Optimization Block\",\n",
    "                  name=\"Parameter Optimization Block\",\n",
    "                  description=\"The block for parameter optimization\",\n",
    "                  domain=[\"theta\"],\n",
    "                  codomain=[\"theta\"],)\n",
    "\n",
    "# Add the processor\n",
    "project.add_processor(id=\"ADAM\",\n",
    "                      name=\"ADAM\",\n",
    "                      description=\"The ADAM optimization algorithm\",\n",
    "                      parent_id=\"Parameter Optimization Block\",)\n",
    "\n",
    "\n",
    "processor = project.processors_map[\"ADAM\"]\n",
    "processor.display_mermaid_graphic()\n",
    "print(\"Ports:\")\n",
    "print(processor.ports)\n",
    "print(\"Terminals:\")\n",
    "print(processor.terminals)"
   ]
  },
  {
   "cell_type": "markdown",
   "id": "24a28dba",
   "metadata": {},
   "source": [
    "## Initialization and Updating\n",
    "\n",
    "The next step is to break down what happens in our subsystem. There are two components that run sequentially:\n",
    "\n",
    "1. Initializing the variables for ADAM\n",
    "2. Running the update loop\n",
    "\n",
    "We add them below as a subsystem, first creating the system itself."
   ]
  },
  {
   "cell_type": "code",
   "execution_count": 3,
   "id": "7852663f",
   "metadata": {},
   "outputs": [
    {
     "name": "stdout",
     "output_type": "stream",
     "text": [
      "{'Ports': [{'Parent': 'theta',\n",
      "            'Source': {'Index': 0, 'Processor': 'ADAM Update Loop'},\n",
      "            'Target': {'Index': 0, 'Processor': 'ADAM Initialization'}}],\n",
      " 'Terminals': [{'Parent': 'theta',\n",
      "                'Source': {'Index': 0, 'Processor': 'ADAM Initialization'},\n",
      "                'Target': {'Index': 0, 'Processor': 'ADAM Update Loop'}},\n",
      "               {'Parent': 'm',\n",
      "                'Source': {'Index': 1, 'Processor': 'ADAM Initialization'},\n",
      "                'Target': {'Index': 1, 'Processor': 'ADAM Update Loop'}},\n",
      "               {'Parent': 'v',\n",
      "                'Source': {'Index': 2, 'Processor': 'ADAM Initialization'},\n",
      "                'Target': {'Index': 2, 'Processor': 'ADAM Update Loop'}},\n",
      "               {'Parent': 't',\n",
      "                'Source': {'Index': 3, 'Processor': 'ADAM Initialization'},\n",
      "                'Target': {'Index': 3, 'Processor': 'ADAM Update Loop'}}]}\n"
     ]
    }
   ],
   "source": [
    "# Add the spaces\n",
    "project.add_space(id = \"m\",\n",
    "                  name = \"m\",\n",
    "                  description = \"First moment vector\")\n",
    "\n",
    "project.add_space(id = \"v\",\n",
    "                  name = \"v\",\n",
    "                  description = \"Second moment vector\")\n",
    "\n",
    "project.add_space(id = \"t\",\n",
    "                  name = \"t\",\n",
    "                  description = \"The current timestep\")\n",
    "\n",
    "\n",
    "# Add the block\n",
    "project.add_block(id=\"Parameter Initialization\",\n",
    "                  name=\"Parameter Initialization\",\n",
    "                  description=\"The block for parameter initialization\",\n",
    "                  domain=[\"theta\"],\n",
    "                  codomain=[\"theta\", \"m\", \"v\", \"t\"],)\n",
    "\n",
    "project.add_block(id=\"Optimization Update Loop\",\n",
    "                  name=\"Optimization Update Loop\",\n",
    "                  description=\"The block for the update loop of optimization\",\n",
    "                  domain=[\"theta\", \"m\", \"v\", \"t\"],\n",
    "                  codomain=[\"theta\"],)\n",
    "\n",
    "\n",
    "\n",
    "# Add the processor\n",
    "project.add_processor(id=\"ADAM Initialization\",\n",
    "                      name=\"ADAM Initialization\",\n",
    "                      description=\"Initialiazes the ADAM state variables\",\n",
    "                      parent_id=\"Parameter Initialization\")\n",
    "project.add_processor(id=\"ADAM Update Loop\",\n",
    "                      name=\"ADAM Update Loop\",\n",
    "                      description=\"Loops through the ADAM updates\",\n",
    "                      parent_id=\"Optimization Update Loop\")\n",
    "pprint(project.processors_map[\"ADAM Initialization\"].find_potential_wires(project.processors_map[\"ADAM Update Loop\"]))"
   ]
  },
  {
   "cell_type": "code",
   "execution_count": 4,
   "id": "2bac9807",
   "metadata": {},
   "outputs": [
    {
     "data": {
      "text/markdown": [
       "```mermaid\n",
       "---\n",
       "config:\n",
       "    layout: elk\n",
       "---\n",
       "graph LR\n",
       "subgraph GS0[ADAM System]\n",
       "subgraph G0[ADAM Initialization - Parameter Initialization Block]\n",
       "direction LR\n",
       "X0[ADAM Initialization]\n",
       "subgraph G0P[Ports]\n",
       "direction TB\n",
       "XX0P0[theta]\n",
       "end\n",
       "XX0P0[theta] o--o X0\n",
       "subgraph G0T[Terminals]\n",
       "direction TB\n",
       "XX0T0[theta]\n",
       "XX0T1[m]\n",
       "XX0T2[v]\n",
       "XX0T3[t]\n",
       "end\n",
       "X0 o--o XX0T0[theta]\n",
       "X0 o--o XX0T1[m]\n",
       "X0 o--o XX0T2[v]\n",
       "X0 o--o XX0T3[t]\n",
       "end\n",
       "subgraph G1[ADAM Update Loop - Optimization Update Loop Block]\n",
       "direction LR\n",
       "X1[ADAM Update Loop]\n",
       "subgraph G1P[Ports]\n",
       "direction TB\n",
       "XX1P0[theta]\n",
       "XX1P1[m]\n",
       "XX1P2[v]\n",
       "XX1P3[t]\n",
       "end\n",
       "XX1P0[theta] o--o X1\n",
       "XX1P1[m] o--o X1\n",
       "XX1P2[v] o--o X1\n",
       "XX1P3[t] o--o X1\n",
       "subgraph G1T[Terminals]\n",
       "direction TB\n",
       "XX1T0[theta]\n",
       "end\n",
       "X1 o--o XX1T0[theta]\n",
       "end\n",
       "XX0T0[theta] ---> XX1P0[theta]\n",
       "XX0T1[m] ---> XX1P1[m]\n",
       "XX0T2[v] ---> XX1P2[v]\n",
       "XX0T3[t] ---> XX1P3[t]\n",
       "end\n",
       "\n",
       "```"
      ],
      "text/plain": [
       "<IPython.core.display.Markdown object>"
      ]
     },
     "metadata": {},
     "output_type": "display_data"
    }
   ],
   "source": [
    "project.add_wires([{'Parent': 'theta',\n",
    "                'Source': {'Index': 0, 'Processor': 'ADAM Initialization'},\n",
    "                'Target': {'Index': 0, 'Processor': 'ADAM Update Loop'}},\n",
    "               {'Parent': 'm',\n",
    "                'Source': {'Index': 1, 'Processor': 'ADAM Initialization'},\n",
    "                'Target': {'Index': 1, 'Processor': 'ADAM Update Loop'}},\n",
    "               {'Parent': 'v',\n",
    "                'Source': {'Index': 2, 'Processor': 'ADAM Initialization'},\n",
    "                'Target': {'Index': 2, 'Processor': 'ADAM Update Loop'}},\n",
    "               {'Parent': 't',\n",
    "                'Source': {'Index': 3, 'Processor': 'ADAM Initialization'},\n",
    "                'Target': {'Index': 3, 'Processor': 'ADAM Update Loop'}}],\n",
    "                auto_increment=True)\n",
    "\n",
    "project.add_system(id=\"ADAM System\",\n",
    "                   name=\"ADAM System\",\n",
    "                   processors=[\"ADAM Initialization\", \"ADAM Update Loop\"],\n",
    "                   wires=[\"W1\", \"W2\", \"W3\", \"W4\"],\n",
    "                     description=\"The system representing the ADAM algorithm\",)\n",
    "\n",
    "\n",
    "processor = project.systems_map[\"ADAM System\"]\n",
    "processor.display_mermaid_graphic()"
   ]
  },
  {
   "cell_type": "markdown",
   "id": "d128a085",
   "metadata": {},
   "source": [
    "## Attatch Subsystem"
   ]
  },
  {
   "cell_type": "code",
   "execution_count": 5,
   "id": "341da056",
   "metadata": {},
   "outputs": [
    {
     "name": "stdout",
     "output_type": "stream",
     "text": [
      "{'Port Mappings': [[{'Index': 0, 'Processor': 'ADAM Initialization'}]],\n",
      " 'Terminal Mappings': [[{'Index': 0, 'Processor': 'ADAM Initialization'},\n",
      "                        {'Index': 0, 'Processor': 'ADAM Update Loop'}]]}\n"
     ]
    }
   ],
   "source": [
    "possible = project.processors_map[\"ADAM\"].find_potential_subsystems_mappings(project.systems_map[\"ADAM System\"])\n",
    "pprint(possible)"
   ]
  },
  {
   "cell_type": "code",
   "execution_count": 6,
   "id": "670725c9",
   "metadata": {},
   "outputs": [
    {
     "name": "stdout",
     "output_type": "stream",
     "text": [
      "Port Mappings:  [{'Processor': 'ADAM Initialization', 'Index': 0}]\n",
      "Terminal Mappings:  [{'Processor': 'ADAM Update Loop', 'Index': 0}]\n"
     ]
    },
    {
     "data": {
      "text/markdown": [
       "```mermaid\n",
       "---\n",
       "config:\n",
       "    layout: elk\n",
       "---\n",
       "graph LR\n",
       "subgraph G0[ADAM - Parameter Optimization Block Block]\n",
       "direction LR\n",
       "X0[ADAM]\n",
       "subgraph G0P[Ports]\n",
       "direction TB\n",
       "XX0P0[theta]\n",
       "end\n",
       "XX0P0[theta] o--o X0\n",
       "subgraph G0T[Terminals]\n",
       "direction TB\n",
       "XX0T0[theta]\n",
       "end\n",
       "X0 o--o XX0T0[theta]\n",
       "end\n",
       "\n",
       "```"
      ],
      "text/plain": [
       "<IPython.core.display.Markdown object>"
      ]
     },
     "metadata": {},
     "output_type": "display_data"
    },
    {
     "data": {
      "text/markdown": [
       "```mermaid\n",
       "---\n",
       "config:\n",
       "    layout: elk\n",
       "---\n",
       "graph LR\n",
       "subgraph GC0[ADAM - Parameter Optimization Block Block]\n",
       "direction LR\n",
       "subgraph GS0[ADAM System]\n",
       "subgraph G1[ADAM Initialization - Parameter Initialization Block]\n",
       "direction LR\n",
       "X1[ADAM Initialization]\n",
       "subgraph G1P[Ports]\n",
       "direction TB\n",
       "XX1P0[theta]\n",
       "end\n",
       "XX1P0[theta] o--o X1\n",
       "subgraph G1T[Terminals]\n",
       "direction TB\n",
       "XX1T0[theta]\n",
       "XX1T1[m]\n",
       "XX1T2[v]\n",
       "XX1T3[t]\n",
       "end\n",
       "X1 o--o XX1T0[theta]\n",
       "X1 o--o XX1T1[m]\n",
       "X1 o--o XX1T2[v]\n",
       "X1 o--o XX1T3[t]\n",
       "end\n",
       "subgraph G2[ADAM Update Loop - Optimization Update Loop Block]\n",
       "direction LR\n",
       "X2[ADAM Update Loop]\n",
       "subgraph G2P[Ports]\n",
       "direction TB\n",
       "XX2P0[theta]\n",
       "XX2P1[m]\n",
       "XX2P2[v]\n",
       "XX2P3[t]\n",
       "end\n",
       "XX2P0[theta] o--o X2\n",
       "XX2P1[m] o--o X2\n",
       "XX2P2[v] o--o X2\n",
       "XX2P3[t] o--o X2\n",
       "subgraph G2T[Terminals]\n",
       "direction TB\n",
       "XX2T0[theta]\n",
       "end\n",
       "X2 o--o XX2T0[theta]\n",
       "end\n",
       "XX1T0[theta] ---> XX2P0[theta]\n",
       "XX1T1[m] ---> XX2P1[m]\n",
       "XX1T2[v] ---> XX2P2[v]\n",
       "XX1T3[t] ---> XX2P3[t]\n",
       "end\n",
       "subgraph GC0P[Ports]\n",
       "direction TB\n",
       "X1P0[theta]\n",
       "end\n",
       "X1P0[theta] --> XX1P0[theta]\n",
       "subgraph GC0T[Terminals]\n",
       "direction TB\n",
       "X1T0[theta]\n",
       "end\n",
       "XX2T0[theta] --> X1T0[theta]\n",
       "end\n",
       "\n",
       "```"
      ],
      "text/plain": [
       "<IPython.core.display.Markdown object>"
      ]
     },
     "metadata": {},
     "output_type": "display_data"
    }
   ],
   "source": [
    "port_mappings = [x[0] for x in possible[\"Port Mappings\"]]\n",
    "terminal_mappings = [x[1] for x in possible[\"Terminal Mappings\"]]\n",
    "print(\"Port Mappings: \", port_mappings)\n",
    "print(\"Terminal Mappings: \", terminal_mappings)\n",
    "\n",
    "project.attach_subsystem(project.processors_map[\"ADAM\"],\n",
    "                          project.systems_map[\"ADAM System\"],\n",
    "                          port_mappings,\n",
    "                          terminal_mappings)\n",
    "processor = project.processors_map[\"ADAM\"]\n",
    "processor.display_mermaid_graphic()\n",
    "processor.display_mermaid_graphic(composite=True)"
   ]
  },
  {
   "cell_type": "markdown",
   "id": "9933f5e5",
   "metadata": {},
   "source": [
    "## Update Loop\n",
    "\n",
    "Now we begin work on the update loop, we will have three components of it:\n",
    "\n",
    "1. A switch which can take in spaces from either outside the processor or inside the processor\n",
    "2. A convergance criteria which determines when the loop ends\n",
    "3. An update step which specifies how parameters are updated"
   ]
  },
  {
   "cell_type": "code",
   "execution_count": 7,
   "id": "73dc9695",
   "metadata": {},
   "outputs": [],
   "source": [
    "# Add the block\n",
    "project.add_block(id=\"Convergence Criteria\",\n",
    "                  name=\"Convergence Criteria\",\n",
    "                  description=\"Evaluates whether the optimization process has converged based on moments, timestep, and parameters\",\n",
    "                  domain=[\"m\", \"v\", \"t\", \"theta\"],\n",
    "                  codomain=[\"m\", \"v\", \"t\", \"theta\"],)\n",
    "\n",
    "project.add_block(id=\"Optimization Step\",\n",
    "                  name=\"Optimization Step\",\n",
    "                  description=\"One step in the optimization process\",\n",
    "                  domain=[\"theta\",  \"m\", \"v\", \"t\"],\n",
    "                  codomain=[\"theta\",  \"m\", \"v\", \"t\"],)\n",
    "\n",
    "\n",
    "\n",
    "# Add the processor\n",
    "project.add_processor(id=\"Theta Convergence Criteria\",\n",
    "                      name=\"Theta Convergence Criteria\",\n",
    "                      description=\"Convergence criteria based only on theta\",\n",
    "                      parent_id=\"Convergence Criteria\")\n",
    "project.add_processor(id=\"ADAM Update Step\",\n",
    "                      name=\"ADAM Update Step\",\n",
    "                      description=\"One update step in the ADAM algorithm\",\n",
    "                      parent_id=\"Optimization Step\")"
   ]
  }
 ],
 "metadata": {
  "kernelspec": {
   "display_name": "MSML",
   "language": "python",
   "name": "python3"
  },
  "language_info": {
   "codemirror_mode": {
    "name": "ipython",
    "version": 3
   },
   "file_extension": ".py",
   "mimetype": "text/x-python",
   "name": "python",
   "nbconvert_exporter": "python",
   "pygments_lexer": "ipython3",
   "version": "3.9.19"
  }
 },
 "nbformat": 4,
 "nbformat_minor": 5
}
