{
 "cells": [
  {
   "cell_type": "markdown",
   "id": "41436308",
   "metadata": {},
   "source": [
    "# ADAM Optimizer\n",
    "\n",
    "A common optimizer used in machine learning is ADAM. We have created the components for it in a separate file of ADAM.json and will use that to showcase it here."
   ]
  },
  {
   "cell_type": "code",
   "execution_count": 1,
   "id": "d2fdd8e8",
   "metadata": {},
   "outputs": [],
   "source": [
    "import sys\n",
    "#sys.path.append(\"../../pybdp\")\n",
    "#from src import pybdp\n",
    "import pybdp\n",
    "from IPython.display import Markdown\n",
    "from pprint import pprint\n",
    "\n",
    "# Start with an empty project\n",
    "project = pybdp.create_empty_project()"
   ]
  },
  {
   "cell_type": "markdown",
   "id": "e49b50d4",
   "metadata": {},
   "source": [
    "## High Level\n",
    "\n",
    "At a high level, the ADAM algorithm initializes some optimization parameters and then loops updating theta, the paremeters we are optimizing for."
   ]
  },
  {
   "cell_type": "code",
   "execution_count": 2,
   "id": "ac62eec1",
   "metadata": {},
   "outputs": [
    {
     "data": {
      "text/markdown": [
       "```mermaid\n",
       "---\n",
       "config:\n",
       "    layout: elk\n",
       "---\n",
       "graph LR\n",
       "subgraph G0[ADAM - Parameter Optimization Block Block]\n",
       "direction LR\n",
       "X0[ADAM]\n",
       "subgraph G0P[Ports]\n",
       "direction TB\n",
       "XX0P0[theta]\n",
       "end\n",
       "XX0P0[theta] o--o X0\n",
       "subgraph G0T[Terminals]\n",
       "direction TB\n",
       "XX0T0[theta]\n",
       "end\n",
       "X0 o--o XX0T0[theta]\n",
       "end\n",
       "\n",
       "```"
      ],
      "text/plain": [
       "<IPython.core.display.Markdown object>"
      ]
     },
     "metadata": {},
     "output_type": "display_data"
    },
    {
     "name": "stdout",
     "output_type": "stream",
     "text": [
      "Ports:\n",
      "[< Space ID: theta Name: theta >]\n",
      "Terminals:\n",
      "[< Space ID: theta Name: theta >]\n"
     ]
    }
   ],
   "source": [
    "# Add the spaces\n",
    "project.add_space(id = \"theta\",\n",
    "                  name = \"theta\",\n",
    "                  description = \"The model parameters\")\n",
    "\n",
    "# Add the block\n",
    "project.add_block(id=\"Parameter Optimization Block\",\n",
    "                  name=\"Parameter Optimization Block\",\n",
    "                  description=\"The block for parameter optimization\",\n",
    "                  domain=[\"theta\"],\n",
    "                  codomain=[\"theta\"],)\n",
    "\n",
    "# Add the processor\n",
    "project.add_processor(id=\"ADAM\",\n",
    "                      name=\"ADAM\",\n",
    "                      description=\"The ADAM optimization algorithm\",\n",
    "                      parent_id=\"Parameter Optimization Block\",)\n",
    "\n",
    "\n",
    "processor = project.processors_map[\"ADAM\"]\n",
    "processor.display_mermaid_graphic()\n",
    "print(\"Ports:\")\n",
    "print(processor.ports)\n",
    "print(\"Terminals:\")\n",
    "print(processor.terminals)"
   ]
  },
  {
   "cell_type": "code",
   "execution_count": null,
   "id": "701c0cb5",
   "metadata": {},
   "outputs": [],
   "source": [
    "\n",
    "            {\n",
    "              \"Description\": \"The ADAM algorithm\",\n",
    "              \"ID\": \"ADAM\",\n",
    "              \"Name\": \"ADAM\",\n",
    "              \"Parent\": \"ADAM Block\",\n",
    "              \"Ports\": [\n",
    "                \"theta\"\n",
    "              ],\n",
    "              \"Subsystem\": {\n",
    "                \"Port Mappings\": [\n",
    "                  {\n",
    "                    \"Index\": 0,\n",
    "                    \"Processor\": \"ADAM Initialization\"\n",
    "                  }\n",
    "                ],\n",
    "                \"System ID\": \"ADAM System\",\n",
    "                \"Terminal Mappings\": [\n",
    "                  {\n",
    "                    \"Index\": 0,\n",
    "                    \"Processor\": \"ADAM Update Loop\"\n",
    "                  }\n",
    "                ]\n",
    "              },\n",
    "              \"Terminals\": [\n",
    "                \"theta\"\n",
    "              ]\n",
    "            },"
   ]
  }
 ],
 "metadata": {
  "kernelspec": {
   "display_name": "MSML",
   "language": "python",
   "name": "python3"
  },
  "language_info": {
   "codemirror_mode": {
    "name": "ipython",
    "version": 3
   },
   "file_extension": ".py",
   "mimetype": "text/x-python",
   "name": "python",
   "nbconvert_exporter": "python",
   "pygments_lexer": "ipython3",
   "version": "3.9.19"
  }
 },
 "nbformat": 4,
 "nbformat_minor": 5
}
