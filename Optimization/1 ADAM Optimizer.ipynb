{
 "cells": [
  {
   "cell_type": "markdown",
   "id": "41436308",
   "metadata": {},
   "source": [
    "# ADAM Optimizer\n",
    "\n",
    "A common optimizer used in machine learning is ADAM. We have created the components for it in a separate file of ADAM.json and will use that to showcase it here."
   ]
  },
  {
   "cell_type": "code",
   "execution_count": 2,
   "id": "d2fdd8e8",
   "metadata": {},
   "outputs": [],
   "source": [
    "import sys\n",
    "#sys.path.append(\"../../pybdp\")\n",
    "#from src import pybdp\n",
    "import pybdp\n",
    "from IPython.display import Markdown\n",
    "from pprint import pprint\n",
    "\n",
    "# Start with an empty project\n",
    "project = pybdp.create_empty_project()"
   ]
  },
  {
   "cell_type": "markdown",
   "id": "e49b50d4",
   "metadata": {},
   "source": [
    "## High Level\n",
    "\n",
    "At a high level, the ADAM algorithm initializes some optimization parameters and then loops updating theta, the paremeters we are optimizing for."
   ]
  },
  {
   "cell_type": "code",
   "execution_count": 3,
   "id": "ac62eec1",
   "metadata": {},
   "outputs": [
    {
     "data": {
      "text/markdown": [
       "```mermaid\n",
       "---\n",
       "config:\n",
       "    layout: elk\n",
       "---\n",
       "graph LR\n",
       "subgraph G0[ADAM - Parameter Optimization Block Block]\n",
       "direction LR\n",
       "X0[ADAM]\n",
       "subgraph G0P[Ports]\n",
       "direction TB\n",
       "XX0P0[theta]\n",
       "end\n",
       "XX0P0[theta] o--o X0\n",
       "subgraph G0T[Terminals]\n",
       "direction TB\n",
       "XX0T0[theta]\n",
       "end\n",
       "X0 o--o XX0T0[theta]\n",
       "end\n",
       "\n",
       "```"
      ],
      "text/plain": [
       "<IPython.core.display.Markdown object>"
      ]
     },
     "metadata": {},
     "output_type": "display_data"
    },
    {
     "name": "stdout",
     "output_type": "stream",
     "text": [
      "Ports:\n",
      "[< Space ID: theta Name: theta >]\n",
      "Terminals:\n",
      "[< Space ID: theta Name: theta >]\n"
     ]
    }
   ],
   "source": [
    "# Add the spaces\n",
    "project.add_space(id = \"theta\",\n",
    "                  name = \"theta\",\n",
    "                  description = \"The model parameters\")\n",
    "\n",
    "# Add the block\n",
    "project.add_block(id=\"Parameter Optimization Block\",\n",
    "                  name=\"Parameter Optimization Block\",\n",
    "                  description=\"The block for parameter optimization\",\n",
    "                  domain=[\"theta\"],\n",
    "                  codomain=[\"theta\"],)\n",
    "\n",
    "# Add the processor\n",
    "project.add_processor(id=\"ADAM\",\n",
    "                      name=\"ADAM\",\n",
    "                      description=\"The ADAM optimization algorithm\",\n",
    "                      parent_id=\"Parameter Optimization Block\",)\n",
    "\n",
    "\n",
    "processor = project.processors_map[\"ADAM\"]\n",
    "processor.display_mermaid_graphic()\n",
    "print(\"Ports:\")\n",
    "print(processor.ports)\n",
    "print(\"Terminals:\")\n",
    "print(processor.terminals)"
   ]
  },
  {
   "cell_type": "markdown",
   "id": "24a28dba",
   "metadata": {},
   "source": [
    "## Initialization and Updating\n",
    "\n",
    "The next step is to break down what happens in our subsystem. There are two components that run sequentially:\n",
    "\n",
    "1. Initializing the variables for ADAM\n",
    "2. Running the update loop\n",
    "\n",
    "We add them below as a subsystem, first creating the system itself."
   ]
  },
  {
   "cell_type": "code",
   "execution_count": 4,
   "id": "7852663f",
   "metadata": {},
   "outputs": [
    {
     "name": "stdout",
     "output_type": "stream",
     "text": [
      "{'Ports': [{'Parent': 'theta',\n",
      "            'Source': {'Index': 0, 'Processor': 'ADAM Update Loop'},\n",
      "            'Target': {'Index': 0, 'Processor': 'ADAM Initialization'}}],\n",
      " 'Terminals': [{'Parent': 'theta',\n",
      "                'Source': {'Index': 0, 'Processor': 'ADAM Initialization'},\n",
      "                'Target': {'Index': 0, 'Processor': 'ADAM Update Loop'}},\n",
      "               {'Parent': 'm',\n",
      "                'Source': {'Index': 1, 'Processor': 'ADAM Initialization'},\n",
      "                'Target': {'Index': 1, 'Processor': 'ADAM Update Loop'}},\n",
      "               {'Parent': 'v',\n",
      "                'Source': {'Index': 2, 'Processor': 'ADAM Initialization'},\n",
      "                'Target': {'Index': 2, 'Processor': 'ADAM Update Loop'}},\n",
      "               {'Parent': 't',\n",
      "                'Source': {'Index': 3, 'Processor': 'ADAM Initialization'},\n",
      "                'Target': {'Index': 3, 'Processor': 'ADAM Update Loop'}}]}\n"
     ]
    }
   ],
   "source": [
    "# Add the spaces\n",
    "project.add_space(id = \"m\",\n",
    "                  name = \"m\",\n",
    "                  description = \"First moment vector\")\n",
    "\n",
    "project.add_space(id = \"v\",\n",
    "                  name = \"v\",\n",
    "                  description = \"Second moment vector\")\n",
    "\n",
    "project.add_space(id = \"t\",\n",
    "                  name = \"t\",\n",
    "                  description = \"The current timestep\")\n",
    "\n",
    "\n",
    "# Add the block\n",
    "project.add_block(id=\"Parameter Initialization\",\n",
    "                  name=\"Parameter Initialization\",\n",
    "                  description=\"The block for parameter initialization\",\n",
    "                  domain=[\"theta\"],\n",
    "                  codomain=[\"theta\", \"m\", \"v\", \"t\"],)\n",
    "\n",
    "project.add_block(id=\"Optimization Update Loop\",\n",
    "                  name=\"Optimization Update Loop\",\n",
    "                  description=\"The block for the update loop of optimization\",\n",
    "                  domain=[\"theta\", \"m\", \"v\", \"t\"],\n",
    "                  codomain=[\"theta\"],)\n",
    "\n",
    "\n",
    "\n",
    "# Add the processor\n",
    "project.add_processor(id=\"ADAM Initialization\",\n",
    "                      name=\"ADAM Initialization\",\n",
    "                      description=\"Initialiazes the ADAM state variables\",\n",
    "                      parent_id=\"Parameter Initialization\")\n",
    "project.add_processor(id=\"ADAM Update Loop\",\n",
    "                      name=\"ADAM Update Loop\",\n",
    "                      description=\"Loops through the ADAM updates\",\n",
    "                      parent_id=\"Optimization Update Loop\")\n",
    "pprint(project.processors_map[\"ADAM Initialization\"].find_potential_wires(project.processors_map[\"ADAM Update Loop\"]))"
   ]
  },
  {
   "cell_type": "code",
   "execution_count": null,
   "id": "2bac9807",
   "metadata": {},
   "outputs": [],
   "source": [
    "\n",
    "\n",
    "\n",
    "\n",
    "\n",
    "\n",
    "\n",
    "\n",
    "\n"
   ]
  },
  {
   "cell_type": "code",
   "execution_count": null,
   "id": "701c0cb5",
   "metadata": {},
   "outputs": [],
   "source": [
    "\n",
    "            {\n",
    "              \"Description\": \"The ADAM algorithm\",\n",
    "              \"ID\": \"ADAM\",\n",
    "              \"Name\": \"ADAM\",\n",
    "              \"Parent\": \"ADAM Block\",\n",
    "              \"Ports\": [\n",
    "                \"theta\"\n",
    "              ],\n",
    "              \"Subsystem\": {\n",
    "                \"Port Mappings\": [\n",
    "                  {\n",
    "                    \"Index\": 0,\n",
    "                    \"Processor\": \"ADAM Initialization\"\n",
    "                  }\n",
    "                ],\n",
    "                \"System ID\": \"ADAM System\",\n",
    "                \"Terminal Mappings\": [\n",
    "                  {\n",
    "                    \"Index\": 0,\n",
    "                    \"Processor\": \"ADAM Update Loop\"\n",
    "                  }\n",
    "                ]\n",
    "              },\n",
    "              \"Terminals\": [\n",
    "                \"theta\"\n",
    "              ]\n",
    "            },"
   ]
  }
 ],
 "metadata": {
  "kernelspec": {
   "display_name": "MSML",
   "language": "python",
   "name": "python3"
  },
  "language_info": {
   "codemirror_mode": {
    "name": "ipython",
    "version": 3
   },
   "file_extension": ".py",
   "mimetype": "text/x-python",
   "name": "python",
   "nbconvert_exporter": "python",
   "pygments_lexer": "ipython3",
   "version": "3.9.19"
  }
 },
 "nbformat": 4,
 "nbformat_minor": 5
}
