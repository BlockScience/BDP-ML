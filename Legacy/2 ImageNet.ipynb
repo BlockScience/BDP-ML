{
 "cells": [
  {
   "cell_type": "markdown",
   "metadata": {},
   "source": [
    "# ImageNet\n",
    "\n",
    "Following up on MNIST, we can easily add in a composite processor for load ImageNet which uses the same components as MNIST except replacing the initial load dataset block for loading ImageNet."
   ]
  },
  {
   "cell_type": "code",
   "execution_count": null,
   "metadata": {},
   "outputs": [
    {
     "ename": "AssertionError",
     "evalue": "Space ID Model referenced in Fit Supervised Model domain not found in spaces",
     "output_type": "error",
     "traceback": [
      "\u001b[0;31m---------------------------------------------------------------------------\u001b[0m",
      "\u001b[0;31mAssertionError\u001b[0m                            Traceback (most recent call last)",
      "Cell \u001b[0;32mIn[1], line 12\u001b[0m\n\u001b[1;32m      9\u001b[0m     project_json \u001b[38;5;241m=\u001b[39m json\u001b[38;5;241m.\u001b[39mload(f)\n\u001b[1;32m     11\u001b[0m \u001b[38;5;66;03m# Load the project\u001b[39;00m\n\u001b[0;32m---> 12\u001b[0m project \u001b[38;5;241m=\u001b[39m \u001b[43mload_project\u001b[49m\u001b[43m(\u001b[49m\u001b[43mproject_json\u001b[49m\u001b[43m)\u001b[49m\n",
      "File \u001b[0;32m~/opt/anaconda3/envs/MSML/lib/python3.9/site-packages/pybdp/project.py:184\u001b[0m, in \u001b[0;36mload_project\u001b[0;34m(json)\u001b[0m\n\u001b[1;32m    182\u001b[0m \u001b[38;5;28;01mdef\u001b[39;00m \u001b[38;5;21mload_project\u001b[39m(json: \u001b[38;5;28mdict\u001b[39m):\n\u001b[1;32m    183\u001b[0m     validate(json, schema)\n\u001b[0;32m--> 184\u001b[0m     \u001b[38;5;28;01mreturn\u001b[39;00m \u001b[43mProject\u001b[49m\u001b[43m(\u001b[49m\u001b[43mjson\u001b[49m\u001b[43m)\u001b[49m\n",
      "File \u001b[0;32m~/opt/anaconda3/envs/MSML/lib/python3.9/site-packages/pybdp/project.py:14\u001b[0m, in \u001b[0;36mProject.__init__\u001b[0;34m(self, json)\u001b[0m\n\u001b[1;32m     11\u001b[0m \u001b[38;5;28mself\u001b[39m\u001b[38;5;241m.\u001b[39mraw_data \u001b[38;5;241m=\u001b[39m json\n\u001b[1;32m     13\u001b[0m \u001b[38;5;66;03m# Load toolbox\u001b[39;00m\n\u001b[0;32m---> 14\u001b[0m \u001b[38;5;28mself\u001b[39m\u001b[38;5;241m.\u001b[39mtoolbox \u001b[38;5;241m=\u001b[39m \u001b[43mload_toolbox\u001b[49m\u001b[43m(\u001b[49m\u001b[43mjson\u001b[49m\u001b[43m[\u001b[49m\u001b[38;5;124;43m\"\u001b[39;49m\u001b[38;5;124;43mToolbox\u001b[39;49m\u001b[38;5;124;43m\"\u001b[39;49m\u001b[43m]\u001b[49m\u001b[43m)\u001b[49m\n\u001b[1;32m     16\u001b[0m \u001b[38;5;66;03m# Bring in mapping and objects to the project level\u001b[39;00m\n\u001b[1;32m     17\u001b[0m \u001b[38;5;28mself\u001b[39m\u001b[38;5;241m.\u001b[39mblocks \u001b[38;5;241m=\u001b[39m \u001b[38;5;28mself\u001b[39m\u001b[38;5;241m.\u001b[39mtoolbox\u001b[38;5;241m.\u001b[39mblocks\n",
      "File \u001b[0;32m~/opt/anaconda3/envs/MSML/lib/python3.9/site-packages/pybdp/toolbox.py:45\u001b[0m, in \u001b[0;36mload_toolbox\u001b[0;34m(json)\u001b[0m\n\u001b[1;32m     44\u001b[0m \u001b[38;5;28;01mdef\u001b[39;00m \u001b[38;5;21mload_toolbox\u001b[39m(json: \u001b[38;5;28mdict\u001b[39m):\n\u001b[0;32m---> 45\u001b[0m     \u001b[38;5;28;01mreturn\u001b[39;00m \u001b[43mToolbox\u001b[49m\u001b[43m(\u001b[49m\u001b[43mjson\u001b[49m\u001b[43m)\u001b[49m\n",
      "File \u001b[0;32m~/opt/anaconda3/envs/MSML/lib/python3.9/site-packages/pybdp/toolbox.py:12\u001b[0m, in \u001b[0;36mToolbox.__init__\u001b[0;34m(self, json)\u001b[0m\n\u001b[1;32m      9\u001b[0m \u001b[38;5;28mself\u001b[39m\u001b[38;5;241m.\u001b[39mspaces \u001b[38;5;241m=\u001b[39m [load_space(space) \u001b[38;5;28;01mfor\u001b[39;00m space \u001b[38;5;129;01min\u001b[39;00m json[\u001b[38;5;124m\"\u001b[39m\u001b[38;5;124mSpaces\u001b[39m\u001b[38;5;124m\"\u001b[39m]]\n\u001b[1;32m     10\u001b[0m \u001b[38;5;28mself\u001b[39m\u001b[38;5;241m.\u001b[39mspaces_map \u001b[38;5;241m=\u001b[39m {space\u001b[38;5;241m.\u001b[39mid: space \u001b[38;5;28;01mfor\u001b[39;00m space \u001b[38;5;129;01min\u001b[39;00m \u001b[38;5;28mself\u001b[39m\u001b[38;5;241m.\u001b[39mspaces}\n\u001b[0;32m---> 12\u001b[0m \u001b[38;5;28mself\u001b[39m\u001b[38;5;241m.\u001b[39mblocks \u001b[38;5;241m=\u001b[39m [load_block(block, \u001b[38;5;28mself\u001b[39m\u001b[38;5;241m.\u001b[39mspaces_map) \u001b[38;5;28;01mfor\u001b[39;00m block \u001b[38;5;129;01min\u001b[39;00m json[\u001b[38;5;124m\"\u001b[39m\u001b[38;5;124mBlocks\u001b[39m\u001b[38;5;124m\"\u001b[39m]]\n\u001b[1;32m     14\u001b[0m \u001b[38;5;28mself\u001b[39m\u001b[38;5;241m.\u001b[39m_validate_unique_ids()\n\u001b[1;32m     16\u001b[0m \u001b[38;5;28mself\u001b[39m\u001b[38;5;241m.\u001b[39mblocks_map \u001b[38;5;241m=\u001b[39m {block\u001b[38;5;241m.\u001b[39mid: block \u001b[38;5;28;01mfor\u001b[39;00m block \u001b[38;5;129;01min\u001b[39;00m \u001b[38;5;28mself\u001b[39m\u001b[38;5;241m.\u001b[39mblocks}\n",
      "File \u001b[0;32m~/opt/anaconda3/envs/MSML/lib/python3.9/site-packages/pybdp/toolbox.py:12\u001b[0m, in \u001b[0;36m<listcomp>\u001b[0;34m(.0)\u001b[0m\n\u001b[1;32m      9\u001b[0m \u001b[38;5;28mself\u001b[39m\u001b[38;5;241m.\u001b[39mspaces \u001b[38;5;241m=\u001b[39m [load_space(space) \u001b[38;5;28;01mfor\u001b[39;00m space \u001b[38;5;129;01min\u001b[39;00m json[\u001b[38;5;124m\"\u001b[39m\u001b[38;5;124mSpaces\u001b[39m\u001b[38;5;124m\"\u001b[39m]]\n\u001b[1;32m     10\u001b[0m \u001b[38;5;28mself\u001b[39m\u001b[38;5;241m.\u001b[39mspaces_map \u001b[38;5;241m=\u001b[39m {space\u001b[38;5;241m.\u001b[39mid: space \u001b[38;5;28;01mfor\u001b[39;00m space \u001b[38;5;129;01min\u001b[39;00m \u001b[38;5;28mself\u001b[39m\u001b[38;5;241m.\u001b[39mspaces}\n\u001b[0;32m---> 12\u001b[0m \u001b[38;5;28mself\u001b[39m\u001b[38;5;241m.\u001b[39mblocks \u001b[38;5;241m=\u001b[39m [\u001b[43mload_block\u001b[49m\u001b[43m(\u001b[49m\u001b[43mblock\u001b[49m\u001b[43m,\u001b[49m\u001b[43m \u001b[49m\u001b[38;5;28;43mself\u001b[39;49m\u001b[38;5;241;43m.\u001b[39;49m\u001b[43mspaces_map\u001b[49m\u001b[43m)\u001b[49m \u001b[38;5;28;01mfor\u001b[39;00m block \u001b[38;5;129;01min\u001b[39;00m json[\u001b[38;5;124m\"\u001b[39m\u001b[38;5;124mBlocks\u001b[39m\u001b[38;5;124m\"\u001b[39m]]\n\u001b[1;32m     14\u001b[0m \u001b[38;5;28mself\u001b[39m\u001b[38;5;241m.\u001b[39m_validate_unique_ids()\n\u001b[1;32m     16\u001b[0m \u001b[38;5;28mself\u001b[39m\u001b[38;5;241m.\u001b[39mblocks_map \u001b[38;5;241m=\u001b[39m {block\u001b[38;5;241m.\u001b[39mid: block \u001b[38;5;28;01mfor\u001b[39;00m block \u001b[38;5;129;01min\u001b[39;00m \u001b[38;5;28mself\u001b[39m\u001b[38;5;241m.\u001b[39mblocks}\n",
      "File \u001b[0;32m~/opt/anaconda3/envs/MSML/lib/python3.9/site-packages/pybdp/block.py:40\u001b[0m, in \u001b[0;36mload_block\u001b[0;34m(json, spaces_map)\u001b[0m\n\u001b[1;32m     39\u001b[0m \u001b[38;5;28;01mdef\u001b[39;00m \u001b[38;5;21mload_block\u001b[39m(json: \u001b[38;5;28mdict\u001b[39m, spaces_map):\n\u001b[0;32m---> 40\u001b[0m     \u001b[38;5;28;01mreturn\u001b[39;00m \u001b[43mBlock\u001b[49m\u001b[43m(\u001b[49m\u001b[43mjson\u001b[49m\u001b[43m,\u001b[49m\u001b[43m \u001b[49m\u001b[43mspaces_map\u001b[49m\u001b[43m)\u001b[49m\n",
      "File \u001b[0;32m~/opt/anaconda3/envs/MSML/lib/python3.9/site-packages/pybdp/block.py:12\u001b[0m, in \u001b[0;36mBlock.__init__\u001b[0;34m(self, json, spaces_map)\u001b[0m\n\u001b[1;32m     10\u001b[0m \u001b[38;5;28mself\u001b[39m\u001b[38;5;241m.\u001b[39mdomain \u001b[38;5;241m=\u001b[39m json[\u001b[38;5;124m\"\u001b[39m\u001b[38;5;124mDomain\u001b[39m\u001b[38;5;124m\"\u001b[39m]\n\u001b[1;32m     11\u001b[0m \u001b[38;5;28mself\u001b[39m\u001b[38;5;241m.\u001b[39mcodomain \u001b[38;5;241m=\u001b[39m json[\u001b[38;5;124m\"\u001b[39m\u001b[38;5;124mCodomain\u001b[39m\u001b[38;5;124m\"\u001b[39m]\n\u001b[0;32m---> 12\u001b[0m \u001b[38;5;28;43mself\u001b[39;49m\u001b[38;5;241;43m.\u001b[39;49m\u001b[43m_load_space_references\u001b[49m\u001b[43m(\u001b[49m\u001b[43mspaces_map\u001b[49m\u001b[43m)\u001b[49m\n",
      "File \u001b[0;32m~/opt/anaconda3/envs/MSML/lib/python3.9/site-packages/pybdp/block.py:17\u001b[0m, in \u001b[0;36mBlock._load_space_references\u001b[0;34m(self, spaces_map)\u001b[0m\n\u001b[1;32m     14\u001b[0m \u001b[38;5;28;01mdef\u001b[39;00m \u001b[38;5;21m_load_space_references\u001b[39m(\u001b[38;5;28mself\u001b[39m, spaces_map):\n\u001b[1;32m     15\u001b[0m     \u001b[38;5;66;03m# Assert the space IDs are valid\u001b[39;00m\n\u001b[1;32m     16\u001b[0m     \u001b[38;5;28;01mfor\u001b[39;00m space \u001b[38;5;129;01min\u001b[39;00m \u001b[38;5;28mself\u001b[39m\u001b[38;5;241m.\u001b[39mdomain:\n\u001b[0;32m---> 17\u001b[0m         \u001b[38;5;28;01massert\u001b[39;00m (\n\u001b[1;32m     18\u001b[0m             space \u001b[38;5;129;01min\u001b[39;00m spaces_map\n\u001b[1;32m     19\u001b[0m         ), \u001b[38;5;124mf\u001b[39m\u001b[38;5;124m\"\u001b[39m\u001b[38;5;124mSpace ID \u001b[39m\u001b[38;5;132;01m{\u001b[39;00mspace\u001b[38;5;132;01m}\u001b[39;00m\u001b[38;5;124m referenced in \u001b[39m\u001b[38;5;132;01m{\u001b[39;00m\u001b[38;5;28mself\u001b[39m\u001b[38;5;241m.\u001b[39mname\u001b[38;5;132;01m}\u001b[39;00m\u001b[38;5;124m domain not found in spaces\u001b[39m\u001b[38;5;124m\"\u001b[39m\n\u001b[1;32m     21\u001b[0m     \u001b[38;5;28;01mfor\u001b[39;00m space \u001b[38;5;129;01min\u001b[39;00m \u001b[38;5;28mself\u001b[39m\u001b[38;5;241m.\u001b[39mcodomain:\n\u001b[1;32m     22\u001b[0m         \u001b[38;5;28;01massert\u001b[39;00m (\n\u001b[1;32m     23\u001b[0m             space \u001b[38;5;129;01min\u001b[39;00m spaces_map\n\u001b[1;32m     24\u001b[0m         ), \u001b[38;5;124mf\u001b[39m\u001b[38;5;124m\"\u001b[39m\u001b[38;5;124mSpace ID \u001b[39m\u001b[38;5;132;01m{\u001b[39;00mspace\u001b[38;5;132;01m}\u001b[39;00m\u001b[38;5;124m referenced in \u001b[39m\u001b[38;5;132;01m{\u001b[39;00m\u001b[38;5;28mself\u001b[39m\u001b[38;5;241m.\u001b[39mname\u001b[38;5;132;01m}\u001b[39;00m\u001b[38;5;124m codomain not found in spaces\u001b[39m\u001b[38;5;124m\"\u001b[39m\n",
      "\u001b[0;31mAssertionError\u001b[0m: Space ID Model referenced in Fit Supervised Model domain not found in spaces"
     ]
    }
   ],
   "source": [
    "import json\n",
    "from pybdp import load_project\n",
    "from IPython.display import Markdown\n",
    "from copy import deepcopy\n",
    "from pprint import pprint\n",
    "\n",
    "# Load the project JSON from file\n",
    "with open(\"project.json\", \"r\") as f:\n",
    "    project_json = json.load(f)\n",
    "\n",
    "# Load the project\n",
    "project = load_project(project_json)"
   ]
  },
  {
   "cell_type": "code",
   "execution_count": 2,
   "metadata": {},
   "outputs": [
    {
     "data": {
      "text/markdown": [
       "```mermaid\n",
       "---\n",
       "config:\n",
       "    layout: elk\n",
       "---\n",
       "graph LR\n",
       "subgraph GC0[Load ImageNet - Load Supervised Features Block]\n",
       "direction LR\n",
       "subgraph GS0[Load ImageNet System]\n",
       "subgraph G1[Load ImageNet Dataset - Load Supervised Dataset Block]\n",
       "direction LR\n",
       "X1[Load ImageNet Dataset]\n",
       "subgraph G1P[Ports]\n",
       "direction TB\n",
       "end\n",
       "subgraph G1T[Terminals]\n",
       "direction TB\n",
       "XX1T0[X]\n",
       "XX1T1[Y]\n",
       "end\n",
       "X1 o--o XX1T0[X]\n",
       "X1 o--o XX1T1[Y]\n",
       "end\n",
       "subgraph G2[Test-Train Split - Cross Validation Split Block]\n",
       "direction LR\n",
       "X2[Test-Train Split]\n",
       "subgraph G2P[Ports]\n",
       "direction TB\n",
       "XX2P0[X]\n",
       "XX2P1[Y]\n",
       "end\n",
       "XX2P0[X] o--o X2\n",
       "XX2P1[Y] o--o X2\n",
       "subgraph G2T[Terminals]\n",
       "direction TB\n",
       "XX2T0[X Train Array]\n",
       "XX2T1[Y Train Array]\n",
       "XX2T2[X Test Array]\n",
       "XX2T3[Y Test Array]\n",
       "end\n",
       "X2 o--o XX2T0[X Train Array]\n",
       "X2 o--o XX2T1[Y Train Array]\n",
       "X2 o--o XX2T2[X Test Array]\n",
       "X2 o--o XX2T3[Y Test Array]\n",
       "end\n",
       "subgraph G3[Image Normalization Preprocessing - Training - Training Data Preprocessing Block]\n",
       "direction LR\n",
       "X3[Image Normalization Preprocessing - Training]\n",
       "subgraph G3P[Ports]\n",
       "direction TB\n",
       "XX3P0[X Train Array]\n",
       "XX3P1[Y Train Array]\n",
       "end\n",
       "XX3P0[X Train Array] o--o X3\n",
       "XX3P1[Y Train Array] o--o X3\n",
       "subgraph G3T[Terminals]\n",
       "direction TB\n",
       "XX3T0[X Train Array]\n",
       "XX3T1[Y Train Array]\n",
       "end\n",
       "X3 o--o XX3T0[X Train Array]\n",
       "X3 o--o XX3T1[Y Train Array]\n",
       "end\n",
       "subgraph G4[Image Normalization Preprocessing - Testing - Testing Data Preprocessing Block]\n",
       "direction LR\n",
       "X4[Image Normalization Preprocessing - Testing]\n",
       "subgraph G4P[Ports]\n",
       "direction TB\n",
       "XX4P0[X Train Array]\n",
       "XX4P1[Y Train Array]\n",
       "XX4P2[X Test Array]\n",
       "XX4P3[Y Test Array]\n",
       "end\n",
       "XX4P0[X Train Array] o--o X4\n",
       "XX4P1[Y Train Array] o--o X4\n",
       "XX4P2[X Test Array] o--o X4\n",
       "XX4P3[Y Test Array] o--o X4\n",
       "subgraph G4T[Terminals]\n",
       "direction TB\n",
       "XX4T0[X Test Array]\n",
       "XX4T1[Y Test Array]\n",
       "end\n",
       "X4 o--o XX4T0[X Test Array]\n",
       "X4 o--o XX4T1[Y Test Array]\n",
       "end\n",
       "XX1T0[X] ---> XX2P0[X]\n",
       "XX1T1[Y] ---> XX2P1[Y]\n",
       "XX2T0[X Train Array] ---> XX3P0[X Train Array]\n",
       "XX2T1[Y Train Array] ---> XX3P1[Y Train Array]\n",
       "XX2T0[X Train Array] ---> XX4P0[X Train Array]\n",
       "XX2T1[Y Train Array] ---> XX4P1[Y Train Array]\n",
       "XX2T2[X Test Array] ---> XX4P2[X Test Array]\n",
       "XX2T3[Y Test Array] ---> XX4P3[Y Test Array]\n",
       "end\n",
       "subgraph GC0P[Ports]\n",
       "direction TB\n",
       "end\n",
       "subgraph GC0T[Terminals]\n",
       "direction TB\n",
       "X1T0[X Train Array]\n",
       "X1T1[Y Train Array]\n",
       "X1T2[X Test Array]\n",
       "X1T3[Y Test Array]\n",
       "end\n",
       "XX3T0[X Train Array] o--o X1T0[X Train Array]\n",
       "XX3T1[Y Train Array] o--o X1T1[Y Train Array]\n",
       "XX4T0[X Test Array] o--o X1T2[X Test Array]\n",
       "XX4T1[Y Test Array] o--o X1T3[Y Test Array]\n",
       "end\n",
       "\n",
       "```"
      ],
      "text/plain": [
       "<IPython.core.display.Markdown object>"
      ]
     },
     "metadata": {},
     "output_type": "display_data"
    }
   ],
   "source": [
    "display(Markdown(project.processors_map[\"Load ImageNet\"].create_mermaid_graphic_composite()[0]))"
   ]
  },
  {
   "cell_type": "markdown",
   "metadata": {},
   "source": [
    "## Creating the ImageNet Experiment\n",
    "\n",
    "We are in luck that the ML part of the experiment stays the same so we just need to create a new composite processor which uses the ImageNet loading block and then we are done!"
   ]
  },
  {
   "cell_type": "code",
   "execution_count": 6,
   "metadata": {},
   "outputs": [
    {
     "data": {
      "text/markdown": [
       "```mermaid\n",
       "---\n",
       "config:\n",
       "    layout: elk\n",
       "---\n",
       "graph LR\n",
       "subgraph G0[ImageNet Experiment - Experiment Block]\n",
       "direction LR\n",
       "X0[ImageNet Experiment]\n",
       "subgraph G0P[Ports]\n",
       "direction TB\n",
       "XX0P0[Model]\n",
       "end\n",
       "XX0P0[Model] o--o X0\n",
       "subgraph G0T[Terminals]\n",
       "direction TB\n",
       "XX0T0[Evaluation Metrics]\n",
       "end\n",
       "X0 o--o XX0T0[Evaluation Metrics]\n",
       "end\n",
       "\n",
       "```"
      ],
      "text/plain": [
       "<IPython.core.display.Markdown object>"
      ]
     },
     "metadata": {},
     "output_type": "display_data"
    },
    {
     "data": {
      "text/markdown": [
       "```mermaid\n",
       "---\n",
       "config:\n",
       "    layout: elk\n",
       "---\n",
       "graph LR\n",
       "subgraph GC0[ImageNet Experiment - Experiment Block]\n",
       "direction LR\n",
       "subgraph GS0[ImageNet Experiment System]\n",
       "subgraph G1[Load ImageNet - Load Supervised Features Block]\n",
       "direction LR\n",
       "X1[Load ImageNet]\n",
       "subgraph G1P[Ports]\n",
       "direction TB\n",
       "end\n",
       "subgraph G1T[Terminals]\n",
       "direction TB\n",
       "XX1T0[X Train Array]\n",
       "XX1T1[Y Train Array]\n",
       "XX1T2[X Test Array]\n",
       "XX1T3[Y Test Array]\n",
       "end\n",
       "X1 o--o XX1T0[X Train Array]\n",
       "X1 o--o XX1T1[Y Train Array]\n",
       "X1 o--o XX1T2[X Test Array]\n",
       "X1 o--o XX1T3[Y Test Array]\n",
       "end\n",
       "subgraph G2[Default Supervised Learning - Supervised Learning Block]\n",
       "direction LR\n",
       "X2[Default Supervised Learning]\n",
       "subgraph G2P[Ports]\n",
       "direction TB\n",
       "XX2P0[Model]\n",
       "XX2P1[X Train Array]\n",
       "XX2P2[Y Train Array]\n",
       "XX2P3[X Test Array]\n",
       "XX2P4[Y Test Array]\n",
       "end\n",
       "XX2P0[Model] o--o X2\n",
       "XX2P1[X Train Array] o--o X2\n",
       "XX2P2[Y Train Array] o--o X2\n",
       "XX2P3[X Test Array] o--o X2\n",
       "XX2P4[Y Test Array] o--o X2\n",
       "subgraph G2T[Terminals]\n",
       "direction TB\n",
       "XX2T0[Evaluation Metrics]\n",
       "end\n",
       "X2 o--o XX2T0[Evaluation Metrics]\n",
       "end\n",
       "XX1T0[X Train Array] ---> XX2P1[X Train Array]\n",
       "XX1T1[Y Train Array] ---> XX2P2[Y Train Array]\n",
       "XX1T2[X Test Array] ---> XX2P3[X Test Array]\n",
       "XX1T3[Y Test Array] ---> XX2P4[Y Test Array]\n",
       "end\n",
       "subgraph GC0P[Ports]\n",
       "direction TB\n",
       "X1P0[Model]\n",
       "end\n",
       "X1P0[Model] o--o XX2P0[Model]\n",
       "subgraph GC0T[Terminals]\n",
       "direction TB\n",
       "X1T0[Evaluation Metrics]\n",
       "end\n",
       "XX2T0[Evaluation Metrics] o--o X1T0[Evaluation Metrics]\n",
       "end\n",
       "\n",
       "```"
      ],
      "text/plain": [
       "<IPython.core.display.Markdown object>"
      ]
     },
     "metadata": {},
     "output_type": "display_data"
    }
   ],
   "source": [
    "display(Markdown(project.processors_map[\"ImageNet Experiment\"].create_mermaid_graphic()[0]))\n",
    "display(Markdown(project.processors_map[\"ImageNet Experiment\"].create_mermaid_graphic_composite()[0]))"
   ]
  }
 ],
 "metadata": {
  "kernelspec": {
   "display_name": "MSML",
   "language": "python",
   "name": "python3"
  },
  "language_info": {
   "codemirror_mode": {
    "name": "ipython",
    "version": 3
   },
   "file_extension": ".py",
   "mimetype": "text/x-python",
   "name": "python",
   "nbconvert_exporter": "python",
   "pygments_lexer": "ipython3",
   "version": "3.9.19"
  }
 },
 "nbformat": 4,
 "nbformat_minor": 2
}
