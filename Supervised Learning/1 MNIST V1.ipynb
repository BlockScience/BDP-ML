{
 "cells": [
  {
   "cell_type": "markdown",
   "metadata": {},
   "source": [
    "# MNIST BDP V1\n",
    "\n",
    "The following is a breakdown of the problem of using a supervised learning model on the MNIST dataset. We begin with an empty project and fill it out with the pybdp interface to create an example of a machine learning block diagram for loading MNIST."
   ]
  },
  {
   "cell_type": "code",
   "execution_count": null,
   "metadata": {},
   "outputs": [],
   "source": [
    "import sys\n",
    "#sys.path.append(\"../../pybdp\")\n",
    "#from src import pybdp\n",
    "import pybdp\n",
    "from IPython.display import Markdown\n",
    "from pprint import pprint\n",
    "\n",
    "# Start with an empty project\n",
    "project = pybdp.create_empty_project()"
   ]
  },
  {
   "cell_type": "markdown",
   "metadata": {},
   "source": [
    "## System High Level\n",
    "\n",
    "At the highest level, there is a processor that takes a model in and returns evaluation metrics. This is our \"MNIST Experiment\" processor.\n",
    "\n",
    "We first create the spaces, block and processor then we display it with create_mermaid_graphic and also check out its ports and terminals."
   ]
  },
  {
   "cell_type": "code",
   "execution_count": 2,
   "metadata": {},
   "outputs": [
    {
     "data": {
      "text/markdown": [
       "```mermaid\n",
       "---\n",
       "config:\n",
       "    layout: elk\n",
       "---\n",
       "graph LR\n",
       "subgraph G0[MNIST Experiment - Experiment Block]\n",
       "direction LR\n",
       "X0[MNIST Experiment]\n",
       "subgraph G0P[Ports]\n",
       "direction TB\n",
       "XX0P0[Model]\n",
       "end\n",
       "XX0P0[Model] o--o X0\n",
       "subgraph G0T[Terminals]\n",
       "direction TB\n",
       "XX0T0[Evaluation Metrics]\n",
       "end\n",
       "X0 o--o XX0T0[Evaluation Metrics]\n",
       "end\n",
       "\n",
       "```"
      ],
      "text/plain": [
       "<IPython.core.display.Markdown object>"
      ]
     },
     "metadata": {},
     "output_type": "display_data"
    },
    {
     "name": "stdout",
     "output_type": "stream",
     "text": [
      "Ports:\n",
      "[< Space ID: Model Name: Model >]\n",
      "Terminals:\n",
      "[< Space ID: Evaluation Metrics Name: Evaluation Metrics >]\n"
     ]
    }
   ],
   "source": [
    "# Add the spaces\n",
    "project.add_space(id = \"Model\",\n",
    "                  name = \"Model\",\n",
    "                  description = \"A machine learning model\")\n",
    "project.add_space(id = \"Evaluation Metrics\",\n",
    "                  name = \"Evaluation Metrics\",\n",
    "                  description = \"Metrics for evaluating the model\")\n",
    "\n",
    "# Add the block\n",
    "project.add_block(id=\"Experiment\",\n",
    "                  name=\"Experiment\",\n",
    "                  description=\"A machine learning experiment\",\n",
    "                  domain=[\"Model\"],\n",
    "                  codomain=[\"Evaluation Metrics\"],)\n",
    "\n",
    "# Add the processor\n",
    "project.add_processor(id=\"MNIST Experiment\",\n",
    "                      name=\"MNIST Experiment\",\n",
    "                      description=\"Runs experiments on the MNIST dataset\",\n",
    "                      parent_id=\"Experiment\",)\n",
    "\n",
    "\n",
    "processor = project.processors_map[\"MNIST Experiment\"]\n",
    "processor.display_mermaid_graphic()\n",
    "print(\"Ports:\")\n",
    "print(processor.ports)\n",
    "print(\"Terminals:\")\n",
    "print(processor.terminals)"
   ]
  },
  {
   "cell_type": "markdown",
   "metadata": {},
   "source": [
    "We can also check out if it is a primitive processor or if it has a subsystem attatched. Right now it will be primitive because there is no subsystem but eventually we will transform it to have a subsystem."
   ]
  },
  {
   "cell_type": "code",
   "execution_count": 3,
   "metadata": {},
   "outputs": [
    {
     "name": "stdout",
     "output_type": "stream",
     "text": [
      "True\n"
     ]
    }
   ],
   "source": [
    "print(processor.is_primitive())"
   ]
  },
  {
   "cell_type": "markdown",
   "metadata": {},
   "source": [
    "## Breaking down the Subsystem\n",
    "\n",
    "The first thing to do is further break down our subsystem into two components, which we will describe first by their blocks.\n",
    "\n",
    "### Blocks and Spaces\n",
    "\n",
    "1. **Load Supervised Features Block**: A block for loading datasets which returns X Train, X Test, Y Train and Y Test\n",
    "2. **Supervised Learning Block**: A block representing supervised learning which given the spaces of Model, X Train, X Test, Y Train and Y Test returns Evaluation Metrics"
   ]
  },
  {
   "cell_type": "code",
   "execution_count": 4,
   "metadata": {},
   "outputs": [],
   "source": [
    "# Add spaces\n",
    "project.add_space(id=\"X Train\",\n",
    "                  name=\"X Train\",\n",
    "                  description=\"X training data\")\n",
    "\n",
    "project.add_space(id=\"Y Train\",\n",
    "                  name=\"Y Train\",\n",
    "                  description=\"Y training data\")\n",
    "\n",
    "project.add_space(id=\"X Test\",\n",
    "                  name=\"X Test\",\n",
    "                  description=\"X testing data\")\n",
    "\n",
    "project.add_space(id=\"Y Test\",\n",
    "                  name=\"Y Test\",\n",
    "                  description=\"Y testing data\")\n",
    "\n",
    "# Add the blocks\n",
    "project.add_block(id=\"Load Supervised Features\",\n",
    "                  name=\"Load Supervised Features\",\n",
    "                  description=\"Block for a composite processor of loading supervised features\",\n",
    "                  domain=[],\n",
    "                  codomain=[\n",
    "          \"X Train\",\n",
    "          \"Y Train\",\n",
    "          \"X Test\",\n",
    "          \"Y Test\"\n",
    "        ],)\n",
    "\n",
    "project.add_block(id=\"Supervised Learning\",\n",
    "                  name=\"Supervised Learning\",\n",
    "                  description=\"Block for a composite processor of a supervised learning system with cross validation split\",\n",
    "                  domain=[\n",
    "          \"Model\",\n",
    "          \"X Train\",\n",
    "          \"Y Train\",\n",
    "          \"X Test\",\n",
    "          \"Y Test\"\n",
    "        ],\n",
    "                  codomain=[\"Evaluation Metrics\"],)"
   ]
  },
  {
   "cell_type": "markdown",
   "metadata": {},
   "source": [
    "### Processors\n",
    "\n",
    "Given the two blocks we previously created, we now make the specific processors for MNIST:\n",
    "\n",
    "1. **Load MNIST**: A processor for loading and pre-processing the MNIST dataset\n",
    "2. **Default Supervised Learning**: A processor for conducting default supervised learning based with defaults of the model"
   ]
  },
  {
   "cell_type": "code",
   "execution_count": 5,
   "metadata": {},
   "outputs": [
    {
     "data": {
      "text/markdown": [
       "```mermaid\n",
       "---\n",
       "config:\n",
       "    layout: elk\n",
       "---\n",
       "graph LR\n",
       "subgraph G0[Load MNIST - Load Supervised Features Block]\n",
       "direction LR\n",
       "X0[Load MNIST]\n",
       "subgraph G0P[Ports]\n",
       "direction TB\n",
       "end\n",
       "subgraph G0T[Terminals]\n",
       "direction TB\n",
       "XX0T0[X Train]\n",
       "XX0T1[Y Train]\n",
       "XX0T2[X Test]\n",
       "XX0T3[Y Test]\n",
       "end\n",
       "X0 o--o XX0T0[X Train]\n",
       "X0 o--o XX0T1[Y Train]\n",
       "X0 o--o XX0T2[X Test]\n",
       "X0 o--o XX0T3[Y Test]\n",
       "end\n",
       "\n",
       "```"
      ],
      "text/plain": [
       "<IPython.core.display.Markdown object>"
      ]
     },
     "metadata": {},
     "output_type": "display_data"
    },
    {
     "data": {
      "text/markdown": [
       "```mermaid\n",
       "---\n",
       "config:\n",
       "    layout: elk\n",
       "---\n",
       "graph LR\n",
       "subgraph G0[Default Supervised Learning - Supervised Learning Block]\n",
       "direction LR\n",
       "X0[Default Supervised Learning]\n",
       "subgraph G0P[Ports]\n",
       "direction TB\n",
       "XX0P0[Model]\n",
       "XX0P1[X Train]\n",
       "XX0P2[Y Train]\n",
       "XX0P3[X Test]\n",
       "XX0P4[Y Test]\n",
       "end\n",
       "XX0P0[Model] o--o X0\n",
       "XX0P1[X Train] o--o X0\n",
       "XX0P2[Y Train] o--o X0\n",
       "XX0P3[X Test] o--o X0\n",
       "XX0P4[Y Test] o--o X0\n",
       "subgraph G0T[Terminals]\n",
       "direction TB\n",
       "XX0T0[Evaluation Metrics]\n",
       "end\n",
       "X0 o--o XX0T0[Evaluation Metrics]\n",
       "end\n",
       "\n",
       "```"
      ],
      "text/plain": [
       "<IPython.core.display.Markdown object>"
      ]
     },
     "metadata": {},
     "output_type": "display_data"
    }
   ],
   "source": [
    "# Add processors\n",
    "project.add_processor(id=\"Load MNIST\",\n",
    "                      name=\"Load MNIST\",\n",
    "                      description=\"A processor for loading and pre-processing the MNIST dataset\",\n",
    "                      parent_id=\"Load Supervised Features\",)\n",
    "\n",
    "project.add_processor(id=\"Default Supervised Learning\",\n",
    "                      name=\"Default Supervised Learning\",\n",
    "                      description=\"A processor for conducting default supervised learning based with defaults of the model\",\n",
    "                      parent_id=\"Supervised Learning\",)\n",
    "\n",
    "# Display processors\n",
    "project.processors_map[\"Load MNIST\"].display_mermaid_graphic()\n",
    "project.processors_map[\"Default Supervised Learning\"].display_mermaid_graphic()"
   ]
  },
  {
   "cell_type": "markdown",
   "metadata": {},
   "source": [
    "### Wiring up and Building a System\n",
    "\n",
    "Our next step is to wire up and build a system. One thing we can do is use `find_potential_wires` between the two processors which will return all feasible potential wirings."
   ]
  },
  {
   "cell_type": "code",
   "execution_count": 6,
   "metadata": {},
   "outputs": [
    {
     "name": "stdout",
     "output_type": "stream",
     "text": [
      "{'Ports': [],\n",
      " 'Terminals': [{'Parent': 'X Train',\n",
      "                'Source': {'Index': 0, 'Processor': 'Load MNIST'},\n",
      "                'Target': {'Index': 1,\n",
      "                           'Processor': 'Default Supervised Learning'}},\n",
      "               {'Parent': 'Y Train',\n",
      "                'Source': {'Index': 1, 'Processor': 'Load MNIST'},\n",
      "                'Target': {'Index': 2,\n",
      "                           'Processor': 'Default Supervised Learning'}},\n",
      "               {'Parent': 'X Test',\n",
      "                'Source': {'Index': 2, 'Processor': 'Load MNIST'},\n",
      "                'Target': {'Index': 3,\n",
      "                           'Processor': 'Default Supervised Learning'}},\n",
      "               {'Parent': 'Y Test',\n",
      "                'Source': {'Index': 3, 'Processor': 'Load MNIST'},\n",
      "                'Target': {'Index': 4,\n",
      "                           'Processor': 'Default Supervised Learning'}}]}\n"
     ]
    }
   ],
   "source": [
    "pprint(project.processors_map[\"Load MNIST\"].find_potential_wires(project.processors_map[\"Default Supervised Learning\"]))"
   ]
  },
  {
   "cell_type": "markdown",
   "metadata": {},
   "source": [
    "We want to take all these terminal connections and wire them up but we have to give them IDs. Instead of doing it manually, we will set the flag to True for creating auto-incrementing wires of the type W1, W2, etc."
   ]
  },
  {
   "cell_type": "code",
   "execution_count": 7,
   "metadata": {},
   "outputs": [
    {
     "name": "stdout",
     "output_type": "stream",
     "text": [
      "[< Wire ID: W1 Space: X Train Source: (Load MNIST, 0) Target: (Default Supervised Learning, 1) >,\n",
      " < Wire ID: W2 Space: Y Train Source: (Load MNIST, 1) Target: (Default Supervised Learning, 2) >,\n",
      " < Wire ID: W3 Space: X Test Source: (Load MNIST, 2) Target: (Default Supervised Learning, 3) >,\n",
      " < Wire ID: W4 Space: Y Test Source: (Load MNIST, 3) Target: (Default Supervised Learning, 4) >]\n"
     ]
    }
   ],
   "source": [
    "project.add_wires([{'Parent': 'X Train',\n",
    "                'Source': {'Index': 0, 'Processor': 'Load MNIST'},\n",
    "                'Target': {'Index': 1,\n",
    "                           'Processor': 'Default Supervised Learning'}},\n",
    "               {'Parent': 'Y Train',\n",
    "                'Source': {'Index': 1, 'Processor': 'Load MNIST'},\n",
    "                'Target': {'Index': 2,\n",
    "                           'Processor': 'Default Supervised Learning'}},\n",
    "               {'Parent': 'X Test',\n",
    "                'Source': {'Index': 2, 'Processor': 'Load MNIST'},\n",
    "                'Target': {'Index': 3,\n",
    "                           'Processor': 'Default Supervised Learning'}},\n",
    "               {'Parent': 'Y Test',\n",
    "                'Source': {'Index': 3, 'Processor': 'Load MNIST'},\n",
    "                'Target': {'Index': 4,\n",
    "                           'Processor': 'Default Supervised Learning'}}],\n",
    "                auto_increment=True)\n",
    "\n",
    "pprint(project.wires)"
   ]
  },
  {
   "cell_type": "markdown",
   "metadata": {},
   "source": [
    "Now that the wires are in we can create our first system."
   ]
  },
  {
   "cell_type": "code",
   "execution_count": 8,
   "metadata": {},
   "outputs": [
    {
     "data": {
      "text/markdown": [
       "```mermaid\n",
       "---\n",
       "config:\n",
       "    layout: elk\n",
       "---\n",
       "graph LR\n",
       "subgraph GS0[MNIST Experiment System]\n",
       "subgraph G0[Load MNIST - Load Supervised Features Block]\n",
       "direction LR\n",
       "X0[Load MNIST]\n",
       "subgraph G0P[Ports]\n",
       "direction TB\n",
       "end\n",
       "subgraph G0T[Terminals]\n",
       "direction TB\n",
       "XX0T0[X Train]\n",
       "XX0T1[Y Train]\n",
       "XX0T2[X Test]\n",
       "XX0T3[Y Test]\n",
       "end\n",
       "X0 o--o XX0T0[X Train]\n",
       "X0 o--o XX0T1[Y Train]\n",
       "X0 o--o XX0T2[X Test]\n",
       "X0 o--o XX0T3[Y Test]\n",
       "end\n",
       "subgraph G1[Default Supervised Learning - Supervised Learning Block]\n",
       "direction LR\n",
       "X1[Default Supervised Learning]\n",
       "subgraph G1P[Ports]\n",
       "direction TB\n",
       "XX1P0[Model]\n",
       "XX1P1[X Train]\n",
       "XX1P2[Y Train]\n",
       "XX1P3[X Test]\n",
       "XX1P4[Y Test]\n",
       "end\n",
       "XX1P0[Model] o--o X1\n",
       "XX1P1[X Train] o--o X1\n",
       "XX1P2[Y Train] o--o X1\n",
       "XX1P3[X Test] o--o X1\n",
       "XX1P4[Y Test] o--o X1\n",
       "subgraph G1T[Terminals]\n",
       "direction TB\n",
       "XX1T0[Evaluation Metrics]\n",
       "end\n",
       "X1 o--o XX1T0[Evaluation Metrics]\n",
       "end\n",
       "XX0T0[X Train] ---> XX1P1[X Train]\n",
       "XX0T1[Y Train] ---> XX1P2[Y Train]\n",
       "XX0T2[X Test] ---> XX1P3[X Test]\n",
       "XX0T3[Y Test] ---> XX1P4[Y Test]\n",
       "end\n",
       "\n",
       "```"
      ],
      "text/plain": [
       "<IPython.core.display.Markdown object>"
      ]
     },
     "metadata": {},
     "output_type": "display_data"
    }
   ],
   "source": [
    "project.add_system(id=\"MNIST Experiment System\",\n",
    "                   name=\"MNIST Experiment System\",\n",
    "                   processors=[\"Load MNIST\", \"Default Supervised Learning\"],\n",
    "                   wires=[\"W1\", \"W2\", \"W3\", \"W4\"],\n",
    "                     description=\"The system representing the entire machine learning experiment for the MNIST dataset\",)\n",
    "project.systems_map[\"MNIST Experiment System\"].display_mermaid_graphic()"
   ]
  },
  {
   "cell_type": "markdown",
   "metadata": {},
   "source": [
    "## Adding a Subsystem\n",
    "\n",
    "What we want to do next is take this MNIST Experiment System and attatch it as a subsystem of MNIST Experiment.\n",
    "\n",
    "One feature we will use is the `find_potential_subsystems_mappings` to determine the possible mappings. Note that it is a nested array where each of the inner arrays represents all possible options of a mapping on the port/terminal of that index for the processor."
   ]
  },
  {
   "cell_type": "code",
   "execution_count": 9,
   "metadata": {},
   "outputs": [
    {
     "name": "stdout",
     "output_type": "stream",
     "text": [
      "{'Port Mappings': [[{'Index': 0, 'Processor': 'Default Supervised Learning'}]],\n",
      " 'Terminal Mappings': [[{'Index': 0,\n",
      "                         'Processor': 'Default Supervised Learning'}]]}\n"
     ]
    }
   ],
   "source": [
    "pprint(project.processors_map[\"MNIST Experiment\"].find_potential_subsystems_mappings(project.systems_map[\"MNIST Experiment System\"]))"
   ]
  },
  {
   "cell_type": "markdown",
   "metadata": {},
   "source": [
    "Now we simply attatch a subsystem to the processor by feeding in the processor, system, port mappings we choose and the terminal mappings we choose."
   ]
  },
  {
   "cell_type": "code",
   "execution_count": 10,
   "metadata": {},
   "outputs": [
    {
     "data": {
      "text/markdown": [
       "```mermaid\n",
       "---\n",
       "config:\n",
       "    layout: elk\n",
       "---\n",
       "graph LR\n",
       "subgraph G0[MNIST Experiment - Experiment Block]\n",
       "direction LR\n",
       "X0[MNIST Experiment]\n",
       "subgraph G0P[Ports]\n",
       "direction TB\n",
       "XX0P0[Model]\n",
       "end\n",
       "XX0P0[Model] o--o X0\n",
       "subgraph G0T[Terminals]\n",
       "direction TB\n",
       "XX0T0[Evaluation Metrics]\n",
       "end\n",
       "X0 o--o XX0T0[Evaluation Metrics]\n",
       "end\n",
       "\n",
       "```"
      ],
      "text/plain": [
       "<IPython.core.display.Markdown object>"
      ]
     },
     "metadata": {},
     "output_type": "display_data"
    },
    {
     "data": {
      "text/markdown": [
       "```mermaid\n",
       "---\n",
       "config:\n",
       "    layout: elk\n",
       "---\n",
       "graph LR\n",
       "subgraph GC0[MNIST Experiment - Experiment Block]\n",
       "direction LR\n",
       "subgraph GS0[MNIST Experiment System]\n",
       "subgraph G1[Load MNIST - Load Supervised Features Block]\n",
       "direction LR\n",
       "X1[Load MNIST]\n",
       "subgraph G1P[Ports]\n",
       "direction TB\n",
       "end\n",
       "subgraph G1T[Terminals]\n",
       "direction TB\n",
       "XX1T0[X Train]\n",
       "XX1T1[Y Train]\n",
       "XX1T2[X Test]\n",
       "XX1T3[Y Test]\n",
       "end\n",
       "X1 o--o XX1T0[X Train]\n",
       "X1 o--o XX1T1[Y Train]\n",
       "X1 o--o XX1T2[X Test]\n",
       "X1 o--o XX1T3[Y Test]\n",
       "end\n",
       "subgraph G2[Default Supervised Learning - Supervised Learning Block]\n",
       "direction LR\n",
       "X2[Default Supervised Learning]\n",
       "subgraph G2P[Ports]\n",
       "direction TB\n",
       "XX2P0[Model]\n",
       "XX2P1[X Train]\n",
       "XX2P2[Y Train]\n",
       "XX2P3[X Test]\n",
       "XX2P4[Y Test]\n",
       "end\n",
       "XX2P0[Model] o--o X2\n",
       "XX2P1[X Train] o--o X2\n",
       "XX2P2[Y Train] o--o X2\n",
       "XX2P3[X Test] o--o X2\n",
       "XX2P4[Y Test] o--o X2\n",
       "subgraph G2T[Terminals]\n",
       "direction TB\n",
       "XX2T0[Evaluation Metrics]\n",
       "end\n",
       "X2 o--o XX2T0[Evaluation Metrics]\n",
       "end\n",
       "XX1T0[X Train] ---> XX2P1[X Train]\n",
       "XX1T1[Y Train] ---> XX2P2[Y Train]\n",
       "XX1T2[X Test] ---> XX2P3[X Test]\n",
       "XX1T3[Y Test] ---> XX2P4[Y Test]\n",
       "end\n",
       "subgraph GC0P[Ports]\n",
       "direction TB\n",
       "X1P0[Model]\n",
       "end\n",
       "X1P0[Model] --> XX2P0[Model]\n",
       "subgraph GC0T[Terminals]\n",
       "direction TB\n",
       "X1T0[Evaluation Metrics]\n",
       "end\n",
       "XX2T0[Evaluation Metrics] --> X1T0[Evaluation Metrics]\n",
       "end\n",
       "\n",
       "```"
      ],
      "text/plain": [
       "<IPython.core.display.Markdown object>"
      ]
     },
     "metadata": {},
     "output_type": "display_data"
    }
   ],
   "source": [
    "# Attatch the subsystem\n",
    "port_mappings = [{'Index': 0, 'Processor': 'Default Supervised Learning'}]\n",
    "terminal_mappings = [{'Index': 0, 'Processor': 'Default Supervised Learning'}]\n",
    "project.attach_subsystem(project.processors_map[\"MNIST Experiment\"],\n",
    "                          project.systems_map[\"MNIST Experiment System\"],\n",
    "                          port_mappings,\n",
    "                          terminal_mappings)\n",
    "\n",
    "# Display the processor with and without the subsystem\n",
    "project.processors_map[\"MNIST Experiment\"].display_mermaid_graphic()\n",
    "project.processors_map[\"MNIST Experiment\"].display_mermaid_graphic(composite=True)"
   ]
  },
  {
   "cell_type": "markdown",
   "metadata": {},
   "source": [
    "By calling get_system and grabbing the processors we can find the two inner components."
   ]
  },
  {
   "cell_type": "code",
   "execution_count": 11,
   "metadata": {},
   "outputs": [
    {
     "name": "stdout",
     "output_type": "stream",
     "text": [
      "[< Processor ID: Load MNIST Name: Load MNIST []->['X Train', 'Y Train', 'X Test', 'Y Test']>,\n",
      " < Processor ID: Default Supervised Learning Name: Default Supervised Learning ['Model', 'X Train', 'Y Train', 'X Test', 'Y Test']->['Evaluation Metrics']>]\n"
     ]
    }
   ],
   "source": [
    "processor = project.processors_map[\"MNIST Experiment\"]\n",
    "components = processor.get_system().processors\n",
    "pprint(components)"
   ]
  },
  {
   "cell_type": "markdown",
   "metadata": {},
   "source": [
    "Display the components and check if they are primitive. In this notebook we have not yet added any details to them so both are primitive."
   ]
  },
  {
   "cell_type": "code",
   "execution_count": 12,
   "metadata": {},
   "outputs": [
    {
     "name": "stdout",
     "output_type": "stream",
     "text": [
      "Processor: Load MNIST\n",
      "Is primitive? - True\n",
      "\n"
     ]
    },
    {
     "data": {
      "text/markdown": [
       "```mermaid\n",
       "---\n",
       "config:\n",
       "    layout: elk\n",
       "---\n",
       "graph LR\n",
       "subgraph G0[Load MNIST - Load Supervised Features Block]\n",
       "direction LR\n",
       "X0[Load MNIST]\n",
       "subgraph G0P[Ports]\n",
       "direction TB\n",
       "end\n",
       "subgraph G0T[Terminals]\n",
       "direction TB\n",
       "XX0T0[X Train]\n",
       "XX0T1[Y Train]\n",
       "XX0T2[X Test]\n",
       "XX0T3[Y Test]\n",
       "end\n",
       "X0 o--o XX0T0[X Train]\n",
       "X0 o--o XX0T1[Y Train]\n",
       "X0 o--o XX0T2[X Test]\n",
       "X0 o--o XX0T3[Y Test]\n",
       "end\n",
       "\n",
       "```"
      ],
      "text/plain": [
       "<IPython.core.display.Markdown object>"
      ]
     },
     "metadata": {},
     "output_type": "display_data"
    },
    {
     "name": "stdout",
     "output_type": "stream",
     "text": [
      "Processor: Default Supervised Learning\n",
      "Is primitive? - True\n",
      "\n"
     ]
    },
    {
     "data": {
      "text/markdown": [
       "```mermaid\n",
       "---\n",
       "config:\n",
       "    layout: elk\n",
       "---\n",
       "graph LR\n",
       "subgraph G0[Default Supervised Learning - Supervised Learning Block]\n",
       "direction LR\n",
       "X0[Default Supervised Learning]\n",
       "subgraph G0P[Ports]\n",
       "direction TB\n",
       "XX0P0[Model]\n",
       "XX0P1[X Train]\n",
       "XX0P2[Y Train]\n",
       "XX0P3[X Test]\n",
       "XX0P4[Y Test]\n",
       "end\n",
       "XX0P0[Model] o--o X0\n",
       "XX0P1[X Train] o--o X0\n",
       "XX0P2[Y Train] o--o X0\n",
       "XX0P3[X Test] o--o X0\n",
       "XX0P4[Y Test] o--o X0\n",
       "subgraph G0T[Terminals]\n",
       "direction TB\n",
       "XX0T0[Evaluation Metrics]\n",
       "end\n",
       "X0 o--o XX0T0[Evaluation Metrics]\n",
       "end\n",
       "\n",
       "```"
      ],
      "text/plain": [
       "<IPython.core.display.Markdown object>"
      ]
     },
     "metadata": {},
     "output_type": "display_data"
    }
   ],
   "source": [
    "for component in components:\n",
    "    print(\"Processor: {}\".format(component.name))\n",
    "    print(\"Is primitive? - {}\".format(component.is_primitive()))\n",
    "    print()\n",
    "    \n",
    "    display(Markdown(component.create_mermaid_graphic()[0]))"
   ]
  },
  {
   "cell_type": "markdown",
   "metadata": {},
   "source": [
    "## Saving\n",
    "\n",
    "Now that we have created this project, we can save it as JSON to load another time!"
   ]
  },
  {
   "cell_type": "code",
   "execution_count": 13,
   "metadata": {},
   "outputs": [],
   "source": [
    "project.save(\"../JSON/Supervised Learning V1.json\")"
   ]
  }
 ],
 "metadata": {
  "kernelspec": {
   "display_name": "MSML",
   "language": "python",
   "name": "python3"
  },
  "language_info": {
   "codemirror_mode": {
    "name": "ipython",
    "version": 3
   },
   "file_extension": ".py",
   "mimetype": "text/x-python",
   "name": "python",
   "nbconvert_exporter": "python",
   "pygments_lexer": "ipython3",
   "version": "3.9.19"
  }
 },
 "nbformat": 4,
 "nbformat_minor": 2
}
