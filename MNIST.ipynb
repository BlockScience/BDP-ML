{
 "cells": [
  {
   "cell_type": "markdown",
   "metadata": {},
   "source": [
    "# MNIST BDP\n",
    "\n",
    "The following is a breakdown of the problem of using a supervised learning model on the MNIST dataset."
   ]
  },
  {
   "cell_type": "code",
   "execution_count": 1,
   "metadata": {},
   "outputs": [],
   "source": [
    "import json\n",
    "from pybdp import load_project\n",
    "from IPython.display import Markdown\n",
    "from copy import deepcopy\n",
    "\n",
    "# Load the project JSON from file\n",
    "with open(\"project.json\", \"r\") as f:\n",
    "    project_json = json.load(f)\n",
    "\n",
    "# Load the project\n",
    "project = load_project(project_json)"
   ]
  },
  {
   "cell_type": "markdown",
   "metadata": {},
   "source": [
    "## System High Level\n",
    "\n",
    "At the highest level, there is a processor that takes a model in and returns evaluation metrics. This is our \"MNIST Experiment\" processor."
   ]
  },
  {
   "cell_type": "code",
   "execution_count": 4,
   "metadata": {},
   "outputs": [
    {
     "data": {
      "text/markdown": [
       "```mermaid\n",
       "---\n",
       "config:\n",
       "    layout: elk\n",
       "---\n",
       "graph LR\n",
       "subgraph G0[MNIST Experiment - Experiment Block]\n",
       "direction LR\n",
       "X0[MNIST Experiment]\n",
       "subgraph G0P[Ports]\n",
       "direction TB\n",
       "XX0P0[Model]\n",
       "end\n",
       "XX0P0[Model] o--o X0\n",
       "subgraph G0T[Terminals]\n",
       "direction TB\n",
       "XX0T0[Evaluation Metrics]\n",
       "end\n",
       "X0 o--o XX0T0[Evaluation Metrics]\n",
       "end\n",
       "\n",
       "```"
      ],
      "text/plain": [
       "<IPython.core.display.Markdown object>"
      ]
     },
     "metadata": {},
     "output_type": "display_data"
    }
   ],
   "source": [
    "processor = project.processors_map[\"MNIST Experiment\"]\n",
    "display(Markdown(processor.create_mermaid_graphic()[0]))"
   ]
  },
  {
   "cell_type": "markdown",
   "metadata": {},
   "source": [
    "## Breaking it down into data and model fitting/evaluation\n",
    "\n",
    "This processor has a subsystem however which is evidenced by the fact that the processor is not primitive."
   ]
  },
  {
   "cell_type": "code",
   "execution_count": 10,
   "metadata": {},
   "outputs": [
    {
     "name": "stdout",
     "output_type": "stream",
     "text": [
      "False\n"
     ]
    }
   ],
   "source": [
    "print(processor.is_primitive())"
   ]
  },
  {
   "cell_type": "markdown",
   "metadata": {},
   "source": [
    "The create_mermaid_graphic_composite function lets us peek into the subsystem it represents."
   ]
  },
  {
   "cell_type": "code",
   "execution_count": 11,
   "metadata": {},
   "outputs": [
    {
     "data": {
      "text/markdown": [
       "```mermaid\n",
       "---\n",
       "config:\n",
       "    layout: elk\n",
       "---\n",
       "graph LR\n",
       "subgraph GC0[MNIST Experiment - Experiment Block]\n",
       "direction LR\n",
       "subgraph GS0[MNIST Experiment System]\n",
       "subgraph G1[Load MNIST - Load Supervised Features Block]\n",
       "direction LR\n",
       "X1[Load MNIST]\n",
       "subgraph G1P[Ports]\n",
       "direction TB\n",
       "end\n",
       "subgraph G1T[Terminals]\n",
       "direction TB\n",
       "XX1T0[X Train Array]\n",
       "XX1T1[Y Train Array]\n",
       "XX1T2[X Test Array]\n",
       "XX1T3[Y Test Array]\n",
       "end\n",
       "X1 o--o XX1T0[X Train Array]\n",
       "X1 o--o XX1T1[Y Train Array]\n",
       "X1 o--o XX1T2[X Test Array]\n",
       "X1 o--o XX1T3[Y Test Array]\n",
       "end\n",
       "subgraph G2[Default Supervised Learning - Supervised Learning Block]\n",
       "direction LR\n",
       "X2[Default Supervised Learning]\n",
       "subgraph G2P[Ports]\n",
       "direction TB\n",
       "XX2P0[Model]\n",
       "XX2P1[X Train Array]\n",
       "XX2P2[Y Train Array]\n",
       "XX2P3[X Test Array]\n",
       "XX2P4[Y Test Array]\n",
       "end\n",
       "XX2P0[Model] o--o X2\n",
       "XX2P1[X Train Array] o--o X2\n",
       "XX2P2[Y Train Array] o--o X2\n",
       "XX2P3[X Test Array] o--o X2\n",
       "XX2P4[Y Test Array] o--o X2\n",
       "subgraph G2T[Terminals]\n",
       "direction TB\n",
       "XX2T0[Evaluation Metrics]\n",
       "end\n",
       "X2 o--o XX2T0[Evaluation Metrics]\n",
       "end\n",
       "XX1T0[X Train Array] ---> XX2P1[X Train Array]\n",
       "XX1T1[Y Train Array] ---> XX2P2[Y Train Array]\n",
       "XX1T2[X Test Array] ---> XX2P3[X Test Array]\n",
       "XX1T3[Y Test Array] ---> XX2P4[Y Test Array]\n",
       "end\n",
       "subgraph GC0P[Ports]\n",
       "direction TB\n",
       "X1P0[Model]\n",
       "end\n",
       "X1P0[Model] o--o XX2P0[Model]\n",
       "subgraph GC0T[Terminals]\n",
       "direction TB\n",
       "X1T0[Evaluation Metrics]\n",
       "end\n",
       "XX2T0[Evaluation Metrics] o--o X1T0[Evaluation Metrics]\n",
       "end\n",
       "\n",
       "```"
      ],
      "text/plain": [
       "<IPython.core.display.Markdown object>"
      ]
     },
     "metadata": {},
     "output_type": "display_data"
    }
   ],
   "source": [
    "display(Markdown(processor.create_mermaid_graphic_composite()[0]))"
   ]
  },
  {
   "cell_type": "code",
   "execution_count": null,
   "metadata": {},
   "outputs": [],
   "source": []
  },
  {
   "cell_type": "code",
   "execution_count": null,
   "metadata": {},
   "outputs": [],
   "source": []
  },
  {
   "cell_type": "code",
   "execution_count": null,
   "metadata": {},
   "outputs": [],
   "source": []
  },
  {
   "cell_type": "code",
   "execution_count": 3,
   "metadata": {},
   "outputs": [
    {
     "name": "stdout",
     "output_type": "stream",
     "text": [
      "-----Add the following to your JSON-----\n",
      "\n",
      "Add to blocks:\n",
      "{'Codomain': ['Evaluation Metrics'],\n",
      " 'Description': 'A lazy loaded composite processor block for Default '\n",
      "                'Supervised Learning System',\n",
      " 'Domain': ['Model',\n",
      "            'X Train Array',\n",
      "            'Y Train Array',\n",
      "            'X Test Array',\n",
      "            'Y Test Array'],\n",
      " 'ID': 'Default Supervised Learning System-CP Block',\n",
      " 'Name': 'Default Supervised Learning System-CP Block'}\n",
      "\n",
      "Add to processors:\n",
      "{'Description': 'A lazy loaded composite processor block for Default '\n",
      "                'Supervised Learning System',\n",
      " 'ID': 'Default Supervised Learning System-CP',\n",
      " 'Name': 'Default Supervised Learning System-CP',\n",
      " 'Parent': 'Default Supervised Learning System-CP Block',\n",
      " 'Ports': ['Model',\n",
      "           'X Train Array',\n",
      "           'Y Train Array',\n",
      "           'X Test Array',\n",
      "           'Y Test Array'],\n",
      " 'Subsystem': {'Port Mappings': [{'Index': 0,\n",
      "                                  'Processor': 'Fit Supervised Model - '\n",
      "                                               'Default'},\n",
      "                                 {'Index': 1,\n",
      "                                  'Processor': 'Fit Supervised Model - '\n",
      "                                               'Default'},\n",
      "                                 {'Index': 2,\n",
      "                                  'Processor': 'Fit Supervised Model - '\n",
      "                                               'Default'},\n",
      "                                 {'Index': 1,\n",
      "                                  'Processor': 'Evaluate Supervised Model - '\n",
      "                                               'Default'},\n",
      "                                 {'Index': 2,\n",
      "                                  'Processor': 'Evaluate Supervised Model - '\n",
      "                                               'Default'}],\n",
      "               'System ID': 'Default Supervised Learning System',\n",
      "               'Terminal Mappings': [{'Index': 0,\n",
      "                                      'Processor': 'No Post-processing'}]},\n",
      " 'Terminals': ['Evaluation Metrics']}\n"
     ]
    }
   ],
   "source": [
    "project.systems_map[\"Default Supervised Learning System\"].make_processor_lazy()"
   ]
  },
  {
   "cell_type": "code",
   "execution_count": 4,
   "metadata": {},
   "outputs": [
    {
     "data": {
      "text/markdown": [
       "```mermaid\n",
       "---\n",
       "config:\n",
       "    layout: elk\n",
       "---\n",
       "graph LR\n",
       "subgraph GS0[Load MNIST System]\n",
       "subgraph G0[Load MNIST Dataset - Load Supervised Dataset Block]\n",
       "direction LR\n",
       "X0[Load MNIST Dataset]\n",
       "subgraph G0P[Ports]\n",
       "direction TB\n",
       "end\n",
       "subgraph G0T[Terminals]\n",
       "direction TB\n",
       "XX0T0[X]\n",
       "XX0T1[Y]\n",
       "end\n",
       "X0 o--o XX0T0[X]\n",
       "X0 o--o XX0T1[Y]\n",
       "end\n",
       "subgraph G1[Test-Train Split - Cross Validation Split Block]\n",
       "direction LR\n",
       "X1[Test-Train Split]\n",
       "subgraph G1P[Ports]\n",
       "direction TB\n",
       "XX1P0[X]\n",
       "XX1P1[Y]\n",
       "end\n",
       "XX1P0[X] o--o X1\n",
       "XX1P1[Y] o--o X1\n",
       "subgraph G1T[Terminals]\n",
       "direction TB\n",
       "XX1T0[X Train Array]\n",
       "XX1T1[Y Train Array]\n",
       "XX1T2[X Test Array]\n",
       "XX1T3[Y Test Array]\n",
       "end\n",
       "X1 o--o XX1T0[X Train Array]\n",
       "X1 o--o XX1T1[Y Train Array]\n",
       "X1 o--o XX1T2[X Test Array]\n",
       "X1 o--o XX1T3[Y Test Array]\n",
       "end\n",
       "subgraph G2[Image Normalization Preprocessing - Training - Training Data Preprocessing Block]\n",
       "direction LR\n",
       "X2[Image Normalization Preprocessing - Training]\n",
       "subgraph G2P[Ports]\n",
       "direction TB\n",
       "XX2P0[X Train Array]\n",
       "XX2P1[Y Train Array]\n",
       "end\n",
       "XX2P0[X Train Array] o--o X2\n",
       "XX2P1[Y Train Array] o--o X2\n",
       "subgraph G2T[Terminals]\n",
       "direction TB\n",
       "XX2T0[X Train Array]\n",
       "XX2T1[Y Train Array]\n",
       "end\n",
       "X2 o--o XX2T0[X Train Array]\n",
       "X2 o--o XX2T1[Y Train Array]\n",
       "end\n",
       "subgraph G3[Image Normalization Preprocessing - Testing - Testing Data Preprocessing Block]\n",
       "direction LR\n",
       "X3[Image Normalization Preprocessing - Testing]\n",
       "subgraph G3P[Ports]\n",
       "direction TB\n",
       "XX3P0[X Train Array]\n",
       "XX3P1[Y Train Array]\n",
       "XX3P2[X Test Array]\n",
       "XX3P3[Y Test Array]\n",
       "end\n",
       "XX3P0[X Train Array] o--o X3\n",
       "XX3P1[Y Train Array] o--o X3\n",
       "XX3P2[X Test Array] o--o X3\n",
       "XX3P3[Y Test Array] o--o X3\n",
       "subgraph G3T[Terminals]\n",
       "direction TB\n",
       "XX3T0[X Test Array]\n",
       "XX3T1[Y Test Array]\n",
       "end\n",
       "X3 o--o XX3T0[X Test Array]\n",
       "X3 o--o XX3T1[Y Test Array]\n",
       "end\n",
       "XX0T0[X] ---> XX1P0[X]\n",
       "XX0T1[Y] ---> XX1P1[Y]\n",
       "XX1T0[X Train Array] ---> XX2P0[X Train Array]\n",
       "XX1T1[Y Train Array] ---> XX2P1[Y Train Array]\n",
       "XX1T0[X Train Array] ---> XX3P0[X Train Array]\n",
       "XX1T1[Y Train Array] ---> XX3P1[Y Train Array]\n",
       "XX1T2[X Test Array] ---> XX3P2[X Test Array]\n",
       "XX1T3[Y Test Array] ---> XX3P3[Y Test Array]\n",
       "end\n",
       "\n",
       "```"
      ],
      "text/plain": [
       "<IPython.core.display.Markdown object>"
      ]
     },
     "metadata": {},
     "output_type": "display_data"
    }
   ],
   "source": [
    "display(Markdown(project.systems_map[\"Load MNIST System\"].create_mermaid_graphic()[0]))"
   ]
  },
  {
   "cell_type": "code",
   "execution_count": null,
   "metadata": {},
   "outputs": [
    {
     "name": "stdout",
     "output_type": "stream",
     "text": [
      "Zoomed out:\n"
     ]
    },
    {
     "data": {
      "text/markdown": [
       "```mermaid\n",
       "---\n",
       "config:\n",
       "    layout: elk\n",
       "---\n",
       "graph LR\n",
       "subgraph G0[MNIST Experiment - Experiment Block]\n",
       "direction LR\n",
       "X0[MNIST Experiment]\n",
       "subgraph G0P[Ports]\n",
       "direction TB\n",
       "XX0P0[Model]\n",
       "end\n",
       "XX0P0[Model] o--o X0\n",
       "subgraph G0T[Terminals]\n",
       "direction TB\n",
       "XX0T0[Evaluation Metrics]\n",
       "end\n",
       "X0 o--o XX0T0[Evaluation Metrics]\n",
       "end\n",
       "\n",
       "```"
      ],
      "text/plain": [
       "<IPython.core.display.Markdown object>"
      ]
     },
     "metadata": {},
     "output_type": "display_data"
    },
    {
     "name": "stdout",
     "output_type": "stream",
     "text": [
      "Zoomed in:\n"
     ]
    },
    {
     "data": {
      "text/markdown": [
       "```mermaid\n",
       "---\n",
       "config:\n",
       "    layout: elk\n",
       "---\n",
       "graph LR\n",
       "subgraph GC0[MNIST Experiment - Experiment Block]\n",
       "direction LR\n",
       "subgraph GS0[MNIST Experiment System]\n",
       "subgraph G1[Load MNIST - Load Supervised Features Block]\n",
       "direction LR\n",
       "X1[Load MNIST]\n",
       "subgraph G1P[Ports]\n",
       "direction TB\n",
       "end\n",
       "subgraph G1T[Terminals]\n",
       "direction TB\n",
       "XX1T0[X Train Array]\n",
       "XX1T1[Y Train Array]\n",
       "XX1T2[X Test Array]\n",
       "XX1T3[Y Test Array]\n",
       "end\n",
       "X1 o--o XX1T0[X Train Array]\n",
       "X1 o--o XX1T1[Y Train Array]\n",
       "X1 o--o XX1T2[X Test Array]\n",
       "X1 o--o XX1T3[Y Test Array]\n",
       "end\n",
       "subgraph G2[Default Supervised Learning - Supervised Learning Block]\n",
       "direction LR\n",
       "X2[Default Supervised Learning]\n",
       "subgraph G2P[Ports]\n",
       "direction TB\n",
       "XX2P0[Model]\n",
       "XX2P1[X Train Array]\n",
       "XX2P2[Y Train Array]\n",
       "XX2P3[X Test Array]\n",
       "XX2P4[Y Test Array]\n",
       "end\n",
       "XX2P0[Model] o--o X2\n",
       "XX2P1[X Train Array] o--o X2\n",
       "XX2P2[Y Train Array] o--o X2\n",
       "XX2P3[X Test Array] o--o X2\n",
       "XX2P4[Y Test Array] o--o X2\n",
       "subgraph G2T[Terminals]\n",
       "direction TB\n",
       "XX2T0[Evaluation Metrics]\n",
       "end\n",
       "X2 o--o XX2T0[Evaluation Metrics]\n",
       "end\n",
       "XX1T0[X Train Array] ---> XX2P1[X Train Array]\n",
       "XX1T1[Y Train Array] ---> XX2P2[Y Train Array]\n",
       "XX1T2[X Test Array] ---> XX2P3[X Test Array]\n",
       "XX1T3[Y Test Array] ---> XX2P4[Y Test Array]\n",
       "end\n",
       "subgraph GC0P[Ports]\n",
       "direction TB\n",
       "X1P0[Model]\n",
       "end\n",
       "X1P0[Model] o--o XX2P0[Model]\n",
       "subgraph GC0T[Terminals]\n",
       "direction TB\n",
       "X1T0[Evaluation Metrics]\n",
       "end\n",
       "XX2T0[Evaluation Metrics] o--o X1T0[Evaluation Metrics]\n",
       "end\n",
       "\n",
       "```"
      ],
      "text/plain": [
       "<IPython.core.display.Markdown object>"
      ]
     },
     "metadata": {},
     "output_type": "display_data"
    },
    {
     "name": "stdout",
     "output_type": "stream",
     "text": [
      "Zoomed in:\n"
     ]
    },
    {
     "data": {
      "text/markdown": [
       "```mermaid\n",
       "---\n",
       "config:\n",
       "    layout: elk\n",
       "---\n",
       "graph LR\n",
       "subgraph GC0[MNIST Experiment - Experiment Block]\n",
       "direction LR\n",
       "subgraph GS0[MNIST Experiment System]\n",
       "subgraph G1[Load MNIST - Load Supervised Features Block]\n",
       "direction LR\n",
       "X1[Load MNIST]\n",
       "subgraph G1P[Ports]\n",
       "direction TB\n",
       "end\n",
       "subgraph G1T[Terminals]\n",
       "direction TB\n",
       "XX1T0[X Train Array]\n",
       "XX1T1[Y Train Array]\n",
       "XX1T2[X Test Array]\n",
       "XX1T3[Y Test Array]\n",
       "end\n",
       "X1 o--o XX1T0[X Train Array]\n",
       "X1 o--o XX1T1[Y Train Array]\n",
       "X1 o--o XX1T2[X Test Array]\n",
       "X1 o--o XX1T3[Y Test Array]\n",
       "end\n",
       "subgraph G2[Default Supervised Learning - Supervised Learning Block]\n",
       "direction LR\n",
       "X2[Default Supervised Learning]\n",
       "subgraph G2P[Ports]\n",
       "direction TB\n",
       "XX2P0[Model]\n",
       "XX2P1[X Train Array]\n",
       "XX2P2[Y Train Array]\n",
       "XX2P3[X Test Array]\n",
       "XX2P4[Y Test Array]\n",
       "end\n",
       "XX2P0[Model] o--o X2\n",
       "XX2P1[X Train Array] o--o X2\n",
       "XX2P2[Y Train Array] o--o X2\n",
       "XX2P3[X Test Array] o--o X2\n",
       "XX2P4[Y Test Array] o--o X2\n",
       "subgraph G2T[Terminals]\n",
       "direction TB\n",
       "XX2T0[Evaluation Metrics]\n",
       "end\n",
       "X2 o--o XX2T0[Evaluation Metrics]\n",
       "end\n",
       "XX1T0[X Train Array] ---> XX2P1[X Train Array]\n",
       "XX1T1[Y Train Array] ---> XX2P2[Y Train Array]\n",
       "XX1T2[X Test Array] ---> XX2P3[X Test Array]\n",
       "XX1T3[Y Test Array] ---> XX2P4[Y Test Array]\n",
       "end\n",
       "subgraph GC0P[Ports]\n",
       "direction TB\n",
       "X1P0[Model]\n",
       "end\n",
       "X1P0[Model] o--o XX2P0[Model]\n",
       "subgraph GC0T[Terminals]\n",
       "direction TB\n",
       "X1T0[Evaluation Metrics]\n",
       "end\n",
       "XX2T0[Evaluation Metrics] o--o X1T0[Evaluation Metrics]\n",
       "end\n",
       "\n",
       "```"
      ],
      "text/plain": [
       "<IPython.core.display.Markdown object>"
      ]
     },
     "metadata": {},
     "output_type": "display_data"
    }
   ],
   "source": [
    "print(\"Zoomed out:\")\n",
    "display(Markdown(project.processors_map[\"MNIST Experiment\"].create_mermaid_graphic()[0]))\n",
    "print(\"Zoomed in:\")\n",
    "display(Markdown(project.processors_map[\"MNIST Experiment\"].create_mermaid_graphic_composite()[0]))"
   ]
  },
  {
   "cell_type": "code",
   "execution_count": null,
   "metadata": {},
   "outputs": [],
   "source": []
  }
 ],
 "metadata": {
  "kernelspec": {
   "display_name": "MSML",
   "language": "python",
   "name": "python3"
  },
  "language_info": {
   "codemirror_mode": {
    "name": "ipython",
    "version": 3
   },
   "file_extension": ".py",
   "mimetype": "text/x-python",
   "name": "python",
   "nbconvert_exporter": "python",
   "pygments_lexer": "ipython3",
   "version": "3.9.19"
  }
 },
 "nbformat": 4,
 "nbformat_minor": 2
}
