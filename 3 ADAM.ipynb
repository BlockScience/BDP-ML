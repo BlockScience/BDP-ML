{
 "cells": [
  {
   "cell_type": "markdown",
   "metadata": {},
   "source": [
    "# ADAM Optimizer\n",
    "\n",
    "A common optimizer used in machine learning is ADAM. We have created the components for it in a separate file of ADAM.json and will use that to showcase it here."
   ]
  },
  {
   "cell_type": "code",
   "execution_count": 1,
   "metadata": {},
   "outputs": [],
   "source": [
    "import json\n",
    "from pybdp import load_project\n",
    "from IPython.display import Markdown\n",
    "from copy import deepcopy\n",
    "from pprint import pprint\n",
    "\n",
    "# Load the project JSON from file\n",
    "with open(\"ADAM.json\", \"r\") as f:\n",
    "    project_json = json.load(f)\n",
    "\n",
    "# Load the project\n",
    "project = load_project(project_json)"
   ]
  },
  {
   "cell_type": "code",
   "execution_count": 4,
   "metadata": {},
   "outputs": [
    {
     "name": "stdout",
     "output_type": "stream",
     "text": [
      "-----Add the following to your JSON-----\n",
      "\n",
      "Add to blocks:\n",
      "{'Codomain': ['theta'],\n",
      " 'Description': 'A lazy loaded composite processor block for ADAM System',\n",
      " 'Domain': ['theta'],\n",
      " 'ID': 'ADAM System-CP Block',\n",
      " 'Name': 'ADAM System-CP Block'}\n",
      "\n",
      "Add to processors:\n",
      "{'Description': 'A lazy loaded composite processor block for ADAM System',\n",
      " 'ID': 'ADAM System-CP',\n",
      " 'Name': 'ADAM System-CP',\n",
      " 'Parent': 'ADAM System-CP Block',\n",
      " 'Ports': ['theta'],\n",
      " 'Subsystem': {'Port Mappings': [{'Index': 0,\n",
      "                                  'Processor': 'ADAM Initialization'}],\n",
      "               'System ID': 'ADAM System',\n",
      "               'Terminal Mappings': [{'Index': 0,\n",
      "                                      'Processor': 'ADAM Update Loop'}]},\n",
      " 'Terminals': ['theta']}\n"
     ]
    }
   ],
   "source": [
    "project.systems_map[\"ADAM System\"].make_processor_lazy()"
   ]
  },
  {
   "cell_type": "code",
   "execution_count": null,
   "metadata": {},
   "outputs": [],
   "source": []
  }
 ],
 "metadata": {
  "kernelspec": {
   "display_name": "MSML",
   "language": "python",
   "name": "python3"
  },
  "language_info": {
   "codemirror_mode": {
    "name": "ipython",
    "version": 3
   },
   "file_extension": ".py",
   "mimetype": "text/x-python",
   "name": "python",
   "nbconvert_exporter": "python",
   "pygments_lexer": "ipython3",
   "version": "3.9.19"
  }
 },
 "nbformat": 4,
 "nbformat_minor": 2
}
