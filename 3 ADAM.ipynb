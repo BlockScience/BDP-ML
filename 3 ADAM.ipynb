{
 "cells": [
  {
   "cell_type": "markdown",
   "metadata": {},
   "source": [
    "# ADAM Optimizer\n",
    "\n",
    "A common optimizer used in machine learning is ADAM. We have created the components for it in a separate file of ADAM.json and will use that to showcase it here."
   ]
  },
  {
   "cell_type": "code",
   "execution_count": 1,
   "metadata": {},
   "outputs": [],
   "source": [
    "import json\n",
    "from pybdp import load_project\n",
    "from IPython.display import Markdown\n",
    "from copy import deepcopy\n",
    "from pprint import pprint\n",
    "\n",
    "# Load the project JSON from file\n",
    "with open(\"ADAM.json\", \"r\") as f:\n",
    "    project_json = json.load(f)\n",
    "\n",
    "# Load the project\n",
    "project = load_project(project_json)"
   ]
  },
  {
   "cell_type": "markdown",
   "metadata": {},
   "source": [
    "## High Level\n",
    "\n",
    "At a high level, the ADAM algorithm initializes the some parameters and then loops updating theta."
   ]
  },
  {
   "cell_type": "code",
   "execution_count": 9,
   "metadata": {},
   "outputs": [
    {
     "name": "stdout",
     "output_type": "stream",
     "text": [
      "Zoomed out:\n"
     ]
    },
    {
     "data": {
      "text/markdown": [
       "```mermaid\n",
       "---\n",
       "config:\n",
       "    layout: elk\n",
       "---\n",
       "graph LR\n",
       "subgraph G0[ADAM - ADAM Block Block]\n",
       "direction LR\n",
       "X0[ADAM]\n",
       "subgraph G0P[Ports]\n",
       "direction TB\n",
       "XX0P0[theta]\n",
       "end\n",
       "XX0P0[theta] o--o X0\n",
       "subgraph G0T[Terminals]\n",
       "direction TB\n",
       "XX0T0[theta]\n",
       "end\n",
       "X0 o--o XX0T0[theta]\n",
       "end\n",
       "\n",
       "```"
      ],
      "text/plain": [
       "<IPython.core.display.Markdown object>"
      ]
     },
     "metadata": {},
     "output_type": "display_data"
    },
    {
     "name": "stdout",
     "output_type": "stream",
     "text": [
      "\n",
      "Zoomed in:\n"
     ]
    },
    {
     "data": {
      "text/markdown": [
       "```mermaid\n",
       "---\n",
       "config:\n",
       "    layout: elk\n",
       "---\n",
       "graph LR\n",
       "subgraph GC0[ADAM - ADAM Block Block]\n",
       "direction LR\n",
       "subgraph GS0[ADAM System]\n",
       "subgraph G1[ADAM Initialization - ADAM Initialization Block Block]\n",
       "direction LR\n",
       "X1[ADAM Initialization]\n",
       "subgraph G1P[Ports]\n",
       "direction TB\n",
       "XX1P0[theta]\n",
       "end\n",
       "XX1P0[theta] o--o X1\n",
       "subgraph G1T[Terminals]\n",
       "direction TB\n",
       "XX1T0[theta]\n",
       "XX1T1[m]\n",
       "XX1T2[v]\n",
       "XX1T3[t]\n",
       "end\n",
       "X1 o--o XX1T0[theta]\n",
       "X1 o--o XX1T1[m]\n",
       "X1 o--o XX1T2[v]\n",
       "X1 o--o XX1T3[t]\n",
       "end\n",
       "subgraph G2[ADAM Update Loop - ADAM Update Loop Block Block]\n",
       "direction LR\n",
       "X2[ADAM Update Loop]\n",
       "subgraph G2P[Ports]\n",
       "direction TB\n",
       "XX2P0[theta]\n",
       "XX2P1[m]\n",
       "XX2P2[v]\n",
       "XX2P3[t]\n",
       "end\n",
       "XX2P0[theta] o--o X2\n",
       "XX2P1[m] o--o X2\n",
       "XX2P2[v] o--o X2\n",
       "XX2P3[t] o--o X2\n",
       "subgraph G2T[Terminals]\n",
       "direction TB\n",
       "XX2T0[theta]\n",
       "end\n",
       "X2 o--o XX2T0[theta]\n",
       "end\n",
       "XX1T0[theta] ---> XX2P0[theta]\n",
       "XX1T1[m] ---> XX2P1[m]\n",
       "XX1T2[v] ---> XX2P2[v]\n",
       "XX1T3[t] ---> XX2P3[t]\n",
       "end\n",
       "subgraph GC0P[Ports]\n",
       "direction TB\n",
       "X1P0[theta]\n",
       "end\n",
       "X1P0[theta] o--o XX1P0[theta]\n",
       "subgraph GC0T[Terminals]\n",
       "direction TB\n",
       "X1T0[theta]\n",
       "end\n",
       "XX2T0[theta] o--o X1T0[theta]\n",
       "end\n",
       "\n",
       "```"
      ],
      "text/plain": [
       "<IPython.core.display.Markdown object>"
      ]
     },
     "metadata": {},
     "output_type": "display_data"
    }
   ],
   "source": [
    "print(\"Zoomed out:\")\n",
    "display(Markdown(project.processors_map[\"ADAM\"].create_mermaid_graphic()[0]))\n",
    "print()\n",
    "print(\"Zoomed in:\")\n",
    "display(Markdown(project.processors_map[\"ADAM\"].create_mermaid_graphic_composite()[0]))"
   ]
  },
  {
   "cell_type": "code",
   "execution_count": null,
   "metadata": {},
   "outputs": [],
   "source": []
  }
 ],
 "metadata": {
  "kernelspec": {
   "display_name": "MSML",
   "language": "python",
   "name": "python3"
  },
  "language_info": {
   "codemirror_mode": {
    "name": "ipython",
    "version": 3
   },
   "file_extension": ".py",
   "mimetype": "text/x-python",
   "name": "python",
   "nbconvert_exporter": "python",
   "pygments_lexer": "ipython3",
   "version": "3.9.19"
  }
 },
 "nbformat": 4,
 "nbformat_minor": 2
}
