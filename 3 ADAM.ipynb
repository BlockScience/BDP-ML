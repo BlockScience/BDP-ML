{
 "cells": [
  {
   "cell_type": "markdown",
   "metadata": {},
   "source": [
    "# ADAM Optimizer\n",
    "\n",
    "A common optimizer used in machine learning is ADAM. We have created the components for it in a separate file of ADAM.json and will use that to showcase it here."
   ]
  },
  {
   "cell_type": "code",
   "execution_count": 1,
   "metadata": {},
   "outputs": [],
   "source": [
    "import json\n",
    "from pybdp import load_project\n",
    "from IPython.display import Markdown\n",
    "from copy import deepcopy\n",
    "from pprint import pprint\n",
    "\n",
    "# Load the project JSON from file\n",
    "with open(\"ADAM.json\", \"r\") as f:\n",
    "    project_json = json.load(f)\n",
    "\n",
    "# Load the project\n",
    "project = load_project(project_json)"
   ]
  },
  {
   "cell_type": "markdown",
   "metadata": {},
   "source": [
    "## High Level\n",
    "\n",
    "At a high level, the ADAM algorithm initializes the some parameters and then loops updating theta."
   ]
  },
  {
   "cell_type": "code",
   "execution_count": 2,
   "metadata": {},
   "outputs": [
    {
     "name": "stdout",
     "output_type": "stream",
     "text": [
      "Zoomed out:\n"
     ]
    },
    {
     "data": {
      "text/markdown": [
       "```mermaid\n",
       "---\n",
       "config:\n",
       "    layout: elk\n",
       "---\n",
       "graph LR\n",
       "subgraph G0[ADAM - ADAM Block Block]\n",
       "direction LR\n",
       "X0[ADAM]\n",
       "subgraph G0P[Ports]\n",
       "direction TB\n",
       "XX0P0[theta]\n",
       "end\n",
       "XX0P0[theta] o--o X0\n",
       "subgraph G0T[Terminals]\n",
       "direction TB\n",
       "XX0T0[theta]\n",
       "end\n",
       "X0 o--o XX0T0[theta]\n",
       "end\n",
       "\n",
       "```"
      ],
      "text/plain": [
       "<IPython.core.display.Markdown object>"
      ]
     },
     "metadata": {},
     "output_type": "display_data"
    },
    {
     "name": "stdout",
     "output_type": "stream",
     "text": [
      "\n",
      "Zoomed in:\n"
     ]
    },
    {
     "data": {
      "text/markdown": [
       "```mermaid\n",
       "---\n",
       "config:\n",
       "    layout: elk\n",
       "---\n",
       "graph LR\n",
       "subgraph GC0[ADAM - ADAM Block Block]\n",
       "direction LR\n",
       "subgraph GS0[ADAM System]\n",
       "subgraph G1[ADAM Initialization - ADAM Initialization Block Block]\n",
       "direction LR\n",
       "X1[ADAM Initialization]\n",
       "subgraph G1P[Ports]\n",
       "direction TB\n",
       "XX1P0[theta]\n",
       "end\n",
       "XX1P0[theta] o--o X1\n",
       "subgraph G1T[Terminals]\n",
       "direction TB\n",
       "XX1T0[theta]\n",
       "XX1T1[m]\n",
       "XX1T2[v]\n",
       "XX1T3[t]\n",
       "end\n",
       "X1 o--o XX1T0[theta]\n",
       "X1 o--o XX1T1[m]\n",
       "X1 o--o XX1T2[v]\n",
       "X1 o--o XX1T3[t]\n",
       "end\n",
       "subgraph G2[ADAM Update Loop - ADAM Update Loop Block Block]\n",
       "direction LR\n",
       "X2[ADAM Update Loop]\n",
       "subgraph G2P[Ports]\n",
       "direction TB\n",
       "XX2P0[theta]\n",
       "XX2P1[m]\n",
       "XX2P2[v]\n",
       "XX2P3[t]\n",
       "end\n",
       "XX2P0[theta] o--o X2\n",
       "XX2P1[m] o--o X2\n",
       "XX2P2[v] o--o X2\n",
       "XX2P3[t] o--o X2\n",
       "subgraph G2T[Terminals]\n",
       "direction TB\n",
       "XX2T0[theta]\n",
       "end\n",
       "X2 o--o XX2T0[theta]\n",
       "end\n",
       "XX1T0[theta] ---> XX2P0[theta]\n",
       "XX1T1[m] ---> XX2P1[m]\n",
       "XX1T2[v] ---> XX2P2[v]\n",
       "XX1T3[t] ---> XX2P3[t]\n",
       "end\n",
       "subgraph GC0P[Ports]\n",
       "direction TB\n",
       "X1P0[theta]\n",
       "end\n",
       "X1P0[theta] o--o XX1P0[theta]\n",
       "subgraph GC0T[Terminals]\n",
       "direction TB\n",
       "X1T0[theta]\n",
       "end\n",
       "XX2T0[theta] o--o X1T0[theta]\n",
       "end\n",
       "\n",
       "```"
      ],
      "text/plain": [
       "<IPython.core.display.Markdown object>"
      ]
     },
     "metadata": {},
     "output_type": "display_data"
    }
   ],
   "source": [
    "print(\"Zoomed out:\")\n",
    "display(Markdown(project.processors_map[\"ADAM\"].create_mermaid_graphic()[0]))\n",
    "print()\n",
    "print(\"Zoomed in:\")\n",
    "display(Markdown(project.processors_map[\"ADAM\"].create_mermaid_graphic_composite()[0]))"
   ]
  },
  {
   "cell_type": "code",
   "execution_count": 5,
   "metadata": {},
   "outputs": [
    {
     "data": {
      "text/markdown": [
       "```mermaid\n",
       "---\n",
       "config:\n",
       "    layout: elk\n",
       "---\n",
       "graph LR\n",
       "subgraph GS0[ADAM Update Step System]\n",
       "subgraph G0[Get Function Gradients - Get Gradients Block]\n",
       "direction LR\n",
       "X0[Get Function Gradients]\n",
       "subgraph G0P[Ports]\n",
       "direction TB\n",
       "XX0P0[theta]\n",
       "end\n",
       "XX0P0[theta] o--o X0\n",
       "subgraph G0T[Terminals]\n",
       "direction TB\n",
       "XX0T0[g]\n",
       "end\n",
       "X0 o--o XX0T0[g]\n",
       "end\n",
       "subgraph G1[Exponential Smoothing First Moment - Update Biased First Moment Block]\n",
       "direction LR\n",
       "X1[Exponential Smoothing First Moment]\n",
       "subgraph G1P[Ports]\n",
       "direction TB\n",
       "XX1P0[m]\n",
       "XX1P1[g]\n",
       "end\n",
       "XX1P0[m] o--o X1\n",
       "XX1P1[g] o--o X1\n",
       "subgraph G1T[Terminals]\n",
       "direction TB\n",
       "XX1T0[m]\n",
       "end\n",
       "X1 o--o XX1T0[m]\n",
       "end\n",
       "subgraph G2[Exponential Smoothing Second Moment - Update Biased Second Moment Block]\n",
       "direction LR\n",
       "X2[Exponential Smoothing Second Moment]\n",
       "subgraph G2P[Ports]\n",
       "direction TB\n",
       "XX2P0[v]\n",
       "XX2P1[g]\n",
       "end\n",
       "XX2P0[v] o--o X2\n",
       "XX2P1[g] o--o X2\n",
       "subgraph G2T[Terminals]\n",
       "direction TB\n",
       "XX2T0[v]\n",
       "end\n",
       "X2 o--o XX2T0[v]\n",
       "end\n",
       "subgraph G3[Increment Timestep - Update Timestep Block]\n",
       "direction LR\n",
       "X3[Increment Timestep]\n",
       "subgraph G3P[Ports]\n",
       "direction TB\n",
       "XX3P0[t]\n",
       "end\n",
       "XX3P0[t] o--o X3\n",
       "subgraph G3T[Terminals]\n",
       "direction TB\n",
       "XX3T0[t]\n",
       "end\n",
       "X3 o--o XX3T0[t]\n",
       "end\n",
       "subgraph G4[Exponential Decay First Moment Bias Correction - Compute Bias-Corrected First Moment Block]\n",
       "direction LR\n",
       "X4[Exponential Decay First Moment Bias Correction]\n",
       "subgraph G4P[Ports]\n",
       "direction TB\n",
       "XX4P0[m]\n",
       "XX4P1[t]\n",
       "end\n",
       "XX4P0[m] o--o X4\n",
       "XX4P1[t] o--o X4\n",
       "subgraph G4T[Terminals]\n",
       "direction TB\n",
       "XX4T0[m]\n",
       "end\n",
       "X4 o--o XX4T0[m]\n",
       "end\n",
       "subgraph G5[Exponential Decay Second Moment Bias Correction - Compute Bias-Corrected Second Moment Block]\n",
       "direction LR\n",
       "X5[Exponential Decay Second Moment Bias Correction]\n",
       "subgraph G5P[Ports]\n",
       "direction TB\n",
       "XX5P0[v]\n",
       "XX5P1[t]\n",
       "end\n",
       "XX5P0[v] o--o X5\n",
       "XX5P1[t] o--o X5\n",
       "subgraph G5T[Terminals]\n",
       "direction TB\n",
       "XX5T0[v]\n",
       "end\n",
       "X5 o--o XX5T0[v]\n",
       "end\n",
       "subgraph G6[ADAM Theta Update - Update Theta Block]\n",
       "direction LR\n",
       "X6[ADAM Theta Update]\n",
       "subgraph G6P[Ports]\n",
       "direction TB\n",
       "XX6P0[m]\n",
       "XX6P1[v]\n",
       "XX6P2[theta]\n",
       "end\n",
       "XX6P0[m] o--o X6\n",
       "XX6P1[v] o--o X6\n",
       "XX6P2[theta] o--o X6\n",
       "subgraph G6T[Terminals]\n",
       "direction TB\n",
       "XX6T0[theta]\n",
       "end\n",
       "X6 o--o XX6T0[theta]\n",
       "end\n",
       "XX4T0[m] ---> XX6P0[m]\n",
       "XX5T0[v] ---> XX6P1[v]\n",
       "XX3T0[t] ---> XX4P1[t]\n",
       "XX3T0[t] ---> XX5P1[t]\n",
       "XX1T0[m] ---> XX4P0[m]\n",
       "XX2T0[v] ---> XX5P0[v]\n",
       "XX0T0[g] ---> XX1P1[g]\n",
       "XX0T0[g] ---> XX2P1[g]\n",
       "end\n",
       "\n",
       "```"
      ],
      "text/plain": [
       "<IPython.core.display.Markdown object>"
      ]
     },
     "metadata": {},
     "output_type": "display_data"
    }
   ],
   "source": [
    "display(Markdown(project.systems_map[\"ADAM Update Step System\"].create_mermaid_graphic()[0]))"
   ]
  },
  {
   "cell_type": "code",
   "execution_count": 6,
   "metadata": {},
   "outputs": [
    {
     "name": "stdout",
     "output_type": "stream",
     "text": [
      "-----Add the following to your JSON-----\n",
      "\n",
      "Add to blocks:\n",
      "{'Codomain': ['theta'],\n",
      " 'Description': 'A lazy loaded composite processor block for ADAM Update Step '\n",
      "                'System',\n",
      " 'Domain': ['theta', 'm', 'v', 't', 'theta'],\n",
      " 'ID': 'ADAM Update Step System-CP Block',\n",
      " 'Name': 'ADAM Update Step System-CP Block'}\n",
      "\n",
      "Add to processors:\n",
      "{'Description': 'A lazy loaded composite processor block for ADAM Update Step '\n",
      "                'System',\n",
      " 'ID': 'ADAM Update Step System-CP',\n",
      " 'Name': 'ADAM Update Step System-CP',\n",
      " 'Parent': 'ADAM Update Step System-CP Block',\n",
      " 'Ports': ['theta', 'm', 'v', 't', 'theta'],\n",
      " 'Subsystem': {'Port Mappings': [{'Index': 0,\n",
      "                                  'Processor': 'Get Function Gradients'},\n",
      "                                 {'Index': 0,\n",
      "                                  'Processor': 'Exponential Smoothing First '\n",
      "                                               'Moment'},\n",
      "                                 {'Index': 0,\n",
      "                                  'Processor': 'Exponential Smoothing Second '\n",
      "                                               'Moment'},\n",
      "                                 {'Index': 0,\n",
      "                                  'Processor': 'Increment Timestep'},\n",
      "                                 {'Index': 2,\n",
      "                                  'Processor': 'ADAM Theta Update'}],\n",
      "               'System ID': 'ADAM Update Step System',\n",
      "               'Terminal Mappings': [{'Index': 0,\n",
      "                                      'Processor': 'ADAM Theta Update'}]},\n",
      " 'Terminals': ['theta']}\n"
     ]
    }
   ],
   "source": [
    "project.systems_map[\"ADAM Update Step System\"].make_processor_lazy()"
   ]
  },
  {
   "cell_type": "code",
   "execution_count": null,
   "metadata": {},
   "outputs": [],
   "source": []
  }
 ],
 "metadata": {
  "kernelspec": {
   "display_name": "MSML",
   "language": "python",
   "name": "python3"
  },
  "language_info": {
   "codemirror_mode": {
    "name": "ipython",
    "version": 3
   },
   "file_extension": ".py",
   "mimetype": "text/x-python",
   "name": "python",
   "nbconvert_exporter": "python",
   "pygments_lexer": "ipython3",
   "version": "3.9.19"
  }
 },
 "nbformat": 4,
 "nbformat_minor": 2
}
